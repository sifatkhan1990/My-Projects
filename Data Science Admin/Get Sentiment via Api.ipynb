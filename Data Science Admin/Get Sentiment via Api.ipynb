{
 "cells": [
  {
   "cell_type": "code",
   "execution_count": 14,
   "metadata": {},
   "outputs": [],
   "source": [
    "# General:\n",
    "import tweepy           # To consume Twitter's API\n",
    "import pandas as pd     # To handle data\n",
    "import numpy as np      # For number computing\n",
    "import dill as pickle   # For saving trained models\n",
    "\n",
    "# For plotting and visualization:\n",
    "from IPython.display import display\n",
    "import matplotlib.pyplot as plt\n",
    "import seaborn as sns\n",
    "%matplotlib inline\n",
    "\n",
    "#machine learning & text \n",
    "from nltk.tokenize import WordPunctTokenizer\n",
    "from bs4 import BeautifulSoup\n",
    "import re\n",
    "from sklearn.feature_extraction.text import CountVectorizer\n",
    "from sklearn.feature_extraction.text import TfidfVectorizer\n",
    "from sklearn.cross_validation import cross_val_score\n",
    "from sklearn.linear_model import LogisticRegression\n",
    "from sklearn import model_selection, svm, metrics, preprocessing, grid_search"
   ]
  },
  {
   "cell_type": "code",
   "execution_count": 15,
   "metadata": {},
   "outputs": [
    {
     "data": {
      "text/plain": [
       "0.0"
      ]
     },
     "execution_count": 15,
     "metadata": {},
     "output_type": "execute_result"
    }
   ],
   "source": [
    "def get_sentiment(text):\n",
    "    \n",
    "    # model paths\n",
    "    path = '/Users/sifatkhan/desktop/indonesia project/models/'\n",
    "    file_cv_vect_ngram_model = \"cv_vect_ngram_model.pk\"\n",
    "    file_sentiment_model1 = \"sentiment_model1.pk\"\n",
    "    \n",
    "    #load stored models\n",
    "    with open(path + file_cv_vect_ngram_model ,'rb') as file_cv_model:\n",
    "        loaded_cv_model = pickle.load(file_cv_model)\n",
    "    with open(path + file_sentiment_model1 ,'rb') as file_sentiment_model1:\n",
    "        loaded_sentiment_model1 = pickle.load(file_sentiment_model1)\n",
    "    \n",
    "    #execute models\n",
    "    text= loaded_cv_model.transform([text])\n",
    "    sentiment = loaded_sentiment_model1.predict(text)[0]\n",
    "    \n",
    "    return float(sentiment)\n",
    "\n",
    "get_sentiment('auto cars')    "
   ]
  },
  {
   "cell_type": "code",
   "execution_count": 16,
   "metadata": {},
   "outputs": [],
   "source": [
    "from flask import Flask, request\n",
    "from flask_restplus import Resource, Api, fields\n",
    "from flask_cors import CORS"
   ]
  },
  {
   "cell_type": "code",
   "execution_count": 17,
   "metadata": {},
   "outputs": [
    {
     "data": {
      "text/plain": [
       "<flask_cors.extension.CORS at 0x1a1c3d6b70>"
      ]
     },
     "execution_count": 17,
     "metadata": {},
     "output_type": "execute_result"
    }
   ],
   "source": [
    "app = Flask(__name__)\n",
    "api = Api(app, version='1.0', title='Sentiment', \n",
    "          description='Get Negative Sentiment (Indo Election)', \n",
    "          validate=True)\n",
    "CORS(app)"
   ]
  },
  {
   "cell_type": "code",
   "execution_count": 18,
   "metadata": {},
   "outputs": [],
   "source": [
    "desc_fields = api.model('desc_fields', {\n",
    "    # 'unique_id': fields.String(required=True),\n",
    "    #'role': fields.String(required=True),\n",
    "    'desc': fields.String(required=True)\n",
    "    # 'sector': fields.String(required=True),\n",
    "    # 'track': fields.String(required=True)\n",
    "})"
   ]
  },
  {
   "cell_type": "code",
   "execution_count": 19,
   "metadata": {},
   "outputs": [],
   "source": [
    "response_model = api.model('response_model', {\n",
    "    # 'unique_id': fields.String(required=True),\n",
    "    #'role': fields.String(required=True),\n",
    "    'desc': fields.String(required=True),\n",
    "    'sentiment': fields.Integer(required=True),\n",
    "    #'track': fields.String(required=True),\n",
    "    #'new_role': fields.String(required=True)\n",
    "})"
   ]
  },
  {
   "cell_type": "code",
   "execution_count": 20,
   "metadata": {},
   "outputs": [],
   "source": [
    "@api.route('/get_sentiment')                   \n",
    "class JobRole(Resource):  \n",
    "    @api.expect(desc_fields, validate=True)\n",
    "    @api.doc(id='sentiment_extraction')\n",
    "    @api.response(200, 'Success', response_model)\n",
    "#    @api.response(200, 'Success') \n",
    "    def post(self):    \n",
    "        args = request.json\n",
    "        \n",
    "        # trainee_native_id = args['unique_id']\n",
    "        # sector = args['sector']\n",
    "        # track = args['track']\n",
    "        #job_role = args['role']\n",
    "        text = args['desc'] \n",
    "\n",
    "        # new_sector, new_track, new_role = hhc.getRole(trainee_native_id, sector, track, job_role, job_description)\n",
    "        sentiment = get_sentiment(text)\n",
    "        #new_sector, new_track, new_role = hhc.getRole(job_role, job_description)\n",
    "               \n",
    "        # response_model['unique_id'] = args['unique_id']\n",
    "        #response_model['role'] = args['role']\n",
    "        response_model['desc'] = args['desc']\n",
    "        response_model['sentiment'] = sentiment\n",
    "        #response_model['track'] = 'new_track'\n",
    "        #response_model['new_role'] = 'new_role'\n",
    "        \n",
    "        return response_model"
   ]
  },
  {
   "cell_type": "code",
   "execution_count": 21,
   "metadata": {},
   "outputs": [
    {
     "name": "stderr",
     "output_type": "stream",
     "text": [
      " * Running on http://127.0.0.1:5000/ (Press CTRL+C to quit)\n",
      "127.0.0.1 - - [19/Nov/2018 17:05:42] \"\u001b[37mGET / HTTP/1.1\u001b[0m\" 200 -\n",
      "127.0.0.1 - - [19/Nov/2018 17:05:42] \"\u001b[37mGET /swagger.json HTTP/1.1\u001b[0m\" 200 -\n",
      "127.0.0.1 - - [19/Nov/2018 17:05:57] \"\u001b[37mPOST /get_sentiment HTTP/1.1\u001b[0m\" 200 -\n"
     ]
    }
   ],
   "source": [
    "if __name__ == '__main__':\n",
    "    app.run(debug=True, use_reloader=False)"
   ]
  },
  {
   "cell_type": "code",
   "execution_count": null,
   "metadata": {},
   "outputs": [],
   "source": []
  }
 ],
 "metadata": {
  "kernelspec": {
   "display_name": "Python 3",
   "language": "python",
   "name": "python3"
  },
  "language_info": {
   "codemirror_mode": {
    "name": "ipython",
    "version": 3
   },
   "file_extension": ".py",
   "mimetype": "text/x-python",
   "name": "python",
   "nbconvert_exporter": "python",
   "pygments_lexer": "ipython3",
   "version": "3.6.5"
  }
 },
 "nbformat": 4,
 "nbformat_minor": 2
}
