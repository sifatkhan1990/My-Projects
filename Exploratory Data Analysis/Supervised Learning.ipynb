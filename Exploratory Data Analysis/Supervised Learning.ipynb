{
 "cells": [
  {
   "cell_type": "code",
   "execution_count": 259,
   "metadata": {},
   "outputs": [
    {
     "name": "stdout",
     "output_type": "stream",
     "text": [
      "Collecting mlxtend\n",
      "\u001b[?25l  Downloading https://files.pythonhosted.org/packages/c0/ca/54fe0ae783ce81a467710d1c5fb41cfca075121139b48327b807020dc40c/mlxtend-0.16.0-py2.py3-none-any.whl (1.3MB)\n",
      "\u001b[K    100% |████████████████████████████████| 1.3MB 5.4MB/s eta 0:00:01\n",
      "\u001b[?25hRequirement already satisfied: scikit-learn>=0.18 in /anaconda3/lib/python3.6/site-packages (from mlxtend) (0.20.2)\n",
      "Requirement already satisfied: scipy>=0.17 in /anaconda3/lib/python3.6/site-packages (from mlxtend) (1.3.0)\n",
      "Requirement already satisfied: pandas>=0.17.1 in /anaconda3/lib/python3.6/site-packages (from mlxtend) (0.23.4)\n",
      "Requirement already satisfied: matplotlib>=1.5.1 in /anaconda3/lib/python3.6/site-packages (from mlxtend) (2.2.3)\n",
      "Requirement already satisfied: numpy>=1.10.4 in /anaconda3/lib/python3.6/site-packages (from mlxtend) (1.16.4)\n",
      "Requirement already satisfied: setuptools in /anaconda3/lib/python3.6/site-packages (from mlxtend) (40.6.2)\n",
      "Requirement already satisfied: python-dateutil>=2.5.0 in /anaconda3/lib/python3.6/site-packages (from pandas>=0.17.1->mlxtend) (2.7.5)\n",
      "Requirement already satisfied: pytz>=2011k in /anaconda3/lib/python3.6/site-packages (from pandas>=0.17.1->mlxtend) (2017.3)\n",
      "Requirement already satisfied: pyparsing!=2.0.4,!=2.1.2,!=2.1.6,>=2.0.1 in /anaconda3/lib/python3.6/site-packages (from matplotlib>=1.5.1->mlxtend) (2.3.0)\n",
      "Requirement already satisfied: six>=1.10 in /anaconda3/lib/python3.6/site-packages (from matplotlib>=1.5.1->mlxtend) (1.10.0)\n",
      "Requirement already satisfied: cycler>=0.10 in /anaconda3/lib/python3.6/site-packages (from matplotlib>=1.5.1->mlxtend) (0.10.0)\n",
      "Requirement already satisfied: kiwisolver>=1.0.1 in /anaconda3/lib/python3.6/site-packages (from matplotlib>=1.5.1->mlxtend) (1.0.1)\n",
      "Installing collected packages: mlxtend\n",
      "Successfully installed mlxtend-0.16.0\n"
     ]
    }
   ],
   "source": [
    "!pip install mlxtend"
   ]
  },
  {
   "cell_type": "code",
   "execution_count": 2,
   "metadata": {},
   "outputs": [],
   "source": [
    "import os\n",
    "import pandas as pd\n",
    "import numpy as np\n",
    "from time import time\n",
    "from sklearn import preprocessing\n",
    "from sklearn.model_selection import train_test_split, GridSearchCV\n",
    "from sklearn.neighbors import KNeighborsClassifier\n",
    "from sklearn.naive_bayes import GaussianNB\n",
    "from sklearn.tree import DecisionTreeClassifier\n",
    "from sklearn import linear_model, svm, ensemble, metrics\n",
    "from mlxtend.classifier import StackingClassifier\n",
    "import seaborn as sns\n",
    "sns.set(color_codes=True)\n",
    "import matplotlib.pyplot as plt\n",
    "%matplotlib inline"
   ]
  },
  {
   "cell_type": "markdown",
   "metadata": {},
   "source": [
    "**Split Data into train and test set (undersampling, ensure proportion balance)**<br>\n",
    "techniques for handling imbalanced dataset: https://towardsdatascience.com/handling-imbalanced-datasets-in-machine-learning-7a0e84220f28"
   ]
  },
  {
   "cell_type": "code",
   "execution_count": 3,
   "metadata": {},
   "outputs": [
    {
     "data": {
      "text/plain": [
       "(233154, 24)"
      ]
     },
     "execution_count": 3,
     "metadata": {},
     "output_type": "execute_result"
    }
   ],
   "source": [
    "df = pd.read_csv('loan_data_preprocessed2.csv')\n",
    "df.shape"
   ]
  },
  {
   "cell_type": "code",
   "execution_count": 4,
   "metadata": {},
   "outputs": [
    {
     "data": {
      "text/html": [
       "<div>\n",
       "<style scoped>\n",
       "    .dataframe tbody tr th:only-of-type {\n",
       "        vertical-align: middle;\n",
       "    }\n",
       "\n",
       "    .dataframe tbody tr th {\n",
       "        vertical-align: top;\n",
       "    }\n",
       "\n",
       "    .dataframe thead th {\n",
       "        text-align: right;\n",
       "    }\n",
       "</style>\n",
       "<table border=\"1\" class=\"dataframe\">\n",
       "  <thead>\n",
       "    <tr style=\"text-align: right;\">\n",
       "      <th></th>\n",
       "      <th>SEC.SANCTIONED.AMOUNT</th>\n",
       "      <th>PRI.DISBURSED.AMOUNT</th>\n",
       "      <th>PRI.NO.OF.ACCTS</th>\n",
       "      <th>disbursed_amount</th>\n",
       "      <th>AVERAGE.ACCT.AGE</th>\n",
       "      <th>NO.OF_INQUIRIES</th>\n",
       "      <th>PRIMARY.INSTAL.AMT</th>\n",
       "      <th>SEC.INSTAL.AMT</th>\n",
       "      <th>Aadhar_flag</th>\n",
       "      <th>VoterID_flag</th>\n",
       "      <th>...</th>\n",
       "      <th>State_ID</th>\n",
       "      <th>Employee_code_ID</th>\n",
       "      <th>Employment.Type_Self employed</th>\n",
       "      <th>PERFORM_CNS.SCORE.DESCRIPTION</th>\n",
       "      <th>db_clusters</th>\n",
       "      <th>loan_default</th>\n",
       "      <th>anomaly</th>\n",
       "      <th>db_clusters_PCA</th>\n",
       "      <th>hdb_clusters</th>\n",
       "      <th>hdb_clusters_PCA</th>\n",
       "    </tr>\n",
       "  </thead>\n",
       "  <tbody>\n",
       "    <tr>\n",
       "      <th>0</th>\n",
       "      <td>-0.039835</td>\n",
       "      <td>-0.091711</td>\n",
       "      <td>-0.467804</td>\n",
       "      <td>-0.291335</td>\n",
       "      <td>-0.590198</td>\n",
       "      <td>-0.292450</td>\n",
       "      <td>-0.086581</td>\n",
       "      <td>-0.020784</td>\n",
       "      <td>1</td>\n",
       "      <td>0</td>\n",
       "      <td>...</td>\n",
       "      <td>-0.03102</td>\n",
       "      <td>-0.002388</td>\n",
       "      <td>0</td>\n",
       "      <td>-0.502999</td>\n",
       "      <td>0</td>\n",
       "      <td>0</td>\n",
       "      <td>0</td>\n",
       "      <td>-0.129513</td>\n",
       "      <td>1127</td>\n",
       "      <td>-0.244603</td>\n",
       "    </tr>\n",
       "    <tr>\n",
       "      <th>1</th>\n",
       "      <td>-0.039835</td>\n",
       "      <td>-0.070599</td>\n",
       "      <td>-0.276131</td>\n",
       "      <td>-0.555997</td>\n",
       "      <td>0.932337</td>\n",
       "      <td>-0.292450</td>\n",
       "      <td>-0.073427</td>\n",
       "      <td>-0.020784</td>\n",
       "      <td>1</td>\n",
       "      <td>0</td>\n",
       "      <td>...</td>\n",
       "      <td>-0.03102</td>\n",
       "      <td>-0.002388</td>\n",
       "      <td>1</td>\n",
       "      <td>0.536019</td>\n",
       "      <td>1</td>\n",
       "      <td>1</td>\n",
       "      <td>0</td>\n",
       "      <td>-0.129513</td>\n",
       "      <td>235</td>\n",
       "      <td>-0.244603</td>\n",
       "    </tr>\n",
       "    <tr>\n",
       "      <th>2</th>\n",
       "      <td>-0.039835</td>\n",
       "      <td>-0.091711</td>\n",
       "      <td>-0.467804</td>\n",
       "      <td>-0.083183</td>\n",
       "      <td>-0.590198</td>\n",
       "      <td>-0.292450</td>\n",
       "      <td>-0.086581</td>\n",
       "      <td>-0.020784</td>\n",
       "      <td>1</td>\n",
       "      <td>0</td>\n",
       "      <td>...</td>\n",
       "      <td>-0.03102</td>\n",
       "      <td>-0.002388</td>\n",
       "      <td>1</td>\n",
       "      <td>-0.502999</td>\n",
       "      <td>2</td>\n",
       "      <td>0</td>\n",
       "      <td>0</td>\n",
       "      <td>-0.225959</td>\n",
       "      <td>1071</td>\n",
       "      <td>-0.244603</td>\n",
       "    </tr>\n",
       "    <tr>\n",
       "      <th>3</th>\n",
       "      <td>-0.039835</td>\n",
       "      <td>-0.091711</td>\n",
       "      <td>0.107215</td>\n",
       "      <td>0.243307</td>\n",
       "      <td>-0.060621</td>\n",
       "      <td>1.122986</td>\n",
       "      <td>-0.086376</td>\n",
       "      <td>-0.020784</td>\n",
       "      <td>1</td>\n",
       "      <td>0</td>\n",
       "      <td>...</td>\n",
       "      <td>-0.03102</td>\n",
       "      <td>-0.002388</td>\n",
       "      <td>1</td>\n",
       "      <td>0.495388</td>\n",
       "      <td>3</td>\n",
       "      <td>1</td>\n",
       "      <td>0</td>\n",
       "      <td>-0.138039</td>\n",
       "      <td>40</td>\n",
       "      <td>-0.254629</td>\n",
       "    </tr>\n",
       "    <tr>\n",
       "      <th>4</th>\n",
       "      <td>-0.039835</td>\n",
       "      <td>-0.091711</td>\n",
       "      <td>-0.467804</td>\n",
       "      <td>-0.152567</td>\n",
       "      <td>-0.590198</td>\n",
       "      <td>1.122986</td>\n",
       "      <td>-0.086581</td>\n",
       "      <td>-0.020784</td>\n",
       "      <td>1</td>\n",
       "      <td>0</td>\n",
       "      <td>...</td>\n",
       "      <td>-0.03102</td>\n",
       "      <td>-0.002388</td>\n",
       "      <td>1</td>\n",
       "      <td>-0.502999</td>\n",
       "      <td>4</td>\n",
       "      <td>1</td>\n",
       "      <td>0</td>\n",
       "      <td>-0.132158</td>\n",
       "      <td>57</td>\n",
       "      <td>-0.247451</td>\n",
       "    </tr>\n",
       "  </tbody>\n",
       "</table>\n",
       "<p>5 rows × 24 columns</p>\n",
       "</div>"
      ],
      "text/plain": [
       "   SEC.SANCTIONED.AMOUNT  PRI.DISBURSED.AMOUNT  PRI.NO.OF.ACCTS  \\\n",
       "0              -0.039835             -0.091711        -0.467804   \n",
       "1              -0.039835             -0.070599        -0.276131   \n",
       "2              -0.039835             -0.091711        -0.467804   \n",
       "3              -0.039835             -0.091711         0.107215   \n",
       "4              -0.039835             -0.091711        -0.467804   \n",
       "\n",
       "   disbursed_amount  AVERAGE.ACCT.AGE  NO.OF_INQUIRIES  PRIMARY.INSTAL.AMT  \\\n",
       "0         -0.291335         -0.590198        -0.292450           -0.086581   \n",
       "1         -0.555997          0.932337        -0.292450           -0.073427   \n",
       "2         -0.083183         -0.590198        -0.292450           -0.086581   \n",
       "3          0.243307         -0.060621         1.122986           -0.086376   \n",
       "4         -0.152567         -0.590198         1.122986           -0.086581   \n",
       "\n",
       "   SEC.INSTAL.AMT  Aadhar_flag  VoterID_flag        ...         State_ID  \\\n",
       "0       -0.020784            1             0        ...         -0.03102   \n",
       "1       -0.020784            1             0        ...         -0.03102   \n",
       "2       -0.020784            1             0        ...         -0.03102   \n",
       "3       -0.020784            1             0        ...         -0.03102   \n",
       "4       -0.020784            1             0        ...         -0.03102   \n",
       "\n",
       "   Employee_code_ID  Employment.Type_Self employed  \\\n",
       "0         -0.002388                              0   \n",
       "1         -0.002388                              1   \n",
       "2         -0.002388                              1   \n",
       "3         -0.002388                              1   \n",
       "4         -0.002388                              1   \n",
       "\n",
       "   PERFORM_CNS.SCORE.DESCRIPTION  db_clusters  loan_default  anomaly  \\\n",
       "0                      -0.502999            0             0        0   \n",
       "1                       0.536019            1             1        0   \n",
       "2                      -0.502999            2             0        0   \n",
       "3                       0.495388            3             1        0   \n",
       "4                      -0.502999            4             1        0   \n",
       "\n",
       "   db_clusters_PCA  hdb_clusters  hdb_clusters_PCA  \n",
       "0        -0.129513          1127         -0.244603  \n",
       "1        -0.129513           235         -0.244603  \n",
       "2        -0.225959          1071         -0.244603  \n",
       "3        -0.138039            40         -0.254629  \n",
       "4        -0.132158            57         -0.247451  \n",
       "\n",
       "[5 rows x 24 columns]"
      ]
     },
     "execution_count": 4,
     "metadata": {},
     "output_type": "execute_result"
    }
   ],
   "source": [
    "df.head()"
   ]
  },
  {
   "cell_type": "code",
   "execution_count": 5,
   "metadata": {},
   "outputs": [
    {
     "data": {
      "text/plain": [
       "(233154, 22)"
      ]
     },
     "execution_count": 5,
     "metadata": {},
     "output_type": "execute_result"
    }
   ],
   "source": [
    "df1 = df.drop(['db_clusters','hdb_clusters'], axis=1)\n",
    "df1.shape"
   ]
  },
  {
   "cell_type": "code",
   "execution_count": 6,
   "metadata": {},
   "outputs": [
    {
     "data": {
      "text/plain": [
       "Index(['SEC.SANCTIONED.AMOUNT', 'PRI.DISBURSED.AMOUNT', 'PRI.NO.OF.ACCTS',\n",
       "       'disbursed_amount', 'AVERAGE.ACCT.AGE', 'NO.OF_INQUIRIES',\n",
       "       'PRIMARY.INSTAL.AMT', 'SEC.INSTAL.AMT', 'Aadhar_flag', 'VoterID_flag',\n",
       "       'branch_id', 'supplier_id', 'manufacturer_id', 'Current_pincode_ID',\n",
       "       'State_ID', 'Employee_code_ID', 'Employment.Type_Self employed',\n",
       "       'PERFORM_CNS.SCORE.DESCRIPTION', 'loan_default', 'anomaly',\n",
       "       'db_clusters_PCA', 'hdb_clusters_PCA'],\n",
       "      dtype='object')"
      ]
     },
     "execution_count": 6,
     "metadata": {},
     "output_type": "execute_result"
    }
   ],
   "source": [
    "df1.columns"
   ]
  },
  {
   "cell_type": "code",
   "execution_count": 7,
   "metadata": {},
   "outputs": [
    {
     "data": {
      "text/plain": [
       "0    182543\n",
       "1     50611\n",
       "Name: loan_default, dtype: int64"
      ]
     },
     "execution_count": 7,
     "metadata": {},
     "output_type": "execute_result"
    }
   ],
   "source": [
    "df1.loan_default.value_counts()"
   ]
  },
  {
   "cell_type": "code",
   "execution_count": 8,
   "metadata": {},
   "outputs": [
    {
     "data": {
      "text/plain": [
       "(50611, 22)"
      ]
     },
     "execution_count": 8,
     "metadata": {},
     "output_type": "execute_result"
    }
   ],
   "source": [
    "df2 = df1[df1.loan_default==1]\n",
    "df2.shape"
   ]
  },
  {
   "cell_type": "code",
   "execution_count": 9,
   "metadata": {},
   "outputs": [
    {
     "data": {
      "text/plain": [
       "(182543, 22)"
      ]
     },
     "execution_count": 9,
     "metadata": {},
     "output_type": "execute_result"
    }
   ],
   "source": [
    "df3 = df1[df1.loan_default==0]\n",
    "df3.shape"
   ]
  },
  {
   "cell_type": "code",
   "execution_count": 10,
   "metadata": {},
   "outputs": [
    {
     "data": {
      "text/plain": [
       "(50611, 22)"
      ]
     },
     "execution_count": 10,
     "metadata": {},
     "output_type": "execute_result"
    }
   ],
   "source": [
    "df4 =df3.sample(n=df2.shape[0], random_state=0)\n",
    "df4.shape"
   ]
  },
  {
   "cell_type": "code",
   "execution_count": 11,
   "metadata": {},
   "outputs": [
    {
     "data": {
      "text/html": [
       "<div>\n",
       "<style scoped>\n",
       "    .dataframe tbody tr th:only-of-type {\n",
       "        vertical-align: middle;\n",
       "    }\n",
       "\n",
       "    .dataframe tbody tr th {\n",
       "        vertical-align: top;\n",
       "    }\n",
       "\n",
       "    .dataframe thead th {\n",
       "        text-align: right;\n",
       "    }\n",
       "</style>\n",
       "<table border=\"1\" class=\"dataframe\">\n",
       "  <thead>\n",
       "    <tr style=\"text-align: right;\">\n",
       "      <th></th>\n",
       "      <th>SEC.SANCTIONED.AMOUNT</th>\n",
       "      <th>PRI.DISBURSED.AMOUNT</th>\n",
       "      <th>PRI.NO.OF.ACCTS</th>\n",
       "      <th>disbursed_amount</th>\n",
       "      <th>AVERAGE.ACCT.AGE</th>\n",
       "      <th>NO.OF_INQUIRIES</th>\n",
       "      <th>PRIMARY.INSTAL.AMT</th>\n",
       "      <th>SEC.INSTAL.AMT</th>\n",
       "      <th>Aadhar_flag</th>\n",
       "      <th>VoterID_flag</th>\n",
       "      <th>...</th>\n",
       "      <th>manufacturer_id</th>\n",
       "      <th>Current_pincode_ID</th>\n",
       "      <th>State_ID</th>\n",
       "      <th>Employee_code_ID</th>\n",
       "      <th>Employment.Type_Self employed</th>\n",
       "      <th>PERFORM_CNS.SCORE.DESCRIPTION</th>\n",
       "      <th>loan_default</th>\n",
       "      <th>anomaly</th>\n",
       "      <th>db_clusters_PCA</th>\n",
       "      <th>hdb_clusters_PCA</th>\n",
       "    </tr>\n",
       "  </thead>\n",
       "  <tbody>\n",
       "    <tr>\n",
       "      <th>101325</th>\n",
       "      <td>-0.039835</td>\n",
       "      <td>-0.091711</td>\n",
       "      <td>0.298888</td>\n",
       "      <td>-0.334353</td>\n",
       "      <td>0.270365</td>\n",
       "      <td>-0.29245</td>\n",
       "      <td>-0.050998</td>\n",
       "      <td>-0.020784</td>\n",
       "      <td>1</td>\n",
       "      <td>0</td>\n",
       "      <td>...</td>\n",
       "      <td>-0.223803</td>\n",
       "      <td>-0.005073</td>\n",
       "      <td>-0.03102</td>\n",
       "      <td>-0.002388</td>\n",
       "      <td>1</td>\n",
       "      <td>0.485943</td>\n",
       "      <td>0</td>\n",
       "      <td>0</td>\n",
       "      <td>-0.129513</td>\n",
       "      <td>-0.244603</td>\n",
       "    </tr>\n",
       "    <tr>\n",
       "      <th>20712</th>\n",
       "      <td>-0.039835</td>\n",
       "      <td>-0.091711</td>\n",
       "      <td>-0.276131</td>\n",
       "      <td>-0.503727</td>\n",
       "      <td>-0.193015</td>\n",
       "      <td>-0.29245</td>\n",
       "      <td>-0.073817</td>\n",
       "      <td>-0.020784</td>\n",
       "      <td>1</td>\n",
       "      <td>0</td>\n",
       "      <td>...</td>\n",
       "      <td>-0.223803</td>\n",
       "      <td>-0.003260</td>\n",
       "      <td>-0.03102</td>\n",
       "      <td>-0.002388</td>\n",
       "      <td>1</td>\n",
       "      <td>0.485943</td>\n",
       "      <td>0</td>\n",
       "      <td>0</td>\n",
       "      <td>-0.129513</td>\n",
       "      <td>-0.244603</td>\n",
       "    </tr>\n",
       "    <tr>\n",
       "      <th>167044</th>\n",
       "      <td>-0.039835</td>\n",
       "      <td>-0.091711</td>\n",
       "      <td>-0.467804</td>\n",
       "      <td>-0.329882</td>\n",
       "      <td>-0.590198</td>\n",
       "      <td>-0.29245</td>\n",
       "      <td>-0.086581</td>\n",
       "      <td>-0.020784</td>\n",
       "      <td>1</td>\n",
       "      <td>0</td>\n",
       "      <td>...</td>\n",
       "      <td>-0.223803</td>\n",
       "      <td>-0.003260</td>\n",
       "      <td>-0.03102</td>\n",
       "      <td>-0.003608</td>\n",
       "      <td>0</td>\n",
       "      <td>-0.502999</td>\n",
       "      <td>0</td>\n",
       "      <td>0</td>\n",
       "      <td>-0.129513</td>\n",
       "      <td>0.754420</td>\n",
       "    </tr>\n",
       "    <tr>\n",
       "      <th>121826</th>\n",
       "      <td>-0.039835</td>\n",
       "      <td>0.053697</td>\n",
       "      <td>-0.276131</td>\n",
       "      <td>0.300819</td>\n",
       "      <td>0.402759</td>\n",
       "      <td>-0.29245</td>\n",
       "      <td>-0.086581</td>\n",
       "      <td>-0.020784</td>\n",
       "      <td>1</td>\n",
       "      <td>0</td>\n",
       "      <td>...</td>\n",
       "      <td>-0.287164</td>\n",
       "      <td>-0.003260</td>\n",
       "      <td>-0.03102</td>\n",
       "      <td>-0.002388</td>\n",
       "      <td>1</td>\n",
       "      <td>0.485943</td>\n",
       "      <td>0</td>\n",
       "      <td>0</td>\n",
       "      <td>-0.129513</td>\n",
       "      <td>-0.244603</td>\n",
       "    </tr>\n",
       "    <tr>\n",
       "      <th>28741</th>\n",
       "      <td>-0.039835</td>\n",
       "      <td>0.564406</td>\n",
       "      <td>1.257252</td>\n",
       "      <td>-2.153063</td>\n",
       "      <td>0.468956</td>\n",
       "      <td>-0.29245</td>\n",
       "      <td>0.094713</td>\n",
       "      <td>-0.020784</td>\n",
       "      <td>1</td>\n",
       "      <td>0</td>\n",
       "      <td>...</td>\n",
       "      <td>-0.223803</td>\n",
       "      <td>-0.003260</td>\n",
       "      <td>-0.03102</td>\n",
       "      <td>-0.002388</td>\n",
       "      <td>1</td>\n",
       "      <td>0.485943</td>\n",
       "      <td>0</td>\n",
       "      <td>1</td>\n",
       "      <td>-0.129513</td>\n",
       "      <td>0.754420</td>\n",
       "    </tr>\n",
       "  </tbody>\n",
       "</table>\n",
       "<p>5 rows × 22 columns</p>\n",
       "</div>"
      ],
      "text/plain": [
       "        SEC.SANCTIONED.AMOUNT  PRI.DISBURSED.AMOUNT  PRI.NO.OF.ACCTS  \\\n",
       "101325              -0.039835             -0.091711         0.298888   \n",
       "20712               -0.039835             -0.091711        -0.276131   \n",
       "167044              -0.039835             -0.091711        -0.467804   \n",
       "121826              -0.039835              0.053697        -0.276131   \n",
       "28741               -0.039835              0.564406         1.257252   \n",
       "\n",
       "        disbursed_amount  AVERAGE.ACCT.AGE  NO.OF_INQUIRIES  \\\n",
       "101325         -0.334353          0.270365         -0.29245   \n",
       "20712          -0.503727         -0.193015         -0.29245   \n",
       "167044         -0.329882         -0.590198         -0.29245   \n",
       "121826          0.300819          0.402759         -0.29245   \n",
       "28741          -2.153063          0.468956         -0.29245   \n",
       "\n",
       "        PRIMARY.INSTAL.AMT  SEC.INSTAL.AMT  Aadhar_flag  VoterID_flag  \\\n",
       "101325           -0.050998       -0.020784            1             0   \n",
       "20712            -0.073817       -0.020784            1             0   \n",
       "167044           -0.086581       -0.020784            1             0   \n",
       "121826           -0.086581       -0.020784            1             0   \n",
       "28741             0.094713       -0.020784            1             0   \n",
       "\n",
       "              ...         manufacturer_id  Current_pincode_ID  State_ID  \\\n",
       "101325        ...               -0.223803           -0.005073  -0.03102   \n",
       "20712         ...               -0.223803           -0.003260  -0.03102   \n",
       "167044        ...               -0.223803           -0.003260  -0.03102   \n",
       "121826        ...               -0.287164           -0.003260  -0.03102   \n",
       "28741         ...               -0.223803           -0.003260  -0.03102   \n",
       "\n",
       "        Employee_code_ID  Employment.Type_Self employed  \\\n",
       "101325         -0.002388                              1   \n",
       "20712          -0.002388                              1   \n",
       "167044         -0.003608                              0   \n",
       "121826         -0.002388                              1   \n",
       "28741          -0.002388                              1   \n",
       "\n",
       "        PERFORM_CNS.SCORE.DESCRIPTION  loan_default  anomaly  db_clusters_PCA  \\\n",
       "101325                       0.485943             0        0        -0.129513   \n",
       "20712                        0.485943             0        0        -0.129513   \n",
       "167044                      -0.502999             0        0        -0.129513   \n",
       "121826                       0.485943             0        0        -0.129513   \n",
       "28741                        0.485943             0        1        -0.129513   \n",
       "\n",
       "        hdb_clusters_PCA  \n",
       "101325         -0.244603  \n",
       "20712          -0.244603  \n",
       "167044          0.754420  \n",
       "121826         -0.244603  \n",
       "28741           0.754420  \n",
       "\n",
       "[5 rows x 22 columns]"
      ]
     },
     "execution_count": 11,
     "metadata": {},
     "output_type": "execute_result"
    }
   ],
   "source": [
    "df4.head()"
   ]
  },
  {
   "cell_type": "code",
   "execution_count": 12,
   "metadata": {},
   "outputs": [
    {
     "data": {
      "text/plain": [
       "(101222, 22)"
      ]
     },
     "execution_count": 12,
     "metadata": {},
     "output_type": "execute_result"
    }
   ],
   "source": [
    "df5 = pd.concat([df4,df2])\n",
    "df5.shape"
   ]
  },
  {
   "cell_type": "code",
   "execution_count": 13,
   "metadata": {},
   "outputs": [
    {
     "data": {
      "text/plain": [
       "1    50611\n",
       "0    50611\n",
       "Name: loan_default, dtype: int64"
      ]
     },
     "execution_count": 13,
     "metadata": {},
     "output_type": "execute_result"
    }
   ],
   "source": [
    "df5.loan_default.value_counts()"
   ]
  },
  {
   "cell_type": "code",
   "execution_count": 14,
   "metadata": {},
   "outputs": [
    {
     "data": {
      "text/plain": [
       "((101222, 21), (101222,))"
      ]
     },
     "execution_count": 14,
     "metadata": {},
     "output_type": "execute_result"
    }
   ],
   "source": [
    "X, y = df5.drop(['loan_default'], axis =1), df5['loan_default']\n",
    "X.shape, y.shape"
   ]
  },
  {
   "cell_type": "code",
   "execution_count": 15,
   "metadata": {},
   "outputs": [
    {
     "name": "stderr",
     "output_type": "stream",
     "text": [
      "/anaconda3/lib/python3.6/site-packages/sklearn/model_selection/_split.py:2179: FutureWarning: From version 0.21, test_size will always complement train_size unless both are specified.\n",
      "  FutureWarning)\n"
     ]
    },
    {
     "data": {
      "text/html": [
       "<div>\n",
       "<style scoped>\n",
       "    .dataframe tbody tr th:only-of-type {\n",
       "        vertical-align: middle;\n",
       "    }\n",
       "\n",
       "    .dataframe tbody tr th {\n",
       "        vertical-align: top;\n",
       "    }\n",
       "\n",
       "    .dataframe thead th {\n",
       "        text-align: right;\n",
       "    }\n",
       "</style>\n",
       "<table border=\"1\" class=\"dataframe\">\n",
       "  <thead>\n",
       "    <tr style=\"text-align: right;\">\n",
       "      <th></th>\n",
       "      <th>SEC.SANCTIONED.AMOUNT</th>\n",
       "      <th>PRI.DISBURSED.AMOUNT</th>\n",
       "      <th>PRI.NO.OF.ACCTS</th>\n",
       "      <th>disbursed_amount</th>\n",
       "      <th>AVERAGE.ACCT.AGE</th>\n",
       "      <th>NO.OF_INQUIRIES</th>\n",
       "      <th>PRIMARY.INSTAL.AMT</th>\n",
       "      <th>SEC.INSTAL.AMT</th>\n",
       "      <th>Aadhar_flag</th>\n",
       "      <th>VoterID_flag</th>\n",
       "      <th>...</th>\n",
       "      <th>supplier_id</th>\n",
       "      <th>manufacturer_id</th>\n",
       "      <th>Current_pincode_ID</th>\n",
       "      <th>State_ID</th>\n",
       "      <th>Employee_code_ID</th>\n",
       "      <th>Employment.Type_Self employed</th>\n",
       "      <th>PERFORM_CNS.SCORE.DESCRIPTION</th>\n",
       "      <th>anomaly</th>\n",
       "      <th>db_clusters_PCA</th>\n",
       "      <th>hdb_clusters_PCA</th>\n",
       "    </tr>\n",
       "  </thead>\n",
       "  <tbody>\n",
       "    <tr>\n",
       "      <th>172471</th>\n",
       "      <td>-0.039835</td>\n",
       "      <td>-0.060758</td>\n",
       "      <td>0.873907</td>\n",
       "      <td>-0.144858</td>\n",
       "      <td>-0.259213</td>\n",
       "      <td>1.122986</td>\n",
       "      <td>-0.046017</td>\n",
       "      <td>-0.020784</td>\n",
       "      <td>1</td>\n",
       "      <td>0</td>\n",
       "      <td>...</td>\n",
       "      <td>-0.007676</td>\n",
       "      <td>-0.361994</td>\n",
       "      <td>-0.00326</td>\n",
       "      <td>-0.031020</td>\n",
       "      <td>-0.003364</td>\n",
       "      <td>0</td>\n",
       "      <td>0.485943</td>\n",
       "      <td>0</td>\n",
       "      <td>-0.153251</td>\n",
       "      <td>-0.270814</td>\n",
       "    </tr>\n",
       "    <tr>\n",
       "      <th>128046</th>\n",
       "      <td>-0.039835</td>\n",
       "      <td>-0.091711</td>\n",
       "      <td>-0.467804</td>\n",
       "      <td>1.415435</td>\n",
       "      <td>-0.590198</td>\n",
       "      <td>-0.292450</td>\n",
       "      <td>-0.086581</td>\n",
       "      <td>-0.020784</td>\n",
       "      <td>1</td>\n",
       "      <td>0</td>\n",
       "      <td>...</td>\n",
       "      <td>-0.004586</td>\n",
       "      <td>-0.287164</td>\n",
       "      <td>-0.00326</td>\n",
       "      <td>-0.031020</td>\n",
       "      <td>-0.002388</td>\n",
       "      <td>1</td>\n",
       "      <td>-0.502999</td>\n",
       "      <td>0</td>\n",
       "      <td>0.864019</td>\n",
       "      <td>-0.244603</td>\n",
       "    </tr>\n",
       "    <tr>\n",
       "      <th>129798</th>\n",
       "      <td>-0.039835</td>\n",
       "      <td>-0.028626</td>\n",
       "      <td>0.490561</td>\n",
       "      <td>1.064814</td>\n",
       "      <td>-0.126818</td>\n",
       "      <td>-0.292450</td>\n",
       "      <td>-0.086581</td>\n",
       "      <td>-0.020784</td>\n",
       "      <td>1</td>\n",
       "      <td>0</td>\n",
       "      <td>...</td>\n",
       "      <td>-0.004586</td>\n",
       "      <td>-0.223803</td>\n",
       "      <td>-0.00326</td>\n",
       "      <td>-0.045176</td>\n",
       "      <td>-0.002388</td>\n",
       "      <td>0</td>\n",
       "      <td>0.485943</td>\n",
       "      <td>0</td>\n",
       "      <td>-0.129513</td>\n",
       "      <td>-0.244603</td>\n",
       "    </tr>\n",
       "    <tr>\n",
       "      <th>30470</th>\n",
       "      <td>-0.039835</td>\n",
       "      <td>-0.091711</td>\n",
       "      <td>-0.467804</td>\n",
       "      <td>-2.475930</td>\n",
       "      <td>-0.590198</td>\n",
       "      <td>-0.292450</td>\n",
       "      <td>-0.086581</td>\n",
       "      <td>-0.020784</td>\n",
       "      <td>1</td>\n",
       "      <td>0</td>\n",
       "      <td>...</td>\n",
       "      <td>-0.004586</td>\n",
       "      <td>-0.223803</td>\n",
       "      <td>-0.00326</td>\n",
       "      <td>-0.031020</td>\n",
       "      <td>-0.003409</td>\n",
       "      <td>1</td>\n",
       "      <td>-0.502999</td>\n",
       "      <td>0</td>\n",
       "      <td>0.864019</td>\n",
       "      <td>0.754420</td>\n",
       "    </tr>\n",
       "    <tr>\n",
       "      <th>122834</th>\n",
       "      <td>-0.039835</td>\n",
       "      <td>0.047076</td>\n",
       "      <td>0.682234</td>\n",
       "      <td>-1.640006</td>\n",
       "      <td>0.866140</td>\n",
       "      <td>-0.292450</td>\n",
       "      <td>-0.086581</td>\n",
       "      <td>-0.020784</td>\n",
       "      <td>1</td>\n",
       "      <td>0</td>\n",
       "      <td>...</td>\n",
       "      <td>-0.004586</td>\n",
       "      <td>-0.223803</td>\n",
       "      <td>-0.00326</td>\n",
       "      <td>-0.031020</td>\n",
       "      <td>-0.002388</td>\n",
       "      <td>0</td>\n",
       "      <td>0.570046</td>\n",
       "      <td>0</td>\n",
       "      <td>-0.129513</td>\n",
       "      <td>-0.244603</td>\n",
       "    </tr>\n",
       "  </tbody>\n",
       "</table>\n",
       "<p>5 rows × 21 columns</p>\n",
       "</div>"
      ],
      "text/plain": [
       "        SEC.SANCTIONED.AMOUNT  PRI.DISBURSED.AMOUNT  PRI.NO.OF.ACCTS  \\\n",
       "172471              -0.039835             -0.060758         0.873907   \n",
       "128046              -0.039835             -0.091711        -0.467804   \n",
       "129798              -0.039835             -0.028626         0.490561   \n",
       "30470               -0.039835             -0.091711        -0.467804   \n",
       "122834              -0.039835              0.047076         0.682234   \n",
       "\n",
       "        disbursed_amount  AVERAGE.ACCT.AGE  NO.OF_INQUIRIES  \\\n",
       "172471         -0.144858         -0.259213         1.122986   \n",
       "128046          1.415435         -0.590198        -0.292450   \n",
       "129798          1.064814         -0.126818        -0.292450   \n",
       "30470          -2.475930         -0.590198        -0.292450   \n",
       "122834         -1.640006          0.866140        -0.292450   \n",
       "\n",
       "        PRIMARY.INSTAL.AMT  SEC.INSTAL.AMT  Aadhar_flag  VoterID_flag  \\\n",
       "172471           -0.046017       -0.020784            1             0   \n",
       "128046           -0.086581       -0.020784            1             0   \n",
       "129798           -0.086581       -0.020784            1             0   \n",
       "30470            -0.086581       -0.020784            1             0   \n",
       "122834           -0.086581       -0.020784            1             0   \n",
       "\n",
       "              ...         supplier_id  manufacturer_id  Current_pincode_ID  \\\n",
       "172471        ...           -0.007676        -0.361994            -0.00326   \n",
       "128046        ...           -0.004586        -0.287164            -0.00326   \n",
       "129798        ...           -0.004586        -0.223803            -0.00326   \n",
       "30470         ...           -0.004586        -0.223803            -0.00326   \n",
       "122834        ...           -0.004586        -0.223803            -0.00326   \n",
       "\n",
       "        State_ID  Employee_code_ID  Employment.Type_Self employed  \\\n",
       "172471 -0.031020         -0.003364                              0   \n",
       "128046 -0.031020         -0.002388                              1   \n",
       "129798 -0.045176         -0.002388                              0   \n",
       "30470  -0.031020         -0.003409                              1   \n",
       "122834 -0.031020         -0.002388                              0   \n",
       "\n",
       "        PERFORM_CNS.SCORE.DESCRIPTION  anomaly  db_clusters_PCA  \\\n",
       "172471                       0.485943        0        -0.153251   \n",
       "128046                      -0.502999        0         0.864019   \n",
       "129798                       0.485943        0        -0.129513   \n",
       "30470                       -0.502999        0         0.864019   \n",
       "122834                       0.570046        0        -0.129513   \n",
       "\n",
       "        hdb_clusters_PCA  \n",
       "172471         -0.270814  \n",
       "128046         -0.244603  \n",
       "129798         -0.244603  \n",
       "30470           0.754420  \n",
       "122834         -0.244603  \n",
       "\n",
       "[5 rows x 21 columns]"
      ]
     },
     "execution_count": 15,
     "metadata": {},
     "output_type": "execute_result"
    }
   ],
   "source": [
    "X_train, X_test, y_train, y_test = train_test_split(X,y, train_size = 0.75, random_state = 0, stratify=y)\n",
    "X_train.head()"
   ]
  },
  {
   "cell_type": "code",
   "execution_count": 16,
   "metadata": {},
   "outputs": [
    {
     "data": {
      "text/plain": [
       "((75916, 21), (75916,), (25306, 21), (25306,))"
      ]
     },
     "execution_count": 16,
     "metadata": {},
     "output_type": "execute_result"
    }
   ],
   "source": [
    "X_train.shape, y_train.shape, X_test.shape, y_test.shape"
   ]
  },
  {
   "cell_type": "code",
   "execution_count": 17,
   "metadata": {},
   "outputs": [
    {
     "name": "stdout",
     "output_type": "stream",
     "text": [
      "1    37958\n",
      "0    37958\n",
      "Name: loan_default, dtype: int64 \n",
      " 1    12653\n",
      "0    12653\n",
      "Name: loan_default, dtype: int64\n"
     ]
    }
   ],
   "source": [
    "print(y_train.value_counts(),'\\n', y_test.value_counts())"
   ]
  },
  {
   "cell_type": "code",
   "execution_count": 18,
   "metadata": {},
   "outputs": [
    {
     "data": {
      "text/plain": [
       "(0.5, 0.5)"
      ]
     },
     "execution_count": 18,
     "metadata": {},
     "output_type": "execute_result"
    }
   ],
   "source": [
    "37958/75916, 12653/25306"
   ]
  },
  {
   "cell_type": "code",
   "execution_count": null,
   "metadata": {},
   "outputs": [],
   "source": []
  },
  {
   "cell_type": "code",
   "execution_count": null,
   "metadata": {},
   "outputs": [],
   "source": []
  },
  {
   "cell_type": "markdown",
   "metadata": {},
   "source": [
    "Documentation on code implementation: https://scikit-learn.org/stable/supervised_learning.html"
   ]
  },
  {
   "cell_type": "markdown",
   "metadata": {},
   "source": [
    "**Logistic Regression**"
   ]
  },
  {
   "cell_type": "code",
   "execution_count": 19,
   "metadata": {},
   "outputs": [
    {
     "name": "stderr",
     "output_type": "stream",
     "text": [
      "/anaconda3/lib/python3.6/site-packages/sklearn/linear_model/logistic.py:433: FutureWarning: Default solver will be changed to 'lbfgs' in 0.22. Specify a solver to silence this warning.\n",
      "  FutureWarning)\n"
     ]
    },
    {
     "data": {
      "text/plain": [
       "0.5616454595748044"
      ]
     },
     "execution_count": 19,
     "metadata": {},
     "output_type": "execute_result"
    }
   ],
   "source": [
    "#create a new logistic regression model\n",
    "log_reg = linear_model.LogisticRegression(fit_intercept=False, C=0.00001)\n",
    "#fit the model to the training data\n",
    "log_reg.fit(X_train, y_train)\n",
    "#evaluate performance\n",
    "log_reg.score(X_test, y_test)"
   ]
  },
  {
   "cell_type": "code",
   "execution_count": 19,
   "metadata": {},
   "outputs": [
    {
     "data": {
      "text/plain": [
       "(25306,)"
      ]
     },
     "execution_count": 19,
     "metadata": {},
     "output_type": "execute_result"
    }
   ],
   "source": [
    "#predict\n",
    "y_predict = log_reg.predict(X_test)\n",
    "y_predict.shape"
   ]
  },
  {
   "cell_type": "code",
   "execution_count": 20,
   "metadata": {},
   "outputs": [
    {
     "name": "stdout",
     "output_type": "stream",
     "text": [
      "              precision    recall  f1-score   support\n",
      "\n",
      "           0       0.56      0.55      0.55     12653\n",
      "           1       0.56      0.58      0.57     12653\n",
      "\n",
      "   micro avg       0.56      0.56      0.56     25306\n",
      "   macro avg       0.56      0.56      0.56     25306\n",
      "weighted avg       0.56      0.56      0.56     25306\n",
      "\n"
     ]
    }
   ],
   "source": [
    "print(metrics.classification_report(y_test, y_predict))"
   ]
  },
  {
   "cell_type": "code",
   "execution_count": 22,
   "metadata": {},
   "outputs": [
    {
     "data": {
      "image/png": "[encoded data removed]",
      "text/plain": [
       "<Figure size 432x288 with 1 Axes>"
      ]
     },
     "metadata": {
      "needs_background": "light"
     },
     "output_type": "display_data"
    }
   ],
   "source": [
    "logit_roc_auc = metrics.roc_auc_score(y_test, y_predict)\n",
    "fpr, tpr, thresholds = metrics.roc_curve(y_test, log_reg.predict_proba(X_test)[:,1])\n",
    "plt.figure()\n",
    "plt.plot(fpr, tpr, label='Logistic Regression (area = %0.2f)' % logit_roc_auc)\n",
    "plt.plot([0, 1], [0, 1],'r--')\n",
    "plt.xlim([0.0, 1.0])\n",
    "plt.ylim([0.0, 1.05])\n",
    "plt.xlabel('False Positive Rate')\n",
    "plt.ylabel('True Positive Rate')\n",
    "plt.title('Receiver operating characteristic')\n",
    "plt.legend(loc=\"lower right\")\n",
    "# plt.savefig('Log_ROC')\n",
    "plt.show()"
   ]
  },
  {
   "cell_type": "markdown",
   "metadata": {},
   "source": [
    "**Support Vector Machine**<br>\n",
    "concept: https://medium.com/machine-learning-101/chapter-2-svm-support-vector-machine-theory-f0812effc72<br>\n",
    "code: https://medium.com/machine-learning-101/chapter-2-svm-support-vector-machine-coding-edd8f1cf8f2d"
   ]
  },
  {
   "cell_type": "code",
   "execution_count": 98,
   "metadata": {},
   "outputs": [],
   "source": [
    "#subset, since SVM takes time\n",
    "sample_set = 20000\n",
    "X_train_subset = X_train.sample(n=sample_set)\n",
    "y_train_subset = y_train[X_train_subset.index]"
   ]
  },
  {
   "cell_type": "code",
   "execution_count": 99,
   "metadata": {},
   "outputs": [
    {
     "data": {
      "text/plain": [
       "0.5581285070734213"
      ]
     },
     "execution_count": 99,
     "metadata": {},
     "output_type": "execute_result"
    }
   ],
   "source": [
    "# #create a new SVM classifier model\n",
    "svc = svm.SVC(kernel=\"linear\", C=1, probability=True)\n",
    "# #fit the model to the training data\n",
    "svc.fit(X_train_subset, y_train_subset)\n",
    "# #evaluate performance\n",
    "svc.score(X_test, y_test)"
   ]
  },
  {
   "cell_type": "code",
   "execution_count": 100,
   "metadata": {},
   "outputs": [
    {
     "data": {
      "text/plain": [
       "(25306,)"
      ]
     },
     "execution_count": 100,
     "metadata": {},
     "output_type": "execute_result"
    }
   ],
   "source": [
    "#predict\n",
    "y_predict = svc.predict(X_test)\n",
    "y_predict.shape"
   ]
  },
  {
   "cell_type": "code",
   "execution_count": 101,
   "metadata": {},
   "outputs": [
    {
     "name": "stdout",
     "output_type": "stream",
     "text": [
      "              precision    recall  f1-score   support\n",
      "\n",
      "           0       0.55      0.64      0.59     12653\n",
      "           1       0.57      0.47      0.52     12653\n",
      "\n",
      "   micro avg       0.56      0.56      0.56     25306\n",
      "   macro avg       0.56      0.56      0.55     25306\n",
      "weighted avg       0.56      0.56      0.55     25306\n",
      "\n"
     ]
    }
   ],
   "source": [
    "print(metrics.classification_report(y_test, y_predict))"
   ]
  },
  {
   "cell_type": "code",
   "execution_count": 111,
   "metadata": {},
   "outputs": [
    {
     "data": {
      "image/png": "[encoded data removed]",
      "text/plain": [
       "<Figure size 432x288 with 1 Axes>"
      ]
     },
     "metadata": {
      "needs_background": "light"
     },
     "output_type": "display_data"
    }
   ],
   "source": [
    "svm_roc_auc = metrics.roc_auc_score(y_test, y_predict)\n",
    "fpr, tpr, thresholds = metrics.roc_curve(y_test, y_predict)\n",
    "plt.figure()\n",
    "plt.plot(fpr, tpr, label='SVM Linear (area = %0.2f)' % svm_roc_auc)\n",
    "plt.plot([0, 1], [0, 1],'r--')\n",
    "plt.xlim([0.0, 1.0])\n",
    "plt.ylim([0.0, 1.05])\n",
    "plt.xlabel('False Positive Rate')\n",
    "plt.ylabel('True Positive Rate')\n",
    "plt.title('Receiver operating characteristic')\n",
    "plt.legend(loc=\"lower right\")\n",
    "# plt.savefig('Log_ROC')\n",
    "plt.show()"
   ]
  },
  {
   "cell_type": "markdown",
   "metadata": {},
   "source": [
    "**Random Forest**<br>\n",
    "concept (Decision Tree): https://medium.com/greyatom/decision-trees-a-simple-way-to-visualize-a-decision-dc506a403aeb<br>\n",
    "concept (Decison Tree: which attribute to split on?): https://www.youtube.com/watch?v=nodQ2s0CUbI<br>\n",
    "concept (Random Forest): https://medium.com/x8-the-ai-community/building-intuition-for-random-forests-76d36fa28c5e"
   ]
  },
  {
   "cell_type": "code",
   "execution_count": 20,
   "metadata": {},
   "outputs": [
    {
     "data": {
      "text/plain": [
       "0.5724334150003951"
      ]
     },
     "execution_count": 20,
     "metadata": {},
     "output_type": "execute_result"
    }
   ],
   "source": [
    "#create a new SVM classifier model\n",
    "rf = ensemble.RandomForestClassifier(n_estimators = 200)\n",
    "#fit the model to the training data\n",
    "rf.fit(X_train, y_train)\n",
    "#evaluate performance\n",
    "rf.score(X_test, y_test)"
   ]
  },
  {
   "cell_type": "code",
   "execution_count": 122,
   "metadata": {},
   "outputs": [
    {
     "data": {
      "text/plain": [
       "(25306,)"
      ]
     },
     "execution_count": 122,
     "metadata": {},
     "output_type": "execute_result"
    }
   ],
   "source": [
    "#predict\n",
    "y_predict = rf.predict(X_test)\n",
    "y_predict.shape"
   ]
  },
  {
   "cell_type": "code",
   "execution_count": 123,
   "metadata": {},
   "outputs": [
    {
     "name": "stdout",
     "output_type": "stream",
     "text": [
      "              precision    recall  f1-score   support\n",
      "\n",
      "           0       0.57      0.58      0.58     12653\n",
      "           1       0.57      0.57      0.57     12653\n",
      "\n",
      "   micro avg       0.57      0.57      0.57     25306\n",
      "   macro avg       0.57      0.57      0.57     25306\n",
      "weighted avg       0.57      0.57      0.57     25306\n",
      "\n"
     ]
    }
   ],
   "source": [
    "print(metrics.classification_report(y_test, y_predict))"
   ]
  },
  {
   "cell_type": "code",
   "execution_count": 124,
   "metadata": {},
   "outputs": [
    {
     "data": {
      "image/png": "[encoded data removed]",
      "text/plain": [
       "<Figure size 432x288 with 1 Axes>"
      ]
     },
     "metadata": {
      "needs_background": "light"
     },
     "output_type": "display_data"
    }
   ],
   "source": [
    "rf_roc_auc = metrics.roc_auc_score(y_test, y_predict)\n",
    "fpr, tpr, thresholds = metrics.roc_curve(y_test, y_predict)\n",
    "plt.figure()\n",
    "plt.plot(fpr, tpr, label='Random Forest (area = %0.2f)' % rf_roc_auc)\n",
    "plt.plot([0, 1], [0, 1],'r--')\n",
    "plt.xlim([0.0, 1.0])\n",
    "plt.ylim([0.0, 1.05])\n",
    "plt.xlabel('False Positive Rate')\n",
    "plt.ylabel('True Positive Rate')\n",
    "plt.title('Receiver operating characteristic')\n",
    "plt.legend(loc=\"lower right\")\n",
    "# plt.savefig('Log_ROC')\n",
    "plt.show()"
   ]
  },
  {
   "cell_type": "markdown",
   "metadata": {},
   "source": [
    "**K-Nearest Neighbours**"
   ]
  },
  {
   "cell_type": "code",
   "execution_count": 21,
   "metadata": {},
   "outputs": [
    {
     "data": {
      "text/plain": [
       "0.5424405279380384"
      ]
     },
     "execution_count": 21,
     "metadata": {},
     "output_type": "execute_result"
    }
   ],
   "source": [
    "#create new a knn model\n",
    "knn = KNeighborsClassifier(n_neighbors = 9)\n",
    "#fit the model to the training data\n",
    "knn.fit(X_train, y_train)\n",
    "#evaluate performance\n",
    "knn.score(X_test, y_test)"
   ]
  },
  {
   "cell_type": "code",
   "execution_count": 132,
   "metadata": {},
   "outputs": [
    {
     "data": {
      "text/plain": [
       "(25306,)"
      ]
     },
     "execution_count": 132,
     "metadata": {},
     "output_type": "execute_result"
    }
   ],
   "source": [
    "#predict\n",
    "y_predict = knn.predict(X_test)\n",
    "y_predict.shape"
   ]
  },
  {
   "cell_type": "code",
   "execution_count": 133,
   "metadata": {},
   "outputs": [
    {
     "name": "stdout",
     "output_type": "stream",
     "text": [
      "              precision    recall  f1-score   support\n",
      "\n",
      "           0       0.54      0.54      0.54     12653\n",
      "           1       0.54      0.54      0.54     12653\n",
      "\n",
      "   micro avg       0.54      0.54      0.54     25306\n",
      "   macro avg       0.54      0.54      0.54     25306\n",
      "weighted avg       0.54      0.54      0.54     25306\n",
      "\n"
     ]
    }
   ],
   "source": [
    "print(metrics.classification_report(y_test, y_predict))"
   ]
  },
  {
   "cell_type": "code",
   "execution_count": 134,
   "metadata": {},
   "outputs": [
    {
     "data": {
      "image/png": "[encoded data removed]",
      "text/plain": [
       "<Figure size 432x288 with 1 Axes>"
      ]
     },
     "metadata": {
      "needs_background": "light"
     },
     "output_type": "display_data"
    }
   ],
   "source": [
    "knn_roc_auc = metrics.roc_auc_score(y_test, y_predict)\n",
    "fpr, tpr, thresholds = metrics.roc_curve(y_test, y_predict)\n",
    "plt.figure()\n",
    "plt.plot(fpr, tpr, label='K Nearest Neighbours (area = %0.2f)' % knn_roc_auc)\n",
    "plt.plot([0, 1], [0, 1],'r--')\n",
    "plt.xlim([0.0, 1.0])\n",
    "plt.ylim([0.0, 1.05])\n",
    "plt.xlabel('False Positive Rate')\n",
    "plt.ylabel('True Positive Rate')\n",
    "plt.title('Receiver operating characteristic')\n",
    "plt.legend(loc=\"lower right\")\n",
    "# plt.savefig('Log_ROC')\n",
    "plt.show()"
   ]
  },
  {
   "cell_type": "markdown",
   "metadata": {},
   "source": [
    "**Naive Bayes**<br>\n",
    "concept: https://medium.com/machine-learning-101/chapter-1-supervised-learning-and-naive-bayes-classification-part-1-theory-8b9e361897d5<br>\n",
    "code: https://medium.com/machine-learning-101/chapter-1-supervised-learning-and-naive-bayes-classification-part-2-coding-5966f25f1475<br>\n",
    "example: https://www.analyticsvidhya.com/blog/2017/09/naive-bayes-explained/"
   ]
  },
  {
   "cell_type": "code",
   "execution_count": 145,
   "metadata": {},
   "outputs": [
    {
     "data": {
      "text/plain": [
       "0.5318501541136489"
      ]
     },
     "execution_count": 145,
     "metadata": {},
     "output_type": "execute_result"
    }
   ],
   "source": [
    "#create new a nb model\n",
    "nb = GaussianNB()\n",
    "#fit the model to the training data\n",
    "nb.fit(X_train, y_train)\n",
    "#evaluate performance\n",
    "nb.score(X_test, y_test)"
   ]
  },
  {
   "cell_type": "code",
   "execution_count": 146,
   "metadata": {},
   "outputs": [
    {
     "data": {
      "text/plain": [
       "(25306,)"
      ]
     },
     "execution_count": 146,
     "metadata": {},
     "output_type": "execute_result"
    }
   ],
   "source": [
    "#predict\n",
    "y_predict = nb.predict(X_test)\n",
    "y_predict.shape"
   ]
  },
  {
   "cell_type": "code",
   "execution_count": 147,
   "metadata": {},
   "outputs": [
    {
     "name": "stdout",
     "output_type": "stream",
     "text": [
      "              precision    recall  f1-score   support\n",
      "\n",
      "           0       0.52      0.81      0.63     12653\n",
      "           1       0.57      0.26      0.35     12653\n",
      "\n",
      "   micro avg       0.53      0.53      0.53     25306\n",
      "   macro avg       0.55      0.53      0.49     25306\n",
      "weighted avg       0.55      0.53      0.49     25306\n",
      "\n"
     ]
    }
   ],
   "source": [
    "print(metrics.classification_report(y_test, y_predict))"
   ]
  },
  {
   "cell_type": "code",
   "execution_count": 148,
   "metadata": {},
   "outputs": [
    {
     "data": {
      "image/png": "[encoded data removed]",
      "text/plain": [
       "<Figure size 432x288 with 1 Axes>"
      ]
     },
     "metadata": {
      "needs_background": "light"
     },
     "output_type": "display_data"
    }
   ],
   "source": [
    "nb_roc_auc = metrics.roc_auc_score(y_test, y_predict)\n",
    "fpr, tpr, thresholds = metrics.roc_curve(y_test, y_predict)\n",
    "plt.figure()\n",
    "plt.plot(fpr, tpr, label='Naive Bayes Classifier (area = %0.2f)' % nb_roc_auc)\n",
    "plt.plot([0, 1], [0, 1],'r--')\n",
    "plt.xlim([0.0, 1.0])\n",
    "plt.ylim([0.0, 1.05])\n",
    "plt.xlabel('False Positive Rate')\n",
    "plt.ylabel('True Positive Rate')\n",
    "plt.title('Receiver operating characteristic')\n",
    "plt.legend(loc=\"lower right\")\n",
    "# plt.savefig('Log_ROC')\n",
    "plt.show()"
   ]
  },
  {
   "cell_type": "markdown",
   "metadata": {},
   "source": [
    "**Ensemble**<br>\n",
    "concept: https://blog.statsbot.co/ensemble-learning-d1dcd548e936<br>\n",
    "concept2: https://towardsdatascience.com/ensemble-methods-bagging-boosting-and-stacking-c9214a10a205<br>\n",
    "concept3: https://medium.com/@rrfd/boosting-bagging-and-stacking-ensemble-methods-with-sklearn-and-mlens-a455c0c982de<br>\n",
    "code: https://towardsdatascience.com/ensemble-learning-using-scikit-learn-85c4531ff86a<br>\n",
    "code2: https://github.com/vsmolyakov/experiments_with_python/blob/master/chp01/ensemble_methods.ipynb"
   ]
  },
  {
   "cell_type": "code",
   "execution_count": 22,
   "metadata": {},
   "outputs": [],
   "source": [
    "#models to ensemble\n",
    "estimators=[('knn', knn), ('rf', rf), ('log_reg', log_reg)]"
   ]
  },
  {
   "cell_type": "code",
   "execution_count": 23,
   "metadata": {},
   "outputs": [
    {
     "name": "stderr",
     "output_type": "stream",
     "text": [
      "/anaconda3/lib/python3.6/site-packages/sklearn/linear_model/logistic.py:433: FutureWarning: Default solver will be changed to 'lbfgs' in 0.22. Specify a solver to silence this warning.\n",
      "  FutureWarning)\n"
     ]
    },
    {
     "data": {
      "text/plain": [
       "0.5705761479491029"
      ]
     },
     "execution_count": 23,
     "metadata": {},
     "output_type": "execute_result"
    }
   ],
   "source": [
    "#create new a ensemble model\n",
    "combo1 = ensemble.VotingClassifier(estimators, voting='hard')\n",
    "#fit the model to the training data\n",
    "combo1.fit(X_train, y_train)\n",
    "#evaluate performance\n",
    "combo1.score(X_test, y_test)"
   ]
  },
  {
   "cell_type": "code",
   "execution_count": 150,
   "metadata": {},
   "outputs": [
    {
     "data": {
      "text/plain": [
       "(25306,)"
      ]
     },
     "execution_count": 150,
     "metadata": {},
     "output_type": "execute_result"
    }
   ],
   "source": [
    "#predict\n",
    "y_predict = combo1.predict(X_test)\n",
    "y_predict.shape"
   ]
  },
  {
   "cell_type": "code",
   "execution_count": 151,
   "metadata": {},
   "outputs": [
    {
     "name": "stdout",
     "output_type": "stream",
     "text": [
      "              precision    recall  f1-score   support\n",
      "\n",
      "           0       0.57      0.56      0.57     12653\n",
      "           1       0.57      0.57      0.57     12653\n",
      "\n",
      "   micro avg       0.57      0.57      0.57     25306\n",
      "   macro avg       0.57      0.57      0.57     25306\n",
      "weighted avg       0.57      0.57      0.57     25306\n",
      "\n"
     ]
    }
   ],
   "source": [
    "print(metrics.classification_report(y_test, y_predict))"
   ]
  },
  {
   "cell_type": "code",
   "execution_count": 152,
   "metadata": {},
   "outputs": [
    {
     "data": {
      "image/png": "[encoded data removed]",
      "text/plain": [
       "<Figure size 432x288 with 1 Axes>"
      ]
     },
     "metadata": {
      "needs_background": "light"
     },
     "output_type": "display_data"
    }
   ],
   "source": [
    "combo1_roc_auc = metrics.roc_auc_score(y_test, y_predict)\n",
    "fpr, tpr, thresholds = metrics.roc_curve(y_test, y_predict)\n",
    "plt.figure()\n",
    "plt.plot(fpr, tpr, label='Ensemble using LR, RF & KNN (area = %0.2f)' % combo1_roc_auc)\n",
    "plt.plot([0, 1], [0, 1],'r--')\n",
    "plt.xlim([0.0, 1.0])\n",
    "plt.ylim([0.0, 1.05])\n",
    "plt.xlabel('False Positive Rate')\n",
    "plt.ylabel('True Positive Rate')\n",
    "plt.title('Receiver operating characteristic')\n",
    "plt.legend(loc=\"lower right\")\n",
    "# plt.savefig('Log_ROC')\n",
    "plt.show()"
   ]
  },
  {
   "cell_type": "markdown",
   "metadata": {},
   "source": [
    "**Boosting**"
   ]
  },
  {
   "cell_type": "code",
   "execution_count": 24,
   "metadata": {},
   "outputs": [],
   "source": [
    "#model to boost\n",
    "clf = DecisionTreeClassifier(criterion='entropy', max_depth=3)"
   ]
  },
  {
   "cell_type": "code",
   "execution_count": 25,
   "metadata": {
    "scrolled": true
   },
   "outputs": [
    {
     "data": {
      "text/plain": [
       "0.6034932427092389"
      ]
     },
     "execution_count": 25,
     "metadata": {},
     "output_type": "execute_result"
    }
   ],
   "source": [
    "#create new a boosting model\n",
    "combo2 = ensemble.AdaBoostClassifier(base_estimator=clf,n_estimators=60, learning_rate=0.2699999)\n",
    "#fit the model to the training data\n",
    "combo2.fit(X_train, y_train)\n",
    "#evaluate performance\n",
    "combo2.score(X_test, y_test)"
   ]
  },
  {
   "cell_type": "code",
   "execution_count": 255,
   "metadata": {},
   "outputs": [
    {
     "data": {
      "text/plain": [
       "(25306,)"
      ]
     },
     "execution_count": 255,
     "metadata": {},
     "output_type": "execute_result"
    }
   ],
   "source": [
    "#predict\n",
    "y_predict = combo2.predict(X_test)\n",
    "y_predict.shape"
   ]
  },
  {
   "cell_type": "code",
   "execution_count": 256,
   "metadata": {},
   "outputs": [
    {
     "name": "stdout",
     "output_type": "stream",
     "text": [
      "              precision    recall  f1-score   support\n",
      "\n",
      "           0       0.61      0.59      0.60     12653\n",
      "           1       0.60      0.61      0.61     12653\n",
      "\n",
      "   micro avg       0.60      0.60      0.60     25306\n",
      "   macro avg       0.60      0.60      0.60     25306\n",
      "weighted avg       0.60      0.60      0.60     25306\n",
      "\n"
     ]
    }
   ],
   "source": [
    "print(metrics.classification_report(y_test, y_predict))"
   ]
  },
  {
   "cell_type": "code",
   "execution_count": 257,
   "metadata": {},
   "outputs": [
    {
     "data": {
      "image/png": "[encoded data removed]",
      "text/plain": [
       "<Figure size 432x288 with 1 Axes>"
      ]
     },
     "metadata": {
      "needs_background": "light"
     },
     "output_type": "display_data"
    }
   ],
   "source": [
    "combo2_roc_auc = metrics.roc_auc_score(y_test, y_predict)\n",
    "fpr, tpr, thresholds = metrics.roc_curve(y_test, y_predict)\n",
    "plt.figure()\n",
    "plt.plot(fpr, tpr, label='Boosting on Decision Tree (area = %0.2f)' % combo2_roc_auc)\n",
    "plt.plot([0, 1], [0, 1],'r--')\n",
    "plt.xlim([0.0, 1.0])\n",
    "plt.ylim([0.0, 1.05])\n",
    "plt.xlabel('False Positive Rate')\n",
    "plt.ylabel('True Positive Rate')\n",
    "plt.title('Receiver operating characteristic')\n",
    "plt.legend(loc=\"lower right\")\n",
    "# plt.savefig('Log_ROC')\n",
    "plt.show()"
   ]
  },
  {
   "cell_type": "markdown",
   "metadata": {},
   "source": [
    "**Stacking**"
   ]
  },
  {
   "cell_type": "code",
   "execution_count": 26,
   "metadata": {},
   "outputs": [],
   "source": [
    "#models to stack\n",
    "clf1 = combo1\n",
    "clf2 = combo2\n",
    "#model to train on\n",
    "clf_base = log_reg"
   ]
  },
  {
   "cell_type": "code",
   "execution_count": 27,
   "metadata": {},
   "outputs": [
    {
     "name": "stderr",
     "output_type": "stream",
     "text": [
      "/anaconda3/lib/python3.6/site-packages/sklearn/linear_model/logistic.py:433: FutureWarning: Default solver will be changed to 'lbfgs' in 0.22. Specify a solver to silence this warning.\n",
      "  FutureWarning)\n",
      "/anaconda3/lib/python3.6/site-packages/sklearn/linear_model/logistic.py:433: FutureWarning: Default solver will be changed to 'lbfgs' in 0.22. Specify a solver to silence this warning.\n",
      "  FutureWarning)\n"
     ]
    },
    {
     "data": {
      "text/plain": [
       "0.5904923733501937"
      ]
     },
     "execution_count": 27,
     "metadata": {},
     "output_type": "execute_result"
    }
   ],
   "source": [
    "#create new a stacking model\n",
    "combo3 = StackingClassifier(classifiers=[clf1, clf2], meta_classifier=clf_base)\n",
    "#fit the model to the training data\n",
    "combo3.fit(X_train, y_train)\n",
    "#evaluate performance\n",
    "combo3.score(X_test, y_test)"
   ]
  },
  {
   "cell_type": "code",
   "execution_count": 268,
   "metadata": {},
   "outputs": [
    {
     "data": {
      "text/plain": [
       "(25306,)"
      ]
     },
     "execution_count": 268,
     "metadata": {},
     "output_type": "execute_result"
    }
   ],
   "source": [
    "#predict\n",
    "y_predict = combo3.predict(X_test)\n",
    "y_predict.shape"
   ]
  },
  {
   "cell_type": "code",
   "execution_count": 275,
   "metadata": {},
   "outputs": [
    {
     "name": "stdout",
     "output_type": "stream",
     "text": [
      "              precision    recall  f1-score   support\n",
      "\n",
      "           0       0.62      0.45      0.52     12653\n",
      "           1       0.57      0.73      0.64     12653\n",
      "\n",
      "   micro avg       0.59      0.59      0.59     25306\n",
      "   macro avg       0.60      0.59      0.58     25306\n",
      "weighted avg       0.60      0.59      0.58     25306\n",
      "\n"
     ]
    }
   ],
   "source": [
    "print(metrics.classification_report(y_test, y_predict))"
   ]
  },
  {
   "cell_type": "code",
   "execution_count": 276,
   "metadata": {},
   "outputs": [
    {
     "name": "stdout",
     "output_type": "stream",
     "text": [
      "[[5684 6969]\n",
      " [3450 9203]]\n"
     ]
    }
   ],
   "source": [
    "print(metrics.confusion_matrix(y_test, y_predict))"
   ]
  },
  {
   "cell_type": "code",
   "execution_count": 277,
   "metadata": {},
   "outputs": [
    {
     "data": {
      "image/png": "[encoded data removed]",
      "text/plain": [
       "<Figure size 432x288 with 1 Axes>"
      ]
     },
     "metadata": {
      "needs_background": "light"
     },
     "output_type": "display_data"
    }
   ],
   "source": [
    "combo3_roc_auc = metrics.roc_auc_score(y_test, y_predict)\n",
    "fpr, tpr, thresholds = metrics.roc_curve(y_test, y_predict)\n",
    "plt.figure()\n",
    "plt.plot(fpr, tpr, label='Stacking Ensemble & Boosting together (area = %0.2f)' % combo3_roc_auc)\n",
    "plt.plot([0, 1], [0, 1],'r--')\n",
    "plt.xlim([0.0, 1.0])\n",
    "plt.ylim([0.0, 1.05])\n",
    "plt.xlabel('False Positive Rate')\n",
    "plt.ylabel('True Positive Rate')\n",
    "plt.title('Receiver operating characteristic')\n",
    "plt.legend(loc=\"lower right\")\n",
    "# plt.savefig('Log_ROC')\n",
    "plt.show()"
   ]
  },
  {
   "cell_type": "markdown",
   "metadata": {},
   "source": [
    "**Bootstrap sampling on best model**"
   ]
  },
  {
   "cell_type": "code",
   "execution_count": 28,
   "metadata": {},
   "outputs": [
    {
     "data": {
      "text/plain": [
       "((25306, 21), (25306,))"
      ]
     },
     "execution_count": 28,
     "metadata": {},
     "output_type": "execute_result"
    }
   ],
   "source": [
    "X_test.shape, y_test.shape"
   ]
  },
  {
   "cell_type": "code",
   "execution_count": 29,
   "metadata": {},
   "outputs": [
    {
     "data": {
      "text/plain": [
       "((75916, 21), (75916,))"
      ]
     },
     "execution_count": 29,
     "metadata": {},
     "output_type": "execute_result"
    }
   ],
   "source": [
    "X_train.shape, y_train.shape"
   ]
  },
  {
   "cell_type": "code",
   "execution_count": 30,
   "metadata": {},
   "outputs": [
    {
     "data": {
      "text/plain": [
       "(233154, 22)"
      ]
     },
     "execution_count": 30,
     "metadata": {},
     "output_type": "execute_result"
    }
   ],
   "source": [
    "df1.shape"
   ]
  },
  {
   "cell_type": "code",
   "execution_count": 31,
   "metadata": {},
   "outputs": [
    {
     "data": {
      "text/plain": [
       "207848"
      ]
     },
     "execution_count": 31,
     "metadata": {},
     "output_type": "execute_result"
    }
   ],
   "source": [
    "train_index = list(set(df1.index.tolist()).difference(set(X_test.index.tolist())))\n",
    "len(train_index)"
   ]
  },
  {
   "cell_type": "code",
   "execution_count": 32,
   "metadata": {},
   "outputs": [
    {
     "data": {
      "text/plain": [
       "0"
      ]
     },
     "execution_count": 32,
     "metadata": {},
     "output_type": "execute_result"
    }
   ],
   "source": [
    "len(train_index)+X_test.shape[0]-df1.shape[0]"
   ]
  },
  {
   "cell_type": "code",
   "execution_count": 33,
   "metadata": {},
   "outputs": [
    {
     "data": {
      "text/plain": [
       "(207848, 22)"
      ]
     },
     "execution_count": 33,
     "metadata": {},
     "output_type": "execute_result"
    }
   ],
   "source": [
    "df_train = df1.iloc[train_index,:]\n",
    "df_train.shape"
   ]
  },
  {
   "cell_type": "code",
   "execution_count": 34,
   "metadata": {},
   "outputs": [
    {
     "data": {
      "text/html": [
       "<div>\n",
       "<style scoped>\n",
       "    .dataframe tbody tr th:only-of-type {\n",
       "        vertical-align: middle;\n",
       "    }\n",
       "\n",
       "    .dataframe tbody tr th {\n",
       "        vertical-align: top;\n",
       "    }\n",
       "\n",
       "    .dataframe thead th {\n",
       "        text-align: right;\n",
       "    }\n",
       "</style>\n",
       "<table border=\"1\" class=\"dataframe\">\n",
       "  <thead>\n",
       "    <tr style=\"text-align: right;\">\n",
       "      <th></th>\n",
       "      <th>SEC.SANCTIONED.AMOUNT</th>\n",
       "      <th>PRI.DISBURSED.AMOUNT</th>\n",
       "      <th>PRI.NO.OF.ACCTS</th>\n",
       "      <th>disbursed_amount</th>\n",
       "      <th>AVERAGE.ACCT.AGE</th>\n",
       "      <th>NO.OF_INQUIRIES</th>\n",
       "      <th>PRIMARY.INSTAL.AMT</th>\n",
       "      <th>SEC.INSTAL.AMT</th>\n",
       "      <th>Aadhar_flag</th>\n",
       "      <th>VoterID_flag</th>\n",
       "      <th>...</th>\n",
       "      <th>manufacturer_id</th>\n",
       "      <th>Current_pincode_ID</th>\n",
       "      <th>State_ID</th>\n",
       "      <th>Employee_code_ID</th>\n",
       "      <th>Employment.Type_Self employed</th>\n",
       "      <th>PERFORM_CNS.SCORE.DESCRIPTION</th>\n",
       "      <th>loan_default</th>\n",
       "      <th>anomaly</th>\n",
       "      <th>db_clusters_PCA</th>\n",
       "      <th>hdb_clusters_PCA</th>\n",
       "    </tr>\n",
       "  </thead>\n",
       "  <tbody>\n",
       "  </tbody>\n",
       "</table>\n",
       "<p>0 rows × 22 columns</p>\n",
       "</div>"
      ],
      "text/plain": [
       "Empty DataFrame\n",
       "Columns: [SEC.SANCTIONED.AMOUNT, PRI.DISBURSED.AMOUNT, PRI.NO.OF.ACCTS, disbursed_amount, AVERAGE.ACCT.AGE, NO.OF_INQUIRIES, PRIMARY.INSTAL.AMT, SEC.INSTAL.AMT, Aadhar_flag, VoterID_flag, branch_id, supplier_id, manufacturer_id, Current_pincode_ID, State_ID, Employee_code_ID, Employment.Type_Self employed, PERFORM_CNS.SCORE.DESCRIPTION, loan_default, anomaly, db_clusters_PCA, hdb_clusters_PCA]\n",
       "Index: []\n",
       "\n",
       "[0 rows x 22 columns]"
      ]
     },
     "execution_count": 34,
     "metadata": {},
     "output_type": "execute_result"
    }
   ],
   "source": [
    "df_train[df_train.index == X_test.index[0]]"
   ]
  },
  {
   "cell_type": "code",
   "execution_count": 35,
   "metadata": {},
   "outputs": [
    {
     "data": {
      "text/plain": [
       "0    169890\n",
       "1     37958\n",
       "Name: loan_default, dtype: int64"
      ]
     },
     "execution_count": 35,
     "metadata": {},
     "output_type": "execute_result"
    }
   ],
   "source": [
    "df_train.loan_default.value_counts()"
   ]
  },
  {
   "cell_type": "code",
   "execution_count": 36,
   "metadata": {},
   "outputs": [
    {
     "data": {
      "text/plain": [
       "(37958, 22)"
      ]
     },
     "execution_count": 36,
     "metadata": {},
     "output_type": "execute_result"
    }
   ],
   "source": [
    "df_train1 = df_train[df_train.loan_default==1]\n",
    "df_train1.shape"
   ]
  },
  {
   "cell_type": "code",
   "execution_count": 37,
   "metadata": {},
   "outputs": [
    {
     "data": {
      "text/plain": [
       "1    37958\n",
       "Name: loan_default, dtype: int64"
      ]
     },
     "execution_count": 37,
     "metadata": {},
     "output_type": "execute_result"
    }
   ],
   "source": [
    "df_train1.loan_default.value_counts()"
   ]
  },
  {
   "cell_type": "code",
   "execution_count": 38,
   "metadata": {},
   "outputs": [
    {
     "data": {
      "text/plain": [
       "(37958, 22)"
      ]
     },
     "execution_count": 38,
     "metadata": {},
     "output_type": "execute_result"
    }
   ],
   "source": [
    "df_train2 = df_train[df_train.loan_default==0].sample(n=df_train1.shape[0], replace=True)\n",
    "df_train2.shape"
   ]
  },
  {
   "cell_type": "code",
   "execution_count": 39,
   "metadata": {},
   "outputs": [
    {
     "data": {
      "text/plain": [
       "0    37958\n",
       "Name: loan_default, dtype: int64"
      ]
     },
     "execution_count": 39,
     "metadata": {},
     "output_type": "execute_result"
    }
   ],
   "source": [
    "df_train2.loan_default.value_counts()"
   ]
  },
  {
   "cell_type": "code",
   "execution_count": 40,
   "metadata": {},
   "outputs": [
    {
     "data": {
      "text/plain": [
       "(75916, 22)"
      ]
     },
     "execution_count": 40,
     "metadata": {},
     "output_type": "execute_result"
    }
   ],
   "source": [
    "df_train3 = pd.concat([df_train1, df_train2])\n",
    "df_train3.shape"
   ]
  },
  {
   "cell_type": "code",
   "execution_count": 41,
   "metadata": {},
   "outputs": [
    {
     "data": {
      "text/plain": [
       "1    37958\n",
       "0    37958\n",
       "Name: loan_default, dtype: int64"
      ]
     },
     "execution_count": 41,
     "metadata": {},
     "output_type": "execute_result"
    }
   ],
   "source": [
    "df_train3.loan_default.value_counts()"
   ]
  },
  {
   "cell_type": "code",
   "execution_count": 42,
   "metadata": {},
   "outputs": [
    {
     "data": {
      "text/plain": [
       "((75916, 21), (75916,))"
      ]
     },
     "execution_count": 42,
     "metadata": {},
     "output_type": "execute_result"
    }
   ],
   "source": [
    "X_train, y_train = df_train3.drop(['loan_default'], axis =1), df_train3['loan_default']\n",
    "X_train.shape, y_train.shape"
   ]
  },
  {
   "cell_type": "code",
   "execution_count": 76,
   "metadata": {},
   "outputs": [],
   "source": [
    "# import warnings filter\n",
    "from warnings import simplefilter\n",
    "# ignore all future warnings\n",
    "simplefilter(action='ignore', category=FutureWarning)"
   ]
  },
  {
   "cell_type": "code",
   "execution_count": 115,
   "metadata": {},
   "outputs": [
    {
     "name": "stdout",
     "output_type": "stream",
     "text": [
      "[0 0 0 0 0 0 0 0 0 0]\n",
      "Time to run 1 sample: 0.05 mins\n",
      "Time to run 2 sample: 0.09 mins\n",
      "Time to run 3 sample: 0.14 mins\n",
      "Time to run 4 sample: 0.18 mins\n",
      "Time to run 5 sample: 0.22 mins\n",
      "Time to run 6 sample: 0.27 mins\n",
      "Time to run 7 sample: 0.31 mins\n",
      "Time to run 8 sample: 0.36 mins\n",
      "Time to run 9 sample: 0.4 mins\n",
      "Time to run 10 sample: 0.45 mins\n",
      "Time to run 11 sample: 0.49 mins\n",
      "Time to run 12 sample: 0.54 mins\n",
      "Time to run 13 sample: 0.58 mins\n",
      "Time to run 14 sample: 0.62 mins\n",
      "Time to run 15 sample: 0.67 mins\n",
      "Time to run 16 sample: 0.71 mins\n",
      "Time to run 17 sample: 0.76 mins\n",
      "Time to run 18 sample: 0.8 mins\n",
      "Time to run 19 sample: 0.85 mins\n",
      "Time to run 20 sample: 0.89 mins\n",
      "Time to run 21 sample: 0.94 mins\n",
      "Time to run 22 sample: 0.98 mins\n",
      "Time to run 23 sample: 1.03 mins\n",
      "Time to run 24 sample: 1.07 mins\n",
      "Time to run 25 sample: 1.12 mins\n",
      "Time to run 26 sample: 1.16 mins\n",
      "Time to run 27 sample: 1.2 mins\n",
      "Time to run 28 sample: 1.24 mins\n",
      "Time to run 29 sample: 1.29 mins\n",
      "Time to run 30 sample: 1.33 mins\n",
      "Time to run 31 sample: 1.38 mins\n",
      "Time to run 32 sample: 1.42 mins\n",
      "Time to run 33 sample: 1.47 mins\n",
      "Time to run 34 sample: 1.51 mins\n",
      "Time to run 35 sample: 1.55 mins\n",
      "Time to run 36 sample: 1.6 mins\n",
      "Time to run 37 sample: 1.64 mins\n",
      "Time to run 38 sample: 1.69 mins\n",
      "Time to run 39 sample: 1.73 mins\n",
      "Time to run 40 sample: 1.77 mins\n",
      "Time to run 41 sample: 1.82 mins\n",
      "Time to run 42 sample: 1.86 mins\n",
      "Time to run 43 sample: 1.9 mins\n",
      "Time to run 44 sample: 1.95 mins\n",
      "Time to run 45 sample: 1.99 mins\n",
      "Time to run 46 sample: 2.03 mins\n",
      "Time to run 47 sample: 2.08 mins\n",
      "Time to run 48 sample: 2.13 mins\n",
      "Time to run 49 sample: 2.17 mins\n",
      "Time to run 50 sample: 2.22 mins\n",
      "Time to run 51 sample: 2.26 mins\n",
      "Time to run 52 sample: 2.31 mins\n",
      "Time to run 53 sample: 2.36 mins\n",
      "Time to run 54 sample: 2.4 mins\n",
      "Time to run 55 sample: 2.45 mins\n",
      "Time to run 56 sample: 2.5 mins\n",
      "Time to run 57 sample: 2.54 mins\n",
      "Time to run 58 sample: 2.6 mins\n",
      "Time to run 59 sample: 2.65 mins\n",
      "Time to run 60 sample: 2.7 mins\n",
      "Time to run 61 sample: 2.75 mins\n",
      "Time to run 62 sample: 2.8 mins\n",
      "Time to run 63 sample: 2.84 mins\n",
      "Time to run 64 sample: 2.89 mins\n",
      "Time to run 65 sample: 2.94 mins\n",
      "Time to run 66 sample: 2.99 mins\n",
      "Time to run 67 sample: 3.04 mins\n",
      "Time to run 68 sample: 3.09 mins\n",
      "Time to run 69 sample: 3.14 mins\n",
      "Time to run 70 sample: 3.18 mins\n",
      "Time to run 71 sample: 3.23 mins\n",
      "Time to run 72 sample: 3.28 mins\n",
      "Time to run 73 sample: 3.33 mins\n",
      "Time to run 74 sample: 3.38 mins\n",
      "Time to run 75 sample: 3.43 mins\n",
      "Time to run 76 sample: 3.48 mins\n",
      "Time to run 77 sample: 3.53 mins\n",
      "Time to run 78 sample: 3.58 mins\n",
      "Time to run 79 sample: 3.63 mins\n",
      "Time to run 80 sample: 3.68 mins\n",
      "Time to run 81 sample: 3.73 mins\n",
      "Time to run 82 sample: 3.78 mins\n",
      "Time to run 83 sample: 3.83 mins\n",
      "Time to run 84 sample: 3.87 mins\n",
      "Time to run 85 sample: 3.92 mins\n",
      "Time to run 86 sample: 3.97 mins\n",
      "Time to run 87 sample: 4.02 mins\n",
      "Time to run 88 sample: 4.07 mins\n",
      "Time to run 89 sample: 4.12 mins\n",
      "Time to run 90 sample: 4.17 mins\n",
      "Time to run 91 sample: 4.22 mins\n",
      "Time to run 92 sample: 4.27 mins\n",
      "Time to run 93 sample: 4.32 mins\n",
      "Time to run 94 sample: 4.36 mins\n",
      "Time to run 95 sample: 4.41 mins\n",
      "Time to run 96 sample: 4.46 mins\n",
      "Time to run 97 sample: 4.51 mins\n",
      "Time to run 98 sample: 4.56 mins\n",
      "Time to run 99 sample: 4.61 mins\n",
      "Time to run 100 sample: 4.67 mins\n"
     ]
    },
    {
     "data": {
      "text/plain": [
       "(array([0.88, 0.14, 0.98, 0.86, 0.35, 0.7 , 0.97, 0.95, 0.56, 0.88]), (25306,))"
      ]
     },
     "execution_count": 115,
     "metadata": {},
     "output_type": "execute_result"
    }
   ],
   "source": [
    "t = time()\n",
    "no_of_sampling = 100\n",
    "sample_size = 500\n",
    "y_predicted  = np.zeros((y_test.shape[0],), dtype=int)\n",
    "print(y_predicted[:10])\n",
    "\n",
    "for i in range(no_of_sampling):\n",
    "    # bootstrap\n",
    "    df_train2 = pd.concat([df_train[df_train.loan_default==0].sample(n=sample_size, replace=True), df_train[df_train.loan_default==1].sample(n=sample_size, replace=True)])\n",
    "    X_train, y_train = df_train2.drop(['loan_default'], axis =1), df_train2['loan_default']    \n",
    "    # fit model\n",
    "    combo3.fit(X_train, y_train)    \n",
    "    # predict\n",
    "    y_predicted = np.sum([combo3.predict(X_test), y_predicted], axis=0)\n",
    "    # time check\n",
    "    print('Time to run {} sample: {} mins'.format(i+1, round((time() - t) / 60, 2)))\n",
    "\n",
    "y_predicted = y_predicted/no_of_sampling\n",
    "y_predicted[:10], y_predicted.shape"
   ]
  },
  {
   "cell_type": "code",
   "execution_count": 116,
   "metadata": {},
   "outputs": [
    {
     "data": {
      "text/plain": [
       "(numpy.ndarray, 1.0, 0.04)"
      ]
     },
     "execution_count": 116,
     "metadata": {},
     "output_type": "execute_result"
    }
   ],
   "source": [
    "type(y_predicted), max(y_predicted),min(y_predicted)"
   ]
  },
  {
   "cell_type": "code",
   "execution_count": 123,
   "metadata": {},
   "outputs": [
    {
     "data": {
      "text/plain": [
       "(25306,)"
      ]
     },
     "execution_count": 123,
     "metadata": {},
     "output_type": "execute_result"
    }
   ],
   "source": [
    "#predict\n",
    "y_predict = pred1>0.5\n",
    "y_predict = y_predict.astype(int)\n",
    "y_predict.shape"
   ]
  },
  {
   "cell_type": "code",
   "execution_count": 124,
   "metadata": {},
   "outputs": [
    {
     "data": {
      "text/plain": [
       "array([1, 0, 1, 1, 0, 1, 1, 1, 0, 1])"
      ]
     },
     "execution_count": 124,
     "metadata": {},
     "output_type": "execute_result"
    }
   ],
   "source": [
    "y_predict[:10]"
   ]
  },
  {
   "cell_type": "code",
   "execution_count": 125,
   "metadata": {},
   "outputs": [
    {
     "name": "stdout",
     "output_type": "stream",
     "text": [
      "              precision    recall  f1-score   support\n",
      "\n",
      "           0       0.67      0.27      0.39     12653\n",
      "           1       0.54      0.87      0.67     12653\n",
      "\n",
      "   micro avg       0.57      0.57      0.57     25306\n",
      "   macro avg       0.61      0.57      0.53     25306\n",
      "weighted avg       0.61      0.57      0.53     25306\n",
      "\n"
     ]
    }
   ],
   "source": [
    "print(metrics.classification_report(y_test, y_predict))"
   ]
  },
  {
   "cell_type": "code",
   "execution_count": 126,
   "metadata": {},
   "outputs": [
    {
     "data": {
      "image/png": "[encoded data removed]",
      "text/plain": [
       "<Figure size 432x288 with 1 Axes>"
      ]
     },
     "metadata": {
      "needs_background": "light"
     },
     "output_type": "display_data"
    }
   ],
   "source": [
    "combo4_roc_auc = metrics.roc_auc_score(y_test, pred1)\n",
    "fpr, tpr, thresholds = metrics.roc_curve(y_test, pred1)\n",
    "plt.figure()\n",
    "plt.plot(fpr, tpr, label='Bootstrap on stacking (area = %0.2f)' % combo4_roc_auc)\n",
    "plt.plot([0, 1], [0, 1],'r--')\n",
    "plt.xlim([0.0, 1.0])\n",
    "plt.ylim([0.0, 1.05])\n",
    "plt.xlabel('False Positive Rate')\n",
    "plt.ylabel('True Positive Rate')\n",
    "plt.title('Receiver operating characteristic')\n",
    "plt.legend(loc=\"lower right\")\n",
    "# plt.savefig('Log_ROC')\n",
    "plt.show()"
   ]
  },
  {
   "cell_type": "code",
   "execution_count": 113,
   "metadata": {},
   "outputs": [],
   "source": [
    "#archive\n",
    "#pred1 = y_predicted #800 models, 400 data each"
   ]
  },
  {
   "cell_type": "code",
   "execution_count": 114,
   "metadata": {},
   "outputs": [
    {
     "data": {
      "text/plain": [
       "array([0.80875, 0.25375, 0.93   , ..., 0.66625, 0.39125, 0.6725 ])"
      ]
     },
     "execution_count": 114,
     "metadata": {},
     "output_type": "execute_result"
    }
   ],
   "source": [
    "pred1# , pred2"
   ]
  },
  {
   "cell_type": "markdown",
   "metadata": {},
   "source": [
    "**using links:**<br>\n",
    "sample models by kaggle competition winner: https://www.kaggle.com/c/otto-group-product-classification-challenge/discussion/14335<br>\n",
    "Code to automate comparision: https://scikit-learn.org/stable/auto_examples/classification/plot_classifier_comparison.html"
   ]
  },
  {
   "cell_type": "code",
   "execution_count": null,
   "metadata": {},
   "outputs": [],
   "source": []
  }
 ],
 "metadata": {
  "kernelspec": {
   "display_name": "Python 3",
   "language": "python",
   "name": "python3"
  },
  "language_info": {
   "codemirror_mode": {
    "name": "ipython",
    "version": 3
   },
   "file_extension": ".py",
   "mimetype": "text/x-python",
   "name": "python",
   "nbconvert_exporter": "python",
   "pygments_lexer": "ipython3",
   "version": "3.6.7"
  }
 },
 "nbformat": 4,
 "nbformat_minor": 2
}
