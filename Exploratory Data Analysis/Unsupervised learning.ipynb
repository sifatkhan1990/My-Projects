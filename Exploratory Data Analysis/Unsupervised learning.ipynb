{
 "cells": [
  {
   "cell_type": "markdown",
   "metadata": {},
   "source": [
    "**Anomaly Detection with Autoencoders**<br>\n",
    "link: https://towardsdatascience.com/machine-learning-for-anomaly-detection-and-condition-monitoring-d4614e7de770"
   ]
  },
  {
   "cell_type": "code",
   "execution_count": 39,
   "metadata": {},
   "outputs": [
    {
     "name": "stdout",
     "output_type": "stream",
     "text": [
      "Collecting hdbscan\n",
      "\u001b[?25l  Downloading https://files.pythonhosted.org/packages/10/7c/1401ec61b0e7392287e045b6913206cfff050b65d869c19f7ec0f5626487/hdbscan-0.8.22.tar.gz (4.0MB)\n",
      "\u001b[K    100% |████████████████████████████████| 4.0MB 2.4MB/s ta 0:00:011\n",
      "\u001b[?25h  Installing build dependencies ... \u001b[?25ldone\n",
      "\u001b[?25hRequirement already satisfied: cython>=0.27 in /anaconda3/lib/python3.6/site-packages (from hdbscan) (0.29)\n",
      "Collecting numpy>=1.16.0 (from hdbscan)\n",
      "  Using cached https://files.pythonhosted.org/packages/0f/c9/3526a357b6c35e5529158fbcfac1bb3adc8827e8809a6d254019d326d1cc/numpy-1.16.4-cp36-cp36m-macosx_10_6_intel.macosx_10_9_intel.macosx_10_9_x86_64.macosx_10_10_intel.macosx_10_10_x86_64.whl\n",
      "Requirement already satisfied: scipy>=0.9 in /anaconda3/lib/python3.6/site-packages (from hdbscan) (1.1.0)\n",
      "Requirement already satisfied: scikit-learn>=0.17 in /anaconda3/lib/python3.6/site-packages (from hdbscan) (0.20.2)\n",
      "Collecting joblib (from hdbscan)\n",
      "\u001b[?25l  Downloading https://files.pythonhosted.org/packages/cd/c1/50a758e8247561e58cb87305b1e90b171b8c767b15b12a1734001f41d356/joblib-0.13.2-py2.py3-none-any.whl (278kB)\n",
      "\u001b[K    100% |████████████████████████████████| 286kB 3.3MB/s ta 0:00:01\n",
      "\u001b[?25hBuilding wheels for collected packages: hdbscan\n",
      "  Running setup.py bdist_wheel for hdbscan ... \u001b[?25ldone\n",
      "\u001b[?25h  Stored in directory: /Users/sifatkhan/Library/Caches/pip/wheels/6d/f9/db/f2e5e704427932f5b05c91fc520effbb0bd10ba8d73fd3bfc7\n",
      "Successfully built hdbscan\n",
      "Installing collected packages: numpy, joblib, hdbscan\n",
      "  Found existing installation: numpy 1.15.4\n",
      "    Uninstalling numpy-1.15.4:\n",
      "      Successfully uninstalled numpy-1.15.4\n",
      "Successfully installed hdbscan-0.8.22 joblib-0.13.2 numpy-1.16.4\n"
     ]
    }
   ],
   "source": [
    "# !pip install keras\n",
    "# !pip install tensorflow==1.5\n",
    "# !pip install hdbscan"
   ]
  },
  {
   "cell_type": "code",
   "execution_count": 9,
   "metadata": {},
   "outputs": [
    {
     "name": "stderr",
     "output_type": "stream",
     "text": [
      "Using TensorFlow backend.\n"
     ]
    }
   ],
   "source": [
    "# Common imports\n",
    "import os\n",
    "import pandas as pd\n",
    "import numpy as np\n",
    "from sklearn import preprocessing\n",
    "from sklearn.metrics import confusion_matrix\n",
    "from sklearn.metrics import classification_report\n",
    "import seaborn as sns\n",
    "sns.set(color_codes=True)\n",
    "import matplotlib.pyplot as plt\n",
    "%matplotlib inline\n",
    "\n",
    "from numpy.random import seed\n",
    "from tensorflow import set_random_seed\n",
    "\n",
    "from keras.layers import Input, Dropout\n",
    "from keras.layers.core import Dense \n",
    "from keras.models import Model, Sequential, load_model\n",
    "from keras import regularizers\n",
    "from keras.models import model_from_json"
   ]
  },
  {
   "cell_type": "code",
   "execution_count": 10,
   "metadata": {},
   "outputs": [],
   "source": [
    "df = pd.read_csv('loan_data_preprocessed.csv')"
   ]
  },
  {
   "cell_type": "code",
   "execution_count": 11,
   "metadata": {},
   "outputs": [
    {
     "data": {
      "text/html": [
       "<div>\n",
       "<style scoped>\n",
       "    .dataframe tbody tr th:only-of-type {\n",
       "        vertical-align: middle;\n",
       "    }\n",
       "\n",
       "    .dataframe tbody tr th {\n",
       "        vertical-align: top;\n",
       "    }\n",
       "\n",
       "    .dataframe thead th {\n",
       "        text-align: right;\n",
       "    }\n",
       "</style>\n",
       "<table border=\"1\" class=\"dataframe\">\n",
       "  <thead>\n",
       "    <tr style=\"text-align: right;\">\n",
       "      <th></th>\n",
       "      <th>SEC.SANCTIONED.AMOUNT</th>\n",
       "      <th>PRI.DISBURSED.AMOUNT</th>\n",
       "      <th>PRI.NO.OF.ACCTS</th>\n",
       "      <th>disbursed_amount</th>\n",
       "      <th>AVERAGE.ACCT.AGE</th>\n",
       "      <th>NO.OF_INQUIRIES</th>\n",
       "      <th>PRIMARY.INSTAL.AMT</th>\n",
       "      <th>SEC.INSTAL.AMT</th>\n",
       "      <th>Aadhar_flag</th>\n",
       "      <th>VoterID_flag</th>\n",
       "      <th>branch_id</th>\n",
       "      <th>supplier_id</th>\n",
       "      <th>manufacturer_id</th>\n",
       "      <th>Current_pincode_ID</th>\n",
       "      <th>State_ID</th>\n",
       "      <th>Employee_code_ID</th>\n",
       "      <th>Employment.Type_Self employed</th>\n",
       "      <th>PERFORM_CNS.SCORE.DESCRIPTION</th>\n",
       "      <th>loan_default</th>\n",
       "    </tr>\n",
       "  </thead>\n",
       "  <tbody>\n",
       "    <tr>\n",
       "      <th>0</th>\n",
       "      <td>-0.039835</td>\n",
       "      <td>-0.091711</td>\n",
       "      <td>-0.467804</td>\n",
       "      <td>-0.291335</td>\n",
       "      <td>-0.590198</td>\n",
       "      <td>-0.292450</td>\n",
       "      <td>-0.086581</td>\n",
       "      <td>-0.020784</td>\n",
       "      <td>1</td>\n",
       "      <td>0</td>\n",
       "      <td>-0.012638</td>\n",
       "      <td>-0.004586</td>\n",
       "      <td>0.762134</td>\n",
       "      <td>-0.00326</td>\n",
       "      <td>-0.03102</td>\n",
       "      <td>-0.002388</td>\n",
       "      <td>0</td>\n",
       "      <td>-0.502999</td>\n",
       "      <td>0</td>\n",
       "    </tr>\n",
       "    <tr>\n",
       "      <th>1</th>\n",
       "      <td>-0.039835</td>\n",
       "      <td>-0.070599</td>\n",
       "      <td>-0.276131</td>\n",
       "      <td>-0.555997</td>\n",
       "      <td>0.932337</td>\n",
       "      <td>-0.292450</td>\n",
       "      <td>-0.073427</td>\n",
       "      <td>-0.020784</td>\n",
       "      <td>1</td>\n",
       "      <td>0</td>\n",
       "      <td>-0.012638</td>\n",
       "      <td>-0.004586</td>\n",
       "      <td>0.762134</td>\n",
       "      <td>-0.00326</td>\n",
       "      <td>-0.03102</td>\n",
       "      <td>-0.002388</td>\n",
       "      <td>1</td>\n",
       "      <td>0.536019</td>\n",
       "      <td>1</td>\n",
       "    </tr>\n",
       "    <tr>\n",
       "      <th>2</th>\n",
       "      <td>-0.039835</td>\n",
       "      <td>-0.091711</td>\n",
       "      <td>-0.467804</td>\n",
       "      <td>-0.083183</td>\n",
       "      <td>-0.590198</td>\n",
       "      <td>-0.292450</td>\n",
       "      <td>-0.086581</td>\n",
       "      <td>-0.020784</td>\n",
       "      <td>1</td>\n",
       "      <td>0</td>\n",
       "      <td>-0.012638</td>\n",
       "      <td>-0.004586</td>\n",
       "      <td>0.762134</td>\n",
       "      <td>-0.00326</td>\n",
       "      <td>-0.03102</td>\n",
       "      <td>-0.002388</td>\n",
       "      <td>1</td>\n",
       "      <td>-0.502999</td>\n",
       "      <td>0</td>\n",
       "    </tr>\n",
       "    <tr>\n",
       "      <th>3</th>\n",
       "      <td>-0.039835</td>\n",
       "      <td>-0.091711</td>\n",
       "      <td>0.107215</td>\n",
       "      <td>0.243307</td>\n",
       "      <td>-0.060621</td>\n",
       "      <td>1.122986</td>\n",
       "      <td>-0.086376</td>\n",
       "      <td>-0.020784</td>\n",
       "      <td>1</td>\n",
       "      <td>0</td>\n",
       "      <td>-0.012638</td>\n",
       "      <td>-0.004586</td>\n",
       "      <td>0.762134</td>\n",
       "      <td>-0.00326</td>\n",
       "      <td>-0.03102</td>\n",
       "      <td>-0.002388</td>\n",
       "      <td>1</td>\n",
       "      <td>0.495388</td>\n",
       "      <td>1</td>\n",
       "    </tr>\n",
       "    <tr>\n",
       "      <th>4</th>\n",
       "      <td>-0.039835</td>\n",
       "      <td>-0.091711</td>\n",
       "      <td>-0.467804</td>\n",
       "      <td>-0.152567</td>\n",
       "      <td>-0.590198</td>\n",
       "      <td>1.122986</td>\n",
       "      <td>-0.086581</td>\n",
       "      <td>-0.020784</td>\n",
       "      <td>1</td>\n",
       "      <td>0</td>\n",
       "      <td>-0.012638</td>\n",
       "      <td>-0.004586</td>\n",
       "      <td>0.762134</td>\n",
       "      <td>-0.00326</td>\n",
       "      <td>-0.03102</td>\n",
       "      <td>-0.002388</td>\n",
       "      <td>1</td>\n",
       "      <td>-0.502999</td>\n",
       "      <td>1</td>\n",
       "    </tr>\n",
       "  </tbody>\n",
       "</table>\n",
       "</div>"
      ],
      "text/plain": [
       "   SEC.SANCTIONED.AMOUNT  PRI.DISBURSED.AMOUNT  PRI.NO.OF.ACCTS  \\\n",
       "0              -0.039835             -0.091711        -0.467804   \n",
       "1              -0.039835             -0.070599        -0.276131   \n",
       "2              -0.039835             -0.091711        -0.467804   \n",
       "3              -0.039835             -0.091711         0.107215   \n",
       "4              -0.039835             -0.091711        -0.467804   \n",
       "\n",
       "   disbursed_amount  AVERAGE.ACCT.AGE  NO.OF_INQUIRIES  PRIMARY.INSTAL.AMT  \\\n",
       "0         -0.291335         -0.590198        -0.292450           -0.086581   \n",
       "1         -0.555997          0.932337        -0.292450           -0.073427   \n",
       "2         -0.083183         -0.590198        -0.292450           -0.086581   \n",
       "3          0.243307         -0.060621         1.122986           -0.086376   \n",
       "4         -0.152567         -0.590198         1.122986           -0.086581   \n",
       "\n",
       "   SEC.INSTAL.AMT  Aadhar_flag  VoterID_flag  branch_id  supplier_id  \\\n",
       "0       -0.020784            1             0  -0.012638    -0.004586   \n",
       "1       -0.020784            1             0  -0.012638    -0.004586   \n",
       "2       -0.020784            1             0  -0.012638    -0.004586   \n",
       "3       -0.020784            1             0  -0.012638    -0.004586   \n",
       "4       -0.020784            1             0  -0.012638    -0.004586   \n",
       "\n",
       "   manufacturer_id  Current_pincode_ID  State_ID  Employee_code_ID  \\\n",
       "0         0.762134            -0.00326  -0.03102         -0.002388   \n",
       "1         0.762134            -0.00326  -0.03102         -0.002388   \n",
       "2         0.762134            -0.00326  -0.03102         -0.002388   \n",
       "3         0.762134            -0.00326  -0.03102         -0.002388   \n",
       "4         0.762134            -0.00326  -0.03102         -0.002388   \n",
       "\n",
       "   Employment.Type_Self employed  PERFORM_CNS.SCORE.DESCRIPTION  loan_default  \n",
       "0                              0                      -0.502999             0  \n",
       "1                              1                       0.536019             1  \n",
       "2                              1                      -0.502999             0  \n",
       "3                              1                       0.495388             1  \n",
       "4                              1                      -0.502999             1  "
      ]
     },
     "execution_count": 11,
     "metadata": {},
     "output_type": "execute_result"
    }
   ],
   "source": [
    "df.head()"
   ]
  },
  {
   "cell_type": "code",
   "execution_count": 12,
   "metadata": {},
   "outputs": [
    {
     "data": {
      "text/plain": [
       "(233154, 19)"
      ]
     },
     "execution_count": 12,
     "metadata": {},
     "output_type": "execute_result"
    }
   ],
   "source": [
    "df.shape"
   ]
  },
  {
   "cell_type": "code",
   "execution_count": 13,
   "metadata": {},
   "outputs": [],
   "source": [
    "df1 = df.drop(['loan_default'], axis = 1)"
   ]
  },
  {
   "cell_type": "code",
   "execution_count": 14,
   "metadata": {},
   "outputs": [
    {
     "data": {
      "text/plain": [
       "(233154, 18)"
      ]
     },
     "execution_count": 14,
     "metadata": {},
     "output_type": "execute_result"
    }
   ],
   "source": [
    "df1.shape"
   ]
  },
  {
   "cell_type": "code",
   "execution_count": 15,
   "metadata": {},
   "outputs": [
    {
     "data": {
      "text/html": [
       "<div>\n",
       "<style scoped>\n",
       "    .dataframe tbody tr th:only-of-type {\n",
       "        vertical-align: middle;\n",
       "    }\n",
       "\n",
       "    .dataframe tbody tr th {\n",
       "        vertical-align: top;\n",
       "    }\n",
       "\n",
       "    .dataframe thead th {\n",
       "        text-align: right;\n",
       "    }\n",
       "</style>\n",
       "<table border=\"1\" class=\"dataframe\">\n",
       "  <thead>\n",
       "    <tr style=\"text-align: right;\">\n",
       "      <th></th>\n",
       "      <th>count</th>\n",
       "      <th>mean</th>\n",
       "      <th>std</th>\n",
       "      <th>min</th>\n",
       "      <th>25%</th>\n",
       "      <th>50%</th>\n",
       "      <th>75%</th>\n",
       "      <th>max</th>\n",
       "    </tr>\n",
       "  </thead>\n",
       "  <tbody>\n",
       "    <tr>\n",
       "      <th>SEC.SANCTIONED.AMOUNT</th>\n",
       "      <td>233154.0</td>\n",
       "      <td>-5.191946e-15</td>\n",
       "      <td>1.000002</td>\n",
       "      <td>-0.039835</td>\n",
       "      <td>-0.039835</td>\n",
       "      <td>-0.039835</td>\n",
       "      <td>-0.039835</td>\n",
       "      <td>163.755321</td>\n",
       "    </tr>\n",
       "    <tr>\n",
       "      <th>PRI.DISBURSED.AMOUNT</th>\n",
       "      <td>233154.0</td>\n",
       "      <td>8.396905e-16</td>\n",
       "      <td>1.000002</td>\n",
       "      <td>-0.091711</td>\n",
       "      <td>-0.091711</td>\n",
       "      <td>-0.091711</td>\n",
       "      <td>-0.066141</td>\n",
       "      <td>420.475940</td>\n",
       "    </tr>\n",
       "    <tr>\n",
       "      <th>PRI.NO.OF.ACCTS</th>\n",
       "      <td>233154.0</td>\n",
       "      <td>-1.097762e-16</td>\n",
       "      <td>1.000002</td>\n",
       "      <td>-0.467804</td>\n",
       "      <td>-0.467804</td>\n",
       "      <td>-0.467804</td>\n",
       "      <td>0.107215</td>\n",
       "      <td>86.360017</td>\n",
       "    </tr>\n",
       "    <tr>\n",
       "      <th>disbursed_amount</th>\n",
       "      <td>233154.0</td>\n",
       "      <td>1.711192e-15</td>\n",
       "      <td>1.000002</td>\n",
       "      <td>-3.163680</td>\n",
       "      <td>-0.555997</td>\n",
       "      <td>-0.042709</td>\n",
       "      <td>0.466878</td>\n",
       "      <td>72.175957</td>\n",
       "    </tr>\n",
       "    <tr>\n",
       "      <th>AVERAGE.ACCT.AGE</th>\n",
       "      <td>233154.0</td>\n",
       "      <td>-4.616265e-15</td>\n",
       "      <td>1.000002</td>\n",
       "      <td>-0.590198</td>\n",
       "      <td>-0.590198</td>\n",
       "      <td>-0.590198</td>\n",
       "      <td>0.270365</td>\n",
       "      <td>23.836562</td>\n",
       "    </tr>\n",
       "    <tr>\n",
       "      <th>NO.OF_INQUIRIES</th>\n",
       "      <td>233154.0</td>\n",
       "      <td>-1.354114e-14</td>\n",
       "      <td>1.000002</td>\n",
       "      <td>-0.292450</td>\n",
       "      <td>-0.292450</td>\n",
       "      <td>-0.292450</td>\n",
       "      <td>-0.292450</td>\n",
       "      <td>50.663239</td>\n",
       "    </tr>\n",
       "    <tr>\n",
       "      <th>PRIMARY.INSTAL.AMT</th>\n",
       "      <td>233154.0</td>\n",
       "      <td>1.656939e-14</td>\n",
       "      <td>1.000002</td>\n",
       "      <td>-0.086581</td>\n",
       "      <td>-0.086581</td>\n",
       "      <td>-0.086581</td>\n",
       "      <td>-0.073374</td>\n",
       "      <td>169.320937</td>\n",
       "    </tr>\n",
       "    <tr>\n",
       "      <th>SEC.INSTAL.AMT</th>\n",
       "      <td>233154.0</td>\n",
       "      <td>5.035490e-15</td>\n",
       "      <td>1.000002</td>\n",
       "      <td>-0.020784</td>\n",
       "      <td>-0.020784</td>\n",
       "      <td>-0.020784</td>\n",
       "      <td>-0.020784</td>\n",
       "      <td>268.141278</td>\n",
       "    </tr>\n",
       "    <tr>\n",
       "      <th>Aadhar_flag</th>\n",
       "      <td>233154.0</td>\n",
       "      <td>8.403201e-01</td>\n",
       "      <td>0.366310</td>\n",
       "      <td>0.000000</td>\n",
       "      <td>1.000000</td>\n",
       "      <td>1.000000</td>\n",
       "      <td>1.000000</td>\n",
       "      <td>1.000000</td>\n",
       "    </tr>\n",
       "    <tr>\n",
       "      <th>VoterID_flag</th>\n",
       "      <td>233154.0</td>\n",
       "      <td>1.449428e-01</td>\n",
       "      <td>0.352044</td>\n",
       "      <td>0.000000</td>\n",
       "      <td>0.000000</td>\n",
       "      <td>0.000000</td>\n",
       "      <td>0.000000</td>\n",
       "      <td>1.000000</td>\n",
       "    </tr>\n",
       "    <tr>\n",
       "      <th>branch_id</th>\n",
       "      <td>233154.0</td>\n",
       "      <td>1.685496e-16</td>\n",
       "      <td>0.197426</td>\n",
       "      <td>-0.449674</td>\n",
       "      <td>-0.022085</td>\n",
       "      <td>-0.012638</td>\n",
       "      <td>-0.012638</td>\n",
       "      <td>0.881853</td>\n",
       "    </tr>\n",
       "    <tr>\n",
       "      <th>supplier_id</th>\n",
       "      <td>233154.0</td>\n",
       "      <td>1.460748e-15</td>\n",
       "      <td>0.078191</td>\n",
       "      <td>-0.051148</td>\n",
       "      <td>-0.005213</td>\n",
       "      <td>-0.004586</td>\n",
       "      <td>-0.004586</td>\n",
       "      <td>0.991734</td>\n",
       "    </tr>\n",
       "    <tr>\n",
       "      <th>manufacturer_id</th>\n",
       "      <td>233154.0</td>\n",
       "      <td>4.581142e-15</td>\n",
       "      <td>0.433290</td>\n",
       "      <td>-0.361994</td>\n",
       "      <td>-0.223803</td>\n",
       "      <td>-0.223803</td>\n",
       "      <td>-0.223803</td>\n",
       "      <td>0.762134</td>\n",
       "    </tr>\n",
       "    <tr>\n",
       "      <th>Current_pincode_ID</th>\n",
       "      <td>233154.0</td>\n",
       "      <td>-6.349530e-16</td>\n",
       "      <td>0.063189</td>\n",
       "      <td>-0.095068</td>\n",
       "      <td>-0.003260</td>\n",
       "      <td>-0.003260</td>\n",
       "      <td>-0.003260</td>\n",
       "      <td>0.991822</td>\n",
       "    </tr>\n",
       "    <tr>\n",
       "      <th>State_ID</th>\n",
       "      <td>233154.0</td>\n",
       "      <td>-5.913486e-15</td>\n",
       "      <td>0.272170</td>\n",
       "      <td>-0.428900</td>\n",
       "      <td>-0.031020</td>\n",
       "      <td>-0.031020</td>\n",
       "      <td>-0.031020</td>\n",
       "      <td>0.874134</td>\n",
       "    </tr>\n",
       "    <tr>\n",
       "      <th>Employee_code_ID</th>\n",
       "      <td>233154.0</td>\n",
       "      <td>3.633860e-15</td>\n",
       "      <td>0.051837</td>\n",
       "      <td>-0.011944</td>\n",
       "      <td>-0.002846</td>\n",
       "      <td>-0.002388</td>\n",
       "      <td>-0.002388</td>\n",
       "      <td>0.997328</td>\n",
       "    </tr>\n",
       "    <tr>\n",
       "      <th>Employment.Type_Self employed</th>\n",
       "      <td>233154.0</td>\n",
       "      <td>5.474279e-01</td>\n",
       "      <td>0.497747</td>\n",
       "      <td>0.000000</td>\n",
       "      <td>0.000000</td>\n",
       "      <td>1.000000</td>\n",
       "      <td>1.000000</td>\n",
       "      <td>1.000000</td>\n",
       "    </tr>\n",
       "    <tr>\n",
       "      <th>PERFORM_CNS.SCORE.DESCRIPTION</th>\n",
       "      <td>233154.0</td>\n",
       "      <td>-1.853371e-15</td>\n",
       "      <td>0.505100</td>\n",
       "      <td>-0.502999</td>\n",
       "      <td>-0.502999</td>\n",
       "      <td>-0.502999</td>\n",
       "      <td>0.485943</td>\n",
       "      <td>0.570046</td>\n",
       "    </tr>\n",
       "  </tbody>\n",
       "</table>\n",
       "</div>"
      ],
      "text/plain": [
       "                                  count          mean       std       min  \\\n",
       "SEC.SANCTIONED.AMOUNT          233154.0 -5.191946e-15  1.000002 -0.039835   \n",
       "PRI.DISBURSED.AMOUNT           233154.0  8.396905e-16  1.000002 -0.091711   \n",
       "PRI.NO.OF.ACCTS                233154.0 -1.097762e-16  1.000002 -0.467804   \n",
       "disbursed_amount               233154.0  1.711192e-15  1.000002 -3.163680   \n",
       "AVERAGE.ACCT.AGE               233154.0 -4.616265e-15  1.000002 -0.590198   \n",
       "NO.OF_INQUIRIES                233154.0 -1.354114e-14  1.000002 -0.292450   \n",
       "PRIMARY.INSTAL.AMT             233154.0  1.656939e-14  1.000002 -0.086581   \n",
       "SEC.INSTAL.AMT                 233154.0  5.035490e-15  1.000002 -0.020784   \n",
       "Aadhar_flag                    233154.0  8.403201e-01  0.366310  0.000000   \n",
       "VoterID_flag                   233154.0  1.449428e-01  0.352044  0.000000   \n",
       "branch_id                      233154.0  1.685496e-16  0.197426 -0.449674   \n",
       "supplier_id                    233154.0  1.460748e-15  0.078191 -0.051148   \n",
       "manufacturer_id                233154.0  4.581142e-15  0.433290 -0.361994   \n",
       "Current_pincode_ID             233154.0 -6.349530e-16  0.063189 -0.095068   \n",
       "State_ID                       233154.0 -5.913486e-15  0.272170 -0.428900   \n",
       "Employee_code_ID               233154.0  3.633860e-15  0.051837 -0.011944   \n",
       "Employment.Type_Self employed  233154.0  5.474279e-01  0.497747  0.000000   \n",
       "PERFORM_CNS.SCORE.DESCRIPTION  233154.0 -1.853371e-15  0.505100 -0.502999   \n",
       "\n",
       "                                    25%       50%       75%         max  \n",
       "SEC.SANCTIONED.AMOUNT         -0.039835 -0.039835 -0.039835  163.755321  \n",
       "PRI.DISBURSED.AMOUNT          -0.091711 -0.091711 -0.066141  420.475940  \n",
       "PRI.NO.OF.ACCTS               -0.467804 -0.467804  0.107215   86.360017  \n",
       "disbursed_amount              -0.555997 -0.042709  0.466878   72.175957  \n",
       "AVERAGE.ACCT.AGE              -0.590198 -0.590198  0.270365   23.836562  \n",
       "NO.OF_INQUIRIES               -0.292450 -0.292450 -0.292450   50.663239  \n",
       "PRIMARY.INSTAL.AMT            -0.086581 -0.086581 -0.073374  169.320937  \n",
       "SEC.INSTAL.AMT                -0.020784 -0.020784 -0.020784  268.141278  \n",
       "Aadhar_flag                    1.000000  1.000000  1.000000    1.000000  \n",
       "VoterID_flag                   0.000000  0.000000  0.000000    1.000000  \n",
       "branch_id                     -0.022085 -0.012638 -0.012638    0.881853  \n",
       "supplier_id                   -0.005213 -0.004586 -0.004586    0.991734  \n",
       "manufacturer_id               -0.223803 -0.223803 -0.223803    0.762134  \n",
       "Current_pincode_ID            -0.003260 -0.003260 -0.003260    0.991822  \n",
       "State_ID                      -0.031020 -0.031020 -0.031020    0.874134  \n",
       "Employee_code_ID              -0.002846 -0.002388 -0.002388    0.997328  \n",
       "Employment.Type_Self employed  0.000000  1.000000  1.000000    1.000000  \n",
       "PERFORM_CNS.SCORE.DESCRIPTION -0.502999 -0.502999  0.485943    0.570046  "
      ]
     },
     "execution_count": 15,
     "metadata": {},
     "output_type": "execute_result"
    }
   ],
   "source": [
    "df1.describe().transpose()"
   ]
  },
  {
   "cell_type": "code",
   "execution_count": 71,
   "metadata": {},
   "outputs": [
    {
     "data": {
      "text/plain": [
       "((500, 18), (232654, 18))"
      ]
     },
     "execution_count": 71,
     "metadata": {},
     "output_type": "execute_result"
    }
   ],
   "source": [
    "# split the data for easier training (train using index that does not contain loan defaulters)\n",
    "split_amount = 500\n",
    "X_train = df1[:split_amount]\n",
    "X_test = df1[split_amount:]\n",
    "X_train.shape, X_test.shape"
   ]
  },
  {
   "cell_type": "code",
   "execution_count": 72,
   "metadata": {},
   "outputs": [
    {
     "data": {
      "text/html": [
       "<div>\n",
       "<style scoped>\n",
       "    .dataframe tbody tr th:only-of-type {\n",
       "        vertical-align: middle;\n",
       "    }\n",
       "\n",
       "    .dataframe tbody tr th {\n",
       "        vertical-align: top;\n",
       "    }\n",
       "\n",
       "    .dataframe thead th {\n",
       "        text-align: right;\n",
       "    }\n",
       "</style>\n",
       "<table border=\"1\" class=\"dataframe\">\n",
       "  <thead>\n",
       "    <tr style=\"text-align: right;\">\n",
       "      <th></th>\n",
       "      <th>SEC.SANCTIONED.AMOUNT</th>\n",
       "      <th>PRI.DISBURSED.AMOUNT</th>\n",
       "      <th>PRI.NO.OF.ACCTS</th>\n",
       "      <th>disbursed_amount</th>\n",
       "      <th>AVERAGE.ACCT.AGE</th>\n",
       "      <th>NO.OF_INQUIRIES</th>\n",
       "      <th>PRIMARY.INSTAL.AMT</th>\n",
       "      <th>SEC.INSTAL.AMT</th>\n",
       "      <th>Aadhar_flag</th>\n",
       "      <th>VoterID_flag</th>\n",
       "      <th>branch_id</th>\n",
       "      <th>supplier_id</th>\n",
       "      <th>manufacturer_id</th>\n",
       "      <th>Current_pincode_ID</th>\n",
       "      <th>State_ID</th>\n",
       "      <th>Employee_code_ID</th>\n",
       "      <th>Employment.Type_Self employed</th>\n",
       "      <th>PERFORM_CNS.SCORE.DESCRIPTION</th>\n",
       "    </tr>\n",
       "  </thead>\n",
       "  <tbody>\n",
       "    <tr>\n",
       "      <th>499</th>\n",
       "      <td>-0.039835</td>\n",
       "      <td>-0.043817</td>\n",
       "      <td>4.132346</td>\n",
       "      <td>-1.381358</td>\n",
       "      <td>-0.457804</td>\n",
       "      <td>-0.29245</td>\n",
       "      <td>-0.056316</td>\n",
       "      <td>-0.020784</td>\n",
       "      <td>1</td>\n",
       "      <td>0</td>\n",
       "      <td>-0.012638</td>\n",
       "      <td>-0.004586</td>\n",
       "      <td>-0.223803</td>\n",
       "      <td>-0.00326</td>\n",
       "      <td>-0.03102</td>\n",
       "      <td>-0.002388</td>\n",
       "      <td>1</td>\n",
       "      <td>0.485943</td>\n",
       "    </tr>\n",
       "  </tbody>\n",
       "</table>\n",
       "</div>"
      ],
      "text/plain": [
       "     SEC.SANCTIONED.AMOUNT  PRI.DISBURSED.AMOUNT  PRI.NO.OF.ACCTS  \\\n",
       "499              -0.039835             -0.043817         4.132346   \n",
       "\n",
       "     disbursed_amount  AVERAGE.ACCT.AGE  NO.OF_INQUIRIES  PRIMARY.INSTAL.AMT  \\\n",
       "499         -1.381358         -0.457804         -0.29245           -0.056316   \n",
       "\n",
       "     SEC.INSTAL.AMT  Aadhar_flag  VoterID_flag  branch_id  supplier_id  \\\n",
       "499       -0.020784            1             0  -0.012638    -0.004586   \n",
       "\n",
       "     manufacturer_id  Current_pincode_ID  State_ID  Employee_code_ID  \\\n",
       "499        -0.223803            -0.00326  -0.03102         -0.002388   \n",
       "\n",
       "     Employment.Type_Self employed  PERFORM_CNS.SCORE.DESCRIPTION  \n",
       "499                              1                       0.485943  "
      ]
     },
     "execution_count": 72,
     "metadata": {},
     "output_type": "execute_result"
    }
   ],
   "source": [
    "X_train.tail(1)"
   ]
  },
  {
   "cell_type": "code",
   "execution_count": 73,
   "metadata": {},
   "outputs": [
    {
     "data": {
      "text/html": [
       "<div>\n",
       "<style scoped>\n",
       "    .dataframe tbody tr th:only-of-type {\n",
       "        vertical-align: middle;\n",
       "    }\n",
       "\n",
       "    .dataframe tbody tr th {\n",
       "        vertical-align: top;\n",
       "    }\n",
       "\n",
       "    .dataframe thead th {\n",
       "        text-align: right;\n",
       "    }\n",
       "</style>\n",
       "<table border=\"1\" class=\"dataframe\">\n",
       "  <thead>\n",
       "    <tr style=\"text-align: right;\">\n",
       "      <th></th>\n",
       "      <th>SEC.SANCTIONED.AMOUNT</th>\n",
       "      <th>PRI.DISBURSED.AMOUNT</th>\n",
       "      <th>PRI.NO.OF.ACCTS</th>\n",
       "      <th>disbursed_amount</th>\n",
       "      <th>AVERAGE.ACCT.AGE</th>\n",
       "      <th>NO.OF_INQUIRIES</th>\n",
       "      <th>PRIMARY.INSTAL.AMT</th>\n",
       "      <th>SEC.INSTAL.AMT</th>\n",
       "      <th>Aadhar_flag</th>\n",
       "      <th>VoterID_flag</th>\n",
       "      <th>branch_id</th>\n",
       "      <th>supplier_id</th>\n",
       "      <th>manufacturer_id</th>\n",
       "      <th>Current_pincode_ID</th>\n",
       "      <th>State_ID</th>\n",
       "      <th>Employee_code_ID</th>\n",
       "      <th>Employment.Type_Self employed</th>\n",
       "      <th>PERFORM_CNS.SCORE.DESCRIPTION</th>\n",
       "    </tr>\n",
       "  </thead>\n",
       "  <tbody>\n",
       "    <tr>\n",
       "      <th>500</th>\n",
       "      <td>-0.039835</td>\n",
       "      <td>-0.073206</td>\n",
       "      <td>-0.276131</td>\n",
       "      <td>1.674622</td>\n",
       "      <td>-0.524001</td>\n",
       "      <td>-0.29245</td>\n",
       "      <td>-0.086581</td>\n",
       "      <td>-0.020784</td>\n",
       "      <td>1</td>\n",
       "      <td>0</td>\n",
       "      <td>-0.012638</td>\n",
       "      <td>-0.004586</td>\n",
       "      <td>-0.223803</td>\n",
       "      <td>-0.00326</td>\n",
       "      <td>-0.03102</td>\n",
       "      <td>-0.002388</td>\n",
       "      <td>0</td>\n",
       "      <td>0.485943</td>\n",
       "    </tr>\n",
       "  </tbody>\n",
       "</table>\n",
       "</div>"
      ],
      "text/plain": [
       "     SEC.SANCTIONED.AMOUNT  PRI.DISBURSED.AMOUNT  PRI.NO.OF.ACCTS  \\\n",
       "500              -0.039835             -0.073206        -0.276131   \n",
       "\n",
       "     disbursed_amount  AVERAGE.ACCT.AGE  NO.OF_INQUIRIES  PRIMARY.INSTAL.AMT  \\\n",
       "500          1.674622         -0.524001         -0.29245           -0.086581   \n",
       "\n",
       "     SEC.INSTAL.AMT  Aadhar_flag  VoterID_flag  branch_id  supplier_id  \\\n",
       "500       -0.020784            1             0  -0.012638    -0.004586   \n",
       "\n",
       "     manufacturer_id  Current_pincode_ID  State_ID  Employee_code_ID  \\\n",
       "500        -0.223803            -0.00326  -0.03102         -0.002388   \n",
       "\n",
       "     Employment.Type_Self employed  PERFORM_CNS.SCORE.DESCRIPTION  \n",
       "500                              0                       0.485943  "
      ]
     },
     "execution_count": 73,
     "metadata": {},
     "output_type": "execute_result"
    }
   ],
   "source": [
    "X_test.head(1)"
   ]
  },
  {
   "cell_type": "markdown",
   "metadata": {},
   "source": [
    "**Defining the Autoencoder network:** <br>\n",
    "We use a 3 layer neural network: First layer has 10 nodes, middle layer has 2 nodes, and third layer has 10 nodes. We use the mean square error as loss function, and train the model using the “Adam” optimizer."
   ]
  },
  {
   "cell_type": "code",
   "execution_count": 74,
   "metadata": {},
   "outputs": [],
   "source": [
    "seed(10)\n",
    "set_random_seed(10)\n",
    "act_func = 'elu'\n",
    "\n",
    "# Input layer:\n",
    "model=Sequential()\n",
    "# First hidden layer, connected to input vector X. \n",
    "model.add(Dense(10,activation=act_func,\n",
    "                kernel_initializer='glorot_uniform',\n",
    "                kernel_regularizer=regularizers.l2(0.0),\n",
    "                input_shape=(X_train.shape[1],)\n",
    "               )\n",
    "         )\n",
    "\n",
    "model.add(Dense(2,activation=act_func,\n",
    "                kernel_initializer='glorot_uniform'))\n",
    "\n",
    "model.add(Dense(10,activation=act_func,\n",
    "                kernel_initializer='glorot_uniform'))\n",
    "\n",
    "model.add(Dense(X_train.shape[1],\n",
    "                kernel_initializer='glorot_uniform'))\n",
    "\n",
    "model.compile(loss='mse',optimizer='adam')\n",
    "\n",
    "# Train model for 100 epochs, batch size of 10: \n",
    "NUM_EPOCHS=100\n",
    "BATCH_SIZE=10"
   ]
  },
  {
   "cell_type": "markdown",
   "metadata": {},
   "source": [
    "**Fitting the model:**<br>\n",
    "To keep track of the accuracy during training, we use 5% of the training data for validation after each epoch <br>(validation_split = 0.05)"
   ]
  },
  {
   "cell_type": "code",
   "execution_count": 75,
   "metadata": {},
   "outputs": [
    {
     "name": "stdout",
     "output_type": "stream",
     "text": [
      "Train on 475 samples, validate on 25 samples\n",
      "Epoch 1/100\n",
      "475/475 [==============================] - 0s 539us/step - loss: 0.5812 - val_loss: 0.3043\n",
      "Epoch 2/100\n",
      "475/475 [==============================] - 0s 164us/step - loss: 0.5049 - val_loss: 0.2738\n",
      "Epoch 3/100\n",
      "475/475 [==============================] - 0s 173us/step - loss: 0.4599 - val_loss: 0.2511\n",
      "Epoch 4/100\n",
      "475/475 [==============================] - 0s 170us/step - loss: 0.4264 - val_loss: 0.2337\n",
      "Epoch 5/100\n",
      "475/475 [==============================] - 0s 161us/step - loss: 0.4015 - val_loss: 0.2200\n",
      "Epoch 6/100\n",
      "475/475 [==============================] - 0s 159us/step - loss: 0.3825 - val_loss: 0.2092\n",
      "Epoch 7/100\n",
      "475/475 [==============================] - 0s 171us/step - loss: 0.3681 - val_loss: 0.1997\n",
      "Epoch 8/100\n",
      "475/475 [==============================] - 0s 167us/step - loss: 0.3556 - val_loss: 0.1905\n",
      "Epoch 9/100\n",
      "475/475 [==============================] - 0s 158us/step - loss: 0.3439 - val_loss: 0.1799\n",
      "Epoch 10/100\n",
      "475/475 [==============================] - 0s 162us/step - loss: 0.3337 - val_loss: 0.1705\n",
      "Epoch 11/100\n",
      "475/475 [==============================] - 0s 176us/step - loss: 0.3214 - val_loss: 0.1594\n",
      "Epoch 12/100\n",
      "475/475 [==============================] - 0s 165us/step - loss: 0.3098 - val_loss: 0.1528\n",
      "Epoch 13/100\n",
      "475/475 [==============================] - 0s 173us/step - loss: 0.3000 - val_loss: 0.1447\n",
      "Epoch 14/100\n",
      "475/475 [==============================] - 0s 164us/step - loss: 0.2915 - val_loss: 0.1397\n",
      "Epoch 15/100\n",
      "475/475 [==============================] - 0s 166us/step - loss: 0.2841 - val_loss: 0.1372\n",
      "Epoch 16/100\n",
      "475/475 [==============================] - 0s 161us/step - loss: 0.2779 - val_loss: 0.1343\n",
      "Epoch 17/100\n",
      "475/475 [==============================] - 0s 168us/step - loss: 0.2724 - val_loss: 0.1329\n",
      "Epoch 18/100\n",
      "475/475 [==============================] - 0s 168us/step - loss: 0.2673 - val_loss: 0.1329\n",
      "Epoch 19/100\n",
      "475/475 [==============================] - 0s 163us/step - loss: 0.2626 - val_loss: 0.1301\n",
      "Epoch 20/100\n",
      "475/475 [==============================] - 0s 164us/step - loss: 0.2580 - val_loss: 0.1291\n",
      "Epoch 21/100\n",
      "475/475 [==============================] - 0s 245us/step - loss: 0.2534 - val_loss: 0.1289\n",
      "Epoch 22/100\n",
      "475/475 [==============================] - 0s 214us/step - loss: 0.2487 - val_loss: 0.1272\n",
      "Epoch 23/100\n",
      "475/475 [==============================] - 0s 166us/step - loss: 0.2438 - val_loss: 0.1282\n",
      "Epoch 24/100\n",
      "475/475 [==============================] - 0s 167us/step - loss: 0.2388 - val_loss: 0.1275\n",
      "Epoch 25/100\n",
      "475/475 [==============================] - 0s 174us/step - loss: 0.2341 - val_loss: 0.1279\n",
      "Epoch 26/100\n",
      "475/475 [==============================] - 0s 222us/step - loss: 0.2284 - val_loss: 0.1255\n",
      "Epoch 27/100\n",
      "475/475 [==============================] - 0s 277us/step - loss: 0.2229 - val_loss: 0.1289\n",
      "Epoch 28/100\n",
      "475/475 [==============================] - 0s 211us/step - loss: 0.2159 - val_loss: 0.1279\n",
      "Epoch 29/100\n",
      "475/475 [==============================] - 0s 185us/step - loss: 0.2106 - val_loss: 0.1274\n",
      "Epoch 30/100\n",
      "475/475 [==============================] - 0s 174us/step - loss: 0.2034 - val_loss: 0.1291\n",
      "Epoch 31/100\n",
      "475/475 [==============================] - 0s 167us/step - loss: 0.1955 - val_loss: 0.1282\n",
      "Epoch 32/100\n",
      "475/475 [==============================] - 0s 179us/step - loss: 0.1879 - val_loss: 0.1287\n",
      "Epoch 33/100\n",
      "475/475 [==============================] - 0s 172us/step - loss: 0.1803 - val_loss: 0.1305\n",
      "Epoch 34/100\n",
      "475/475 [==============================] - 0s 174us/step - loss: 0.1724 - val_loss: 0.1309\n",
      "Epoch 35/100\n",
      "475/475 [==============================] - 0s 178us/step - loss: 0.1641 - val_loss: 0.1289\n",
      "Epoch 36/100\n",
      "475/475 [==============================] - 0s 175us/step - loss: 0.1567 - val_loss: 0.1302\n",
      "Epoch 37/100\n",
      "475/475 [==============================] - 0s 175us/step - loss: 0.1493 - val_loss: 0.1305\n",
      "Epoch 38/100\n",
      "475/475 [==============================] - 0s 165us/step - loss: 0.1426 - val_loss: 0.1303\n",
      "Epoch 39/100\n",
      "475/475 [==============================] - 0s 173us/step - loss: 0.1367 - val_loss: 0.1289\n",
      "Epoch 40/100\n",
      "475/475 [==============================] - 0s 172us/step - loss: 0.1318 - val_loss: 0.1302\n",
      "Epoch 41/100\n",
      "475/475 [==============================] - 0s 181us/step - loss: 0.1278 - val_loss: 0.1279\n",
      "Epoch 42/100\n",
      "475/475 [==============================] - 0s 177us/step - loss: 0.1242 - val_loss: 0.1277\n",
      "Epoch 43/100\n",
      "475/475 [==============================] - 0s 175us/step - loss: 0.1218 - val_loss: 0.1280\n",
      "Epoch 44/100\n",
      "475/475 [==============================] - 0s 215us/step - loss: 0.1206 - val_loss: 0.1256\n",
      "Epoch 45/100\n",
      "475/475 [==============================] - 0s 290us/step - loss: 0.1193 - val_loss: 0.1248\n",
      "Epoch 46/100\n",
      "475/475 [==============================] - 0s 273us/step - loss: 0.1181 - val_loss: 0.1243\n",
      "Epoch 47/100\n",
      "475/475 [==============================] - 0s 184us/step - loss: 0.1172 - val_loss: 0.1239\n",
      "Epoch 48/100\n",
      "475/475 [==============================] - 0s 169us/step - loss: 0.1164 - val_loss: 0.1232\n",
      "Epoch 49/100\n",
      "475/475 [==============================] - 0s 171us/step - loss: 0.1156 - val_loss: 0.1234\n",
      "Epoch 50/100\n",
      "475/475 [==============================] - 0s 177us/step - loss: 0.1151 - val_loss: 0.1229\n",
      "Epoch 51/100\n",
      "475/475 [==============================] - 0s 199us/step - loss: 0.1147 - val_loss: 0.1221\n",
      "Epoch 52/100\n",
      "475/475 [==============================] - 0s 182us/step - loss: 0.1142 - val_loss: 0.1222\n",
      "Epoch 53/100\n",
      "475/475 [==============================] - 0s 200us/step - loss: 0.1136 - val_loss: 0.1220\n",
      "Epoch 54/100\n",
      "475/475 [==============================] - 0s 180us/step - loss: 0.1130 - val_loss: 0.1219\n",
      "Epoch 55/100\n",
      "475/475 [==============================] - 0s 184us/step - loss: 0.1126 - val_loss: 0.1215\n",
      "Epoch 56/100\n",
      "475/475 [==============================] - 0s 171us/step - loss: 0.1123 - val_loss: 0.1218\n",
      "Epoch 57/100\n",
      "475/475 [==============================] - 0s 173us/step - loss: 0.1118 - val_loss: 0.1217\n",
      "Epoch 58/100\n",
      "475/475 [==============================] - 0s 178us/step - loss: 0.1114 - val_loss: 0.1213\n",
      "Epoch 59/100\n",
      "475/475 [==============================] - 0s 206us/step - loss: 0.1111 - val_loss: 0.1210\n",
      "Epoch 60/100\n",
      "475/475 [==============================] - 0s 218us/step - loss: 0.1110 - val_loss: 0.1211\n",
      "Epoch 61/100\n",
      "475/475 [==============================] - 0s 208us/step - loss: 0.1106 - val_loss: 0.1211\n",
      "Epoch 62/100\n",
      "475/475 [==============================] - 0s 184us/step - loss: 0.1104 - val_loss: 0.1201\n",
      "Epoch 63/100\n",
      "475/475 [==============================] - 0s 177us/step - loss: 0.1099 - val_loss: 0.1211\n",
      "Epoch 64/100\n",
      "475/475 [==============================] - 0s 175us/step - loss: 0.1098 - val_loss: 0.1206\n",
      "Epoch 65/100\n",
      "475/475 [==============================] - 0s 168us/step - loss: 0.1095 - val_loss: 0.1213\n",
      "Epoch 66/100\n",
      "475/475 [==============================] - 0s 182us/step - loss: 0.1091 - val_loss: 0.1206\n",
      "Epoch 67/100\n",
      "475/475 [==============================] - 0s 171us/step - loss: 0.1090 - val_loss: 0.1209\n",
      "Epoch 68/100\n",
      "475/475 [==============================] - 0s 189us/step - loss: 0.1087 - val_loss: 0.1209\n",
      "Epoch 69/100\n",
      "475/475 [==============================] - 0s 178us/step - loss: 0.1084 - val_loss: 0.1203\n",
      "Epoch 70/100\n",
      "475/475 [==============================] - 0s 277us/step - loss: 0.1083 - val_loss: 0.1210\n",
      "Epoch 71/100\n",
      "475/475 [==============================] - 0s 305us/step - loss: 0.1080 - val_loss: 0.1200\n",
      "Epoch 72/100\n",
      "475/475 [==============================] - 0s 244us/step - loss: 0.1078 - val_loss: 0.1210\n",
      "Epoch 73/100\n",
      "475/475 [==============================] - 0s 188us/step - loss: 0.1076 - val_loss: 0.1205\n",
      "Epoch 74/100\n",
      "475/475 [==============================] - 0s 176us/step - loss: 0.1076 - val_loss: 0.1211\n",
      "Epoch 75/100\n",
      "475/475 [==============================] - 0s 178us/step - loss: 0.1074 - val_loss: 0.1206\n",
      "Epoch 76/100\n",
      "475/475 [==============================] - 0s 215us/step - loss: 0.1074 - val_loss: 0.1210\n",
      "Epoch 77/100\n",
      "475/475 [==============================] - 0s 178us/step - loss: 0.1075 - val_loss: 0.1202\n",
      "Epoch 78/100\n",
      "475/475 [==============================] - 0s 197us/step - loss: 0.1077 - val_loss: 0.1207\n",
      "Epoch 79/100\n",
      "475/475 [==============================] - 0s 265us/step - loss: 0.1070 - val_loss: 0.1204\n",
      "Epoch 80/100\n",
      "475/475 [==============================] - 0s 196us/step - loss: 0.1071 - val_loss: 0.1199\n",
      "Epoch 81/100\n",
      "475/475 [==============================] - 0s 156us/step - loss: 0.1065 - val_loss: 0.1205\n",
      "Epoch 82/100\n",
      "475/475 [==============================] - 0s 162us/step - loss: 0.1064 - val_loss: 0.1203\n",
      "Epoch 83/100\n",
      "475/475 [==============================] - 0s 250us/step - loss: 0.1063 - val_loss: 0.1196\n",
      "Epoch 84/100\n",
      "475/475 [==============================] - 0s 275us/step - loss: 0.1060 - val_loss: 0.1200\n",
      "Epoch 85/100\n",
      "475/475 [==============================] - 0s 282us/step - loss: 0.1057 - val_loss: 0.1206\n",
      "Epoch 86/100\n",
      "475/475 [==============================] - 0s 197us/step - loss: 0.1057 - val_loss: 0.1202\n",
      "Epoch 87/100\n",
      "475/475 [==============================] - 0s 157us/step - loss: 0.1056 - val_loss: 0.1201\n",
      "Epoch 88/100\n",
      "475/475 [==============================] - 0s 160us/step - loss: 0.1054 - val_loss: 0.1203\n",
      "Epoch 89/100\n",
      "475/475 [==============================] - 0s 219us/step - loss: 0.1052 - val_loss: 0.1201\n",
      "Epoch 90/100\n",
      "475/475 [==============================] - 0s 171us/step - loss: 0.1050 - val_loss: 0.1199\n",
      "Epoch 91/100\n",
      "475/475 [==============================] - 0s 158us/step - loss: 0.1052 - val_loss: 0.1199\n",
      "Epoch 92/100\n",
      "475/475 [==============================] - 0s 184us/step - loss: 0.1051 - val_loss: 0.1203\n",
      "Epoch 93/100\n",
      "475/475 [==============================] - 0s 172us/step - loss: 0.1052 - val_loss: 0.1201\n",
      "Epoch 94/100\n",
      "475/475 [==============================] - 0s 164us/step - loss: 0.1049 - val_loss: 0.1198\n",
      "Epoch 95/100\n",
      "475/475 [==============================] - 0s 169us/step - loss: 0.1050 - val_loss: 0.1207\n",
      "Epoch 96/100\n",
      "475/475 [==============================] - 0s 199us/step - loss: 0.1048 - val_loss: 0.1196\n",
      "Epoch 97/100\n",
      "475/475 [==============================] - 0s 210us/step - loss: 0.1047 - val_loss: 0.1201\n",
      "Epoch 98/100\n",
      "475/475 [==============================] - 0s 176us/step - loss: 0.1042 - val_loss: 0.1204\n",
      "Epoch 99/100\n",
      "475/475 [==============================] - 0s 275us/step - loss: 0.1039 - val_loss: 0.1195\n",
      "Epoch 100/100\n",
      "475/475 [==============================] - 0s 301us/step - loss: 0.1038 - val_loss: 0.1198\n"
     ]
    }
   ],
   "source": [
    "history=model.fit(np.array(X_train),np.array(X_train),\n",
    "                  batch_size=BATCH_SIZE, \n",
    "                  epochs=NUM_EPOCHS,\n",
    "                  validation_split=0.05,\n",
    "                  verbose = 1)"
   ]
  },
  {
   "cell_type": "markdown",
   "metadata": {},
   "source": [
    "**Visualize training/validation loss:**"
   ]
  },
  {
   "cell_type": "code",
   "execution_count": 76,
   "metadata": {},
   "outputs": [
    {
     "data": {
      "image/png": "[encoded data removed]",
      "text/plain": [
       "<Figure size 432x288 with 1 Axes>"
      ]
     },
     "metadata": {
      "needs_background": "light"
     },
     "output_type": "display_data"
    }
   ],
   "source": [
    "plt.plot(history.history['loss'],'b',label='Training loss')\n",
    "plt.plot(history.history['val_loss'],'r',label='Validation loss')\n",
    "plt.legend(loc='upper right')\n",
    "plt.xlabel('Epochs')\n",
    "plt.ylabel('Loss, [mse]')\n",
    "plt.ylim([0,.7])\n",
    "plt.show()"
   ]
  },
  {
   "cell_type": "markdown",
   "metadata": {},
   "source": [
    "**Distribution of loss function in the training set:**<br>\n",
    "By plotting the distribution of the calculated loss in the training set, one can use this to identify a suitable threshold value for identifying an anomaly. In doing this, one can make sure that this threshold is set above the “noise level”, and that any flagged anomalies should be statistically significant above the noise background."
   ]
  },
  {
   "cell_type": "code",
   "execution_count": 77,
   "metadata": {},
   "outputs": [
    {
     "name": "stderr",
     "output_type": "stream",
     "text": [
      "/anaconda3/lib/python3.6/site-packages/scipy/stats/stats.py:1713: FutureWarning: Using a non-tuple sequence for multidimensional indexing is deprecated; use `arr[tuple(seq)]` instead of `arr[seq]`. In the future this will be interpreted as an array index, `arr[np.array(seq)]`, which will result either in an error or a different result.\n",
      "  return np.add.reduce(sorted[indexer] * weights, axis=axis) / sumval\n"
     ]
    },
    {
     "data": {
      "text/plain": [
       "(0.0, 0.9)"
      ]
     },
     "execution_count": 77,
     "metadata": {},
     "output_type": "execute_result"
    },
    {
     "data": {
      "image/png": "[encoded data removed]",
      "text/plain": [
       "<Figure size 432x288 with 1 Axes>"
      ]
     },
     "metadata": {
      "needs_background": "light"
     },
     "output_type": "display_data"
    }
   ],
   "source": [
    "X_pred = model.predict(np.array(X_train))\n",
    "X_pred = pd.DataFrame(X_pred, \n",
    "                      columns=X_train.columns)\n",
    "X_pred.index = X_train.index\n",
    "\n",
    "scored = pd.DataFrame(index=X_train.index)\n",
    "scored['Loss_mae'] = np.mean(np.abs(X_pred-X_train), axis = 1)\n",
    "plt.figure()\n",
    "sns.distplot(scored['Loss_mae'],\n",
    "             bins = 10, \n",
    "             kde= True,\n",
    "            color = 'blue');\n",
    "plt.xlim([0.0,.9])"
   ]
  },
  {
   "cell_type": "code",
   "execution_count": 78,
   "metadata": {},
   "outputs": [],
   "source": [
    "threshold = 0.3"
   ]
  },
  {
   "cell_type": "code",
   "execution_count": 79,
   "metadata": {},
   "outputs": [
    {
     "data": {
      "text/html": [
       "<div>\n",
       "<style scoped>\n",
       "    .dataframe tbody tr th:only-of-type {\n",
       "        vertical-align: middle;\n",
       "    }\n",
       "\n",
       "    .dataframe tbody tr th {\n",
       "        vertical-align: top;\n",
       "    }\n",
       "\n",
       "    .dataframe thead th {\n",
       "        text-align: right;\n",
       "    }\n",
       "</style>\n",
       "<table border=\"1\" class=\"dataframe\">\n",
       "  <thead>\n",
       "    <tr style=\"text-align: right;\">\n",
       "      <th></th>\n",
       "      <th>Loss_mae</th>\n",
       "      <th>Threshold</th>\n",
       "      <th>Anomaly</th>\n",
       "    </tr>\n",
       "  </thead>\n",
       "  <tbody>\n",
       "    <tr>\n",
       "      <th>500</th>\n",
       "      <td>0.259369</td>\n",
       "      <td>0.3</td>\n",
       "      <td>0</td>\n",
       "    </tr>\n",
       "    <tr>\n",
       "      <th>501</th>\n",
       "      <td>0.153464</td>\n",
       "      <td>0.3</td>\n",
       "      <td>0</td>\n",
       "    </tr>\n",
       "    <tr>\n",
       "      <th>502</th>\n",
       "      <td>0.130783</td>\n",
       "      <td>0.3</td>\n",
       "      <td>0</td>\n",
       "    </tr>\n",
       "    <tr>\n",
       "      <th>503</th>\n",
       "      <td>0.098384</td>\n",
       "      <td>0.3</td>\n",
       "      <td>0</td>\n",
       "    </tr>\n",
       "    <tr>\n",
       "      <th>504</th>\n",
       "      <td>0.118388</td>\n",
       "      <td>0.3</td>\n",
       "      <td>0</td>\n",
       "    </tr>\n",
       "  </tbody>\n",
       "</table>\n",
       "</div>"
      ],
      "text/plain": [
       "     Loss_mae  Threshold  Anomaly\n",
       "500  0.259369        0.3        0\n",
       "501  0.153464        0.3        0\n",
       "502  0.130783        0.3        0\n",
       "503  0.098384        0.3        0\n",
       "504  0.118388        0.3        0"
      ]
     },
     "execution_count": 79,
     "metadata": {},
     "output_type": "execute_result"
    }
   ],
   "source": [
    "# on test data\n",
    "X_pred = model.predict(np.array(X_test))\n",
    "X_pred = pd.DataFrame(X_pred, \n",
    "                      columns=X_test.columns)\n",
    "X_pred.index = X_test.index\n",
    "\n",
    "scored = pd.DataFrame(index=X_test.index)\n",
    "scored['Loss_mae'] = np.mean(np.abs(X_pred-X_test), axis = 1)\n",
    "scored['Threshold'] = threshold\n",
    "scored['Anomaly'] = [1 if scored['Loss_mae'][row] > scored['Threshold'][row] else 0 for row in scored.index]\n",
    "scored.head()"
   ]
  },
  {
   "cell_type": "code",
   "execution_count": 80,
   "metadata": {},
   "outputs": [
    {
     "data": {
      "text/plain": [
       "(232654, 43410, 0.18658608921402597)"
      ]
     },
     "execution_count": 80,
     "metadata": {},
     "output_type": "execute_result"
    }
   ],
   "source": [
    "scored.shape[0], scored[scored.Anomaly == True].shape[0], scored[scored.Anomaly == True].shape[0]/scored.shape[0]"
   ]
  },
  {
   "cell_type": "code",
   "execution_count": 81,
   "metadata": {},
   "outputs": [
    {
     "data": {
      "text/plain": [
       "(232654, 43410, 0.18658608921402597)"
      ]
     },
     "execution_count": 81,
     "metadata": {},
     "output_type": "execute_result"
    }
   ],
   "source": [
    "scored.shape[0], scored[scored.Anomaly == 1].shape[0], scored[scored.Anomaly == 1].shape[0]/scored.shape[0]"
   ]
  },
  {
   "cell_type": "code",
   "execution_count": 82,
   "metadata": {},
   "outputs": [],
   "source": [
    "# on train data\n",
    "X_pred_train = model.predict(np.array(X_train))\n",
    "X_pred_train = pd.DataFrame(X_pred_train, \n",
    "                      columns=X_train.columns)\n",
    "X_pred_train.index = X_train.index\n",
    "\n",
    "scored_train = pd.DataFrame(index=X_train.index)\n",
    "scored_train['Loss_mae'] = np.mean(np.abs(X_pred_train-X_train), axis = 1)\n",
    "scored_train['Threshold'] = threshold\n",
    "scored_train['Anomaly'] = [1 if scored_train['Loss_mae'][row] > scored_train['Threshold'][row] else 0 for row in scored_train.index]\n",
    "scored = pd.concat([scored_train, scored])"
   ]
  },
  {
   "cell_type": "code",
   "execution_count": 83,
   "metadata": {},
   "outputs": [
    {
     "data": {
      "text/plain": [
       "(233154, 43432, 0.18628031258309957)"
      ]
     },
     "execution_count": 83,
     "metadata": {},
     "output_type": "execute_result"
    }
   ],
   "source": [
    "scored.shape[0], scored[scored.Anomaly == 1].shape[0], scored[scored.Anomaly == 1].shape[0]/scored.shape[0]"
   ]
  },
  {
   "cell_type": "code",
   "execution_count": 84,
   "metadata": {},
   "outputs": [],
   "source": [
    "scored['loan_default'] = df['loan_default']"
   ]
  },
  {
   "cell_type": "code",
   "execution_count": 85,
   "metadata": {},
   "outputs": [
    {
     "data": {
      "text/plain": [
       "(233154, 50611, 0.2170711203753742)"
      ]
     },
     "execution_count": 85,
     "metadata": {},
     "output_type": "execute_result"
    }
   ],
   "source": [
    "scored.shape[0], scored[scored.loan_default == 1].shape[0], scored[scored.loan_default == 1].shape[0]/scored.shape[0]"
   ]
  },
  {
   "cell_type": "code",
   "execution_count": 86,
   "metadata": {},
   "outputs": [
    {
     "data": {
      "text/plain": [
       "array([[149767,  32776],\n",
       "       [ 39955,  10656]])"
      ]
     },
     "execution_count": 86,
     "metadata": {},
     "output_type": "execute_result"
    }
   ],
   "source": [
    "# confusion matrix to evaluate anomaly and defaulter overlap\n",
    "confusion_matrix(scored['loan_default'], scored['Anomaly'],[0,1])"
   ]
  },
  {
   "cell_type": "code",
   "execution_count": 87,
   "metadata": {},
   "outputs": [
    {
     "name": "stdout",
     "output_type": "stream",
     "text": [
      "              precision    recall  f1-score   support\n",
      "\n",
      "           0       0.79      0.82      0.80    182543\n",
      "           1       0.25      0.21      0.23     50611\n",
      "\n",
      "   micro avg       0.69      0.69      0.69    233154\n",
      "   macro avg       0.52      0.52      0.52    233154\n",
      "weighted avg       0.67      0.69      0.68    233154\n",
      "\n"
     ]
    }
   ],
   "source": [
    "print(classification_report(scored['loan_default'], scored['Anomaly']))"
   ]
  },
  {
   "cell_type": "code",
   "execution_count": 88,
   "metadata": {},
   "outputs": [
    {
     "data": {
      "text/plain": [
       "0.21056687281421035"
      ]
     },
     "execution_count": 88,
     "metadata": {},
     "output_type": "execute_result"
    }
   ],
   "source": [
    "10657/(39954+10657)"
   ]
  },
  {
   "cell_type": "code",
   "execution_count": 89,
   "metadata": {},
   "outputs": [
    {
     "data": {
      "text/plain": [
       "(233154, 4)"
      ]
     },
     "execution_count": 89,
     "metadata": {},
     "output_type": "execute_result"
    }
   ],
   "source": [
    "scored.shape"
   ]
  },
  {
   "cell_type": "markdown",
   "metadata": {},
   "source": [
    "**DBSCAN clustering:** <br>\n",
    "link: https://scikit-learn.org/stable/auto_examples/cluster/plot_dbscan.html<br>\n",
    "viz:  https://www.naftaliharris.com/blog/visualizing-dbscan-clustering/<br>\n",
    "**HDBSCAN clustering:**<br>\n",
    "Link: https://towardsdatascience.com/lightning-talk-clustering-with-hdbscan-d47b83d1b03a\n",
    "\n",
    "**eval diff clusters** <br>\n",
    "Link: https://nbviewer.jupyter.org/github/scikit-learn-contrib/hdbscan/blob/master/notebooks/Comparing%20Clustering%20Algorithms.ipynb"
   ]
  },
  {
   "cell_type": "code",
   "execution_count": 3,
   "metadata": {},
   "outputs": [],
   "source": [
    "%matplotlib inline\n",
    "from collections import Counter\n",
    "import random\n",
    "\n",
    "import numpy as np\n",
    "import matplotlib.pyplot as plt\n",
    "import pandas as pd\n",
    "import seaborn as sns\n",
    "from sklearn.cluster import KMeans, DBSCAN\n",
    "from sklearn.decomposition import PCA\n",
    "import hdbscan"
   ]
  },
  {
   "cell_type": "code",
   "execution_count": 13,
   "metadata": {},
   "outputs": [
    {
     "data": {
      "text/plain": [
       "(Index(['SEC.SANCTIONED.AMOUNT', 'PRI.DISBURSED.AMOUNT', 'PRI.NO.OF.ACCTS',\n",
       "        'disbursed_amount', 'AVERAGE.ACCT.AGE', 'NO.OF_INQUIRIES',\n",
       "        'PRIMARY.INSTAL.AMT', 'SEC.INSTAL.AMT', 'Aadhar_flag', 'VoterID_flag',\n",
       "        'branch_id', 'supplier_id', 'manufacturer_id', 'Current_pincode_ID',\n",
       "        'State_ID', 'Employee_code_ID', 'Employment.Type_Self employed',\n",
       "        'PERFORM_CNS.SCORE.DESCRIPTION'],\n",
       "       dtype='object'), (500, 18))"
      ]
     },
     "execution_count": 13,
     "metadata": {},
     "output_type": "execute_result"
    }
   ],
   "source": [
    "X_train.columns, X_train.shape"
   ]
  },
  {
   "cell_type": "code",
   "execution_count": 15,
   "metadata": {},
   "outputs": [
    {
     "data": {
      "text/plain": [
       "-0.039835     495\n",
       " 0.019869       1\n",
       " 35.039628      1\n",
       " 9.187293       1\n",
       " 0.148301       1\n",
       " 0.178559       1\n",
       "Name: SEC.SANCTIONED.AMOUNT, dtype: int64"
      ]
     },
     "execution_count": 15,
     "metadata": {},
     "output_type": "execute_result"
    }
   ],
   "source": [
    "X_train['SEC.SANCTIONED.AMOUNT'].value_counts()"
   ]
  },
  {
   "cell_type": "markdown",
   "metadata": {},
   "source": [
    "**Fit a DBSCAN estimator**"
   ]
  },
  {
   "cell_type": "code",
   "execution_count": 34,
   "metadata": {},
   "outputs": [
    {
     "name": "stdout",
     "output_type": "stream",
     "text": [
      "(233154, 18)\n",
      "Counter({10: 32226, 19: 29263, 11: 27655, 16: 25882, 2: 11962, 0: 10882, -1: 10877, 1: 7843, 5: 7772, 77: 5213, 22: 5057, 20: 4341, 23: 3951, 17: 2363, 75: 2005, 7: 1957, 14: 1924, 3: 1731, 72: 1716, 18: 1701, 24: 1679, 78: 1657, 29: 1425, 21: 1392, 53: 1389, 26: 1345, 50: 1237, 48: 1192, 86: 1142, 41: 1075, 132: 1051, 32: 876, 9: 767, 38: 706, 73: 662, 40: 631, 6: 589, 103: 586, 27: 584, 4: 561, 42: 474, 13: 454, 59: 437, 84: 437, 28: 419, 39: 417, 80: 416, 182: 400, 81: 388, 15: 351, 85: 341, 147: 306, 45: 292, 107: 291, 65: 281, 133: 268, 30: 266, 37: 264, 99: 261, 145: 253, 93: 252, 49: 248, 60: 248, 58: 238, 63: 219, 89: 219, 91: 212, 149: 207, 44: 205, 135: 203, 56: 194, 102: 188, 83: 181, 101: 171, 87: 166, 34: 164, 47: 164, 109: 147, 70: 144, 134: 143, 76: 134, 88: 132, 116: 130, 98: 127, 31: 126, 25: 125, 136: 124, 74: 123, 146: 123, 61: 121, 52: 120, 66: 120, 120: 120, 131: 110, 35: 107, 92: 106, 155: 100, 67: 99, 46: 97, 108: 97, 97: 90, 57: 87, 106: 87, 68: 85, 36: 82, 113: 77, 139: 73, 157: 68, 12: 63, 115: 63, 185: 62, 110: 60, 143: 60, 169: 60, 156: 59, 114: 58, 128: 56, 64: 54, 82: 53, 118: 53, 54: 52, 137: 51, 122: 50, 121: 48, 8: 47, 62: 47, 90: 47, 33: 44, 94: 44, 95: 44, 111: 44, 79: 42, 158: 41, 183: 34, 51: 33, 112: 33, 117: 33, 148: 33, 154: 33, 126: 32, 119: 30, 152: 27, 96: 26, 175: 26, 141: 25, 129: 25, 166: 25, 150: 23, 142: 23, 153: 23, 174: 23, 104: 22, 127: 20, 161: 20, 168: 20, 171: 20, 130: 19, 144: 19, 71: 18, 167: 17, 69: 16, 124: 16, 43: 15, 170: 15, 165: 15, 55: 14, 123: 14, 125: 14, 140: 14, 159: 14, 180: 13, 172: 13, 151: 13, 162: 13, 181: 13, 186: 13, 164: 12, 184: 12, 100: 11, 105: 11, 160: 11, 138: 11, 163: 11, 178: 11, 177: 10, 188: 10, 179: 10, 173: 10, 189: 10, 187: 10, 176: 9})\n"
     ]
    },
    {
     "data": {
      "text/plain": [
       "(None, 233154)"
      ]
     },
     "execution_count": 34,
     "metadata": {},
     "output_type": "execute_result"
    }
   ],
   "source": [
    "# Fit a DBSCAN estimator\n",
    "estimator = DBSCAN(eps=0.80, min_samples=10)\n",
    "X = df1.iloc[:,:]\n",
    "print(X.shape)\n",
    "estimator.fit(X)\n",
    "\n",
    "# Clusters are given in the labels_ attribute\n",
    "labels = estimator.labels_\n",
    "print(Counter(labels)), len(labels.tolist())"
   ]
  },
  {
   "cell_type": "code",
   "execution_count": 35,
   "metadata": {},
   "outputs": [
    {
     "data": {
      "text/plain": [
       "(233154,)"
      ]
     },
     "execution_count": 35,
     "metadata": {},
     "output_type": "execute_result"
    }
   ],
   "source": [
    "labels.shape"
   ]
  },
  {
   "cell_type": "code",
   "execution_count": 36,
   "metadata": {},
   "outputs": [],
   "source": [
    "X['db_clusters'] = labels"
   ]
  },
  {
   "cell_type": "code",
   "execution_count": 38,
   "metadata": {},
   "outputs": [
    {
     "data": {
      "text/plain": [
       " 10     32226\n",
       " 19     29263\n",
       " 11     27655\n",
       " 16     25882\n",
       " 2      11962\n",
       " 0      10882\n",
       "-1      10877\n",
       " 1       7843\n",
       " 5       7772\n",
       " 77      5213\n",
       " 22      5057\n",
       " 20      4341\n",
       " 23      3951\n",
       " 17      2363\n",
       " 75      2005\n",
       " 7       1957\n",
       " 14      1924\n",
       " 3       1731\n",
       " 72      1716\n",
       " 18      1701\n",
       " 24      1679\n",
       " 78      1657\n",
       " 29      1425\n",
       " 21      1392\n",
       " 53      1389\n",
       " 26      1345\n",
       " 50      1237\n",
       " 48      1192\n",
       " 86      1142\n",
       " 41      1075\n",
       "        ...  \n",
       " 69        16\n",
       " 43        15\n",
       " 170       15\n",
       " 165       15\n",
       " 123       14\n",
       " 140       14\n",
       " 125       14\n",
       " 159       14\n",
       " 55        14\n",
       " 181       13\n",
       " 186       13\n",
       " 151       13\n",
       " 180       13\n",
       " 162       13\n",
       " 172       13\n",
       " 184       12\n",
       " 164       12\n",
       " 160       11\n",
       " 163       11\n",
       " 105       11\n",
       " 100       11\n",
       " 178       11\n",
       " 138       11\n",
       " 173       10\n",
       " 189       10\n",
       " 188       10\n",
       " 187       10\n",
       " 179       10\n",
       " 177       10\n",
       " 176        9\n",
       "Name: db_clusters, Length: 191, dtype: int64"
      ]
     },
     "execution_count": 38,
     "metadata": {},
     "output_type": "execute_result"
    }
   ],
   "source": [
    "X.db_clusters.value_counts()"
   ]
  },
  {
   "cell_type": "code",
   "execution_count": null,
   "metadata": {},
   "outputs": [],
   "source": []
  },
  {
   "cell_type": "code",
   "execution_count": 90,
   "metadata": {},
   "outputs": [],
   "source": [
    "X['anomaly'] = scored['Anomaly']\n",
    "X['loan_default'] = df['loan_default']"
   ]
  },
  {
   "cell_type": "code",
   "execution_count": 91,
   "metadata": {},
   "outputs": [
    {
     "data": {
      "text/html": [
       "<div>\n",
       "<style scoped>\n",
       "    .dataframe tbody tr th:only-of-type {\n",
       "        vertical-align: middle;\n",
       "    }\n",
       "\n",
       "    .dataframe tbody tr th {\n",
       "        vertical-align: top;\n",
       "    }\n",
       "\n",
       "    .dataframe thead th {\n",
       "        text-align: right;\n",
       "    }\n",
       "</style>\n",
       "<table border=\"1\" class=\"dataframe\">\n",
       "  <thead>\n",
       "    <tr style=\"text-align: right;\">\n",
       "      <th></th>\n",
       "      <th>SEC.SANCTIONED.AMOUNT</th>\n",
       "      <th>PRI.DISBURSED.AMOUNT</th>\n",
       "      <th>PRI.NO.OF.ACCTS</th>\n",
       "      <th>disbursed_amount</th>\n",
       "      <th>AVERAGE.ACCT.AGE</th>\n",
       "      <th>NO.OF_INQUIRIES</th>\n",
       "      <th>PRIMARY.INSTAL.AMT</th>\n",
       "      <th>SEC.INSTAL.AMT</th>\n",
       "      <th>Aadhar_flag</th>\n",
       "      <th>VoterID_flag</th>\n",
       "      <th>...</th>\n",
       "      <th>supplier_id</th>\n",
       "      <th>manufacturer_id</th>\n",
       "      <th>Current_pincode_ID</th>\n",
       "      <th>State_ID</th>\n",
       "      <th>Employee_code_ID</th>\n",
       "      <th>Employment.Type_Self employed</th>\n",
       "      <th>PERFORM_CNS.SCORE.DESCRIPTION</th>\n",
       "      <th>db_clusters</th>\n",
       "      <th>loan_default</th>\n",
       "      <th>anomaly</th>\n",
       "    </tr>\n",
       "  </thead>\n",
       "  <tbody>\n",
       "    <tr>\n",
       "      <th>0</th>\n",
       "      <td>-0.039835</td>\n",
       "      <td>-0.091711</td>\n",
       "      <td>-0.467804</td>\n",
       "      <td>-0.291335</td>\n",
       "      <td>-0.590198</td>\n",
       "      <td>-0.292450</td>\n",
       "      <td>-0.086581</td>\n",
       "      <td>-0.020784</td>\n",
       "      <td>1</td>\n",
       "      <td>0</td>\n",
       "      <td>...</td>\n",
       "      <td>-0.004586</td>\n",
       "      <td>0.762134</td>\n",
       "      <td>-0.00326</td>\n",
       "      <td>-0.03102</td>\n",
       "      <td>-0.002388</td>\n",
       "      <td>0</td>\n",
       "      <td>-0.502999</td>\n",
       "      <td>0</td>\n",
       "      <td>0</td>\n",
       "      <td>0</td>\n",
       "    </tr>\n",
       "    <tr>\n",
       "      <th>1</th>\n",
       "      <td>-0.039835</td>\n",
       "      <td>-0.070599</td>\n",
       "      <td>-0.276131</td>\n",
       "      <td>-0.555997</td>\n",
       "      <td>0.932337</td>\n",
       "      <td>-0.292450</td>\n",
       "      <td>-0.073427</td>\n",
       "      <td>-0.020784</td>\n",
       "      <td>1</td>\n",
       "      <td>0</td>\n",
       "      <td>...</td>\n",
       "      <td>-0.004586</td>\n",
       "      <td>0.762134</td>\n",
       "      <td>-0.00326</td>\n",
       "      <td>-0.03102</td>\n",
       "      <td>-0.002388</td>\n",
       "      <td>1</td>\n",
       "      <td>0.536019</td>\n",
       "      <td>1</td>\n",
       "      <td>1</td>\n",
       "      <td>0</td>\n",
       "    </tr>\n",
       "    <tr>\n",
       "      <th>2</th>\n",
       "      <td>-0.039835</td>\n",
       "      <td>-0.091711</td>\n",
       "      <td>-0.467804</td>\n",
       "      <td>-0.083183</td>\n",
       "      <td>-0.590198</td>\n",
       "      <td>-0.292450</td>\n",
       "      <td>-0.086581</td>\n",
       "      <td>-0.020784</td>\n",
       "      <td>1</td>\n",
       "      <td>0</td>\n",
       "      <td>...</td>\n",
       "      <td>-0.004586</td>\n",
       "      <td>0.762134</td>\n",
       "      <td>-0.00326</td>\n",
       "      <td>-0.03102</td>\n",
       "      <td>-0.002388</td>\n",
       "      <td>1</td>\n",
       "      <td>-0.502999</td>\n",
       "      <td>2</td>\n",
       "      <td>0</td>\n",
       "      <td>0</td>\n",
       "    </tr>\n",
       "    <tr>\n",
       "      <th>3</th>\n",
       "      <td>-0.039835</td>\n",
       "      <td>-0.091711</td>\n",
       "      <td>0.107215</td>\n",
       "      <td>0.243307</td>\n",
       "      <td>-0.060621</td>\n",
       "      <td>1.122986</td>\n",
       "      <td>-0.086376</td>\n",
       "      <td>-0.020784</td>\n",
       "      <td>1</td>\n",
       "      <td>0</td>\n",
       "      <td>...</td>\n",
       "      <td>-0.004586</td>\n",
       "      <td>0.762134</td>\n",
       "      <td>-0.00326</td>\n",
       "      <td>-0.03102</td>\n",
       "      <td>-0.002388</td>\n",
       "      <td>1</td>\n",
       "      <td>0.495388</td>\n",
       "      <td>3</td>\n",
       "      <td>1</td>\n",
       "      <td>0</td>\n",
       "    </tr>\n",
       "    <tr>\n",
       "      <th>4</th>\n",
       "      <td>-0.039835</td>\n",
       "      <td>-0.091711</td>\n",
       "      <td>-0.467804</td>\n",
       "      <td>-0.152567</td>\n",
       "      <td>-0.590198</td>\n",
       "      <td>1.122986</td>\n",
       "      <td>-0.086581</td>\n",
       "      <td>-0.020784</td>\n",
       "      <td>1</td>\n",
       "      <td>0</td>\n",
       "      <td>...</td>\n",
       "      <td>-0.004586</td>\n",
       "      <td>0.762134</td>\n",
       "      <td>-0.00326</td>\n",
       "      <td>-0.03102</td>\n",
       "      <td>-0.002388</td>\n",
       "      <td>1</td>\n",
       "      <td>-0.502999</td>\n",
       "      <td>4</td>\n",
       "      <td>1</td>\n",
       "      <td>0</td>\n",
       "    </tr>\n",
       "  </tbody>\n",
       "</table>\n",
       "<p>5 rows × 21 columns</p>\n",
       "</div>"
      ],
      "text/plain": [
       "   SEC.SANCTIONED.AMOUNT  PRI.DISBURSED.AMOUNT  PRI.NO.OF.ACCTS  \\\n",
       "0              -0.039835             -0.091711        -0.467804   \n",
       "1              -0.039835             -0.070599        -0.276131   \n",
       "2              -0.039835             -0.091711        -0.467804   \n",
       "3              -0.039835             -0.091711         0.107215   \n",
       "4              -0.039835             -0.091711        -0.467804   \n",
       "\n",
       "   disbursed_amount  AVERAGE.ACCT.AGE  NO.OF_INQUIRIES  PRIMARY.INSTAL.AMT  \\\n",
       "0         -0.291335         -0.590198        -0.292450           -0.086581   \n",
       "1         -0.555997          0.932337        -0.292450           -0.073427   \n",
       "2         -0.083183         -0.590198        -0.292450           -0.086581   \n",
       "3          0.243307         -0.060621         1.122986           -0.086376   \n",
       "4         -0.152567         -0.590198         1.122986           -0.086581   \n",
       "\n",
       "   SEC.INSTAL.AMT  Aadhar_flag  VoterID_flag   ...     supplier_id  \\\n",
       "0       -0.020784            1             0   ...       -0.004586   \n",
       "1       -0.020784            1             0   ...       -0.004586   \n",
       "2       -0.020784            1             0   ...       -0.004586   \n",
       "3       -0.020784            1             0   ...       -0.004586   \n",
       "4       -0.020784            1             0   ...       -0.004586   \n",
       "\n",
       "   manufacturer_id  Current_pincode_ID  State_ID  Employee_code_ID  \\\n",
       "0         0.762134            -0.00326  -0.03102         -0.002388   \n",
       "1         0.762134            -0.00326  -0.03102         -0.002388   \n",
       "2         0.762134            -0.00326  -0.03102         -0.002388   \n",
       "3         0.762134            -0.00326  -0.03102         -0.002388   \n",
       "4         0.762134            -0.00326  -0.03102         -0.002388   \n",
       "\n",
       "   Employment.Type_Self employed  PERFORM_CNS.SCORE.DESCRIPTION  db_clusters  \\\n",
       "0                              0                      -0.502999            0   \n",
       "1                              1                       0.536019            1   \n",
       "2                              1                      -0.502999            2   \n",
       "3                              1                       0.495388            3   \n",
       "4                              1                      -0.502999            4   \n",
       "\n",
       "   loan_default  anomaly  \n",
       "0             0        0  \n",
       "1             1        0  \n",
       "2             0        0  \n",
       "3             1        0  \n",
       "4             1        0  \n",
       "\n",
       "[5 rows x 21 columns]"
      ]
     },
     "execution_count": 91,
     "metadata": {},
     "output_type": "execute_result"
    }
   ],
   "source": [
    "X.head()"
   ]
  },
  {
   "cell_type": "code",
   "execution_count": 93,
   "metadata": {},
   "outputs": [
    {
     "name": "stdout",
     "output_type": "stream",
     "text": [
      "0    182543\n",
      "1     50611\n",
      "Name: loan_default, dtype: int64 \n",
      " 0    189722\n",
      "1     43432\n",
      "Name: anomaly, dtype: int64\n"
     ]
    }
   ],
   "source": [
    "print(X.loan_default.value_counts(),'\\n', X.anomaly.value_counts())"
   ]
  },
  {
   "cell_type": "code",
   "execution_count": 45,
   "metadata": {},
   "outputs": [
    {
     "name": "stderr",
     "output_type": "stream",
     "text": [
      "/anaconda3/lib/python3.6/site-packages/ipykernel_launcher.py:8: UserWarning: Boolean Series key will be reindexed to match DataFrame index.\n",
      "  \n"
     ]
    },
    {
     "name": "stdout",
     "output_type": "stream",
     "text": [
      "\n",
      "*** db_clusters ***\n",
      "\n",
      " # levels: 64 \n",
      "head:\n",
      "              sum  count      mean\n",
      "db_clusters                      \n",
      "182          238    400  0.595000\n",
      "92            43    106  0.405660\n",
      "103          237    586  0.404437\n",
      "98            47    127  0.370079\n",
      "93            92    252  0.365079 \n",
      "\n",
      "tail:\n",
      "               sum  count      mean\n",
      "db_clusters                       \n",
      "2            2662  11962  0.222538\n",
      "85             75    341  0.219941\n",
      "37             58    264  0.219697\n",
      "32            191    876  0.218037\n",
      "10           7004  32226  0.217340\n"
     ]
    },
    {
     "data": {
      "image/png": "[encoded data removed]",
      "text/plain": [
       "<Figure size 1080x432 with 1 Axes>"
      ]
     },
     "metadata": {
      "needs_background": "light"
     },
     "output_type": "display_data"
    }
   ],
   "source": [
    "threshold = 0.217071\n",
    "col = 'db_clusters'\n",
    "# for col in cat_cols2:\n",
    "try:\n",
    "    grouped=X.groupby(col)['loan_default'].agg(['sum','count','mean'])\n",
    "    grouped1=grouped.sort_values(ascending=False, by= 'count')\n",
    "    grouped2=grouped1[grouped1['count']>99].sort_values(ascending=False, by= 'mean')\n",
    "    grouped3=grouped2[grouped1['mean']>threshold].sort_values(ascending=False, by= 'mean')\n",
    "    print('\\n***',col,'***\\n\\n','# levels:',grouped3.shape[0], '\\nhead:\\n',grouped3.head(),'\\n\\ntail:\\n',grouped3.tail())\n",
    "\n",
    "\n",
    "    ax = grouped3[['mean']].plot(kind='bar', figsize=(15,6));\n",
    "    ax.set_title(col, fontsize=21, y=1.01);\n",
    "    # horizontal line indicating the threshold\n",
    "    plt.axhline(y=threshold,linewidth=1, color='r')\n",
    "    plt.show();\n",
    "\n",
    "except:\n",
    "    print('\\n***',col,'***\\n\\n')"
   ]
  },
  {
   "cell_type": "code",
   "execution_count": 94,
   "metadata": {},
   "outputs": [
    {
     "data": {
      "text/plain": [
       "1    238\n",
       "0    162\n",
       "Name: loan_default, dtype: int64"
      ]
     },
     "execution_count": 94,
     "metadata": {},
     "output_type": "execute_result"
    }
   ],
   "source": [
    "X[X.db_clusters==182].loan_default.value_counts()"
   ]
  },
  {
   "cell_type": "code",
   "execution_count": 95,
   "metadata": {},
   "outputs": [
    {
     "data": {
      "text/plain": [
       "Index(['SEC.SANCTIONED.AMOUNT', 'PRI.DISBURSED.AMOUNT', 'PRI.NO.OF.ACCTS',\n",
       "       'disbursed_amount', 'AVERAGE.ACCT.AGE', 'NO.OF_INQUIRIES',\n",
       "       'PRIMARY.INSTAL.AMT', 'SEC.INSTAL.AMT', 'Aadhar_flag', 'VoterID_flag',\n",
       "       'branch_id', 'supplier_id', 'manufacturer_id', 'Current_pincode_ID',\n",
       "       'State_ID', 'Employee_code_ID', 'Employment.Type_Self employed',\n",
       "       'PERFORM_CNS.SCORE.DESCRIPTION', 'db_clusters', 'loan_default',\n",
       "       'anomaly'],\n",
       "      dtype='object')"
      ]
     },
     "execution_count": 95,
     "metadata": {},
     "output_type": "execute_result"
    }
   ],
   "source": [
    "X.columns"
   ]
  },
  {
   "cell_type": "code",
   "execution_count": 105,
   "metadata": {},
   "outputs": [],
   "source": [
    "col = 'db_clusters'\n",
    "grouped=X.groupby(col)['loan_default'].agg(['sum','count','mean'])\n",
    "grouped_filtered = grouped[(grouped['count']>99)&(grouped['mean']>0.217071)]\n",
    "selected_level = grouped_filtered.index.tolist()\n",
    "\n",
    "new_col = []\n",
    "for level in X[col]:\n",
    "    if level in selected_level:\n",
    "        new_col.append(level)\n",
    "    else:\n",
    "        new_col.append('NA')"
   ]
  },
  {
   "cell_type": "code",
   "execution_count": 106,
   "metadata": {},
   "outputs": [
    {
     "data": {
      "text/plain": [
       "233154"
      ]
     },
     "execution_count": 106,
     "metadata": {},
     "output_type": "execute_result"
    }
   ],
   "source": [
    "len(new_col)"
   ]
  },
  {
   "cell_type": "code",
   "execution_count": 109,
   "metadata": {},
   "outputs": [
    {
     "data": {
      "text/plain": [
       "65"
      ]
     },
     "execution_count": 109,
     "metadata": {},
     "output_type": "execute_result"
    }
   ],
   "source": [
    "len(Counter(new_col))"
   ]
  },
  {
   "cell_type": "code",
   "execution_count": null,
   "metadata": {},
   "outputs": [],
   "source": [
    "# X['db_clusters'] = new_col"
   ]
  },
  {
   "cell_type": "code",
   "execution_count": 115,
   "metadata": {},
   "outputs": [
    {
     "name": "stdout",
     "output_type": "stream",
     "text": [
      "(233154, 64) \n",
      " Index([  2,   3,   4,   6,   7,   9,  10,  13,  15,  18,  20,  22,  23,  24,\n",
      "        25,  26,  29,  30,  31,  32,  34,  35,  37,  38,  39,  40,  41,  48,\n",
      "        56,  59,  61,  65,  72,  73,  74,  75,  76,  77,  78,  80,  81,  84,\n",
      "        85,  86,  87,  91,  92,  93,  98,  99, 101, 102, 103, 107, 116, 120,\n",
      "       131, 132, 135, 145, 147, 149, 155, 182],\n",
      "      dtype='object')\n"
     ]
    }
   ],
   "source": [
    "df_temp = pd.get_dummies(new_col)\n",
    "df_temp = df_temp.drop(['NA'], axis=1)\n",
    "print(df_temp.shape, '\\n', df_temp.columns)"
   ]
  },
  {
   "cell_type": "code",
   "execution_count": 120,
   "metadata": {},
   "outputs": [
    {
     "data": {
      "text/plain": [
       "(233154,\n",
       " Counter({-0.12951289873513083: 1,\n",
       "          -0.1295128987351526: 136598,\n",
       "          -0.22595933381072286: 11962,\n",
       "          -0.13803901141260258: 1731,\n",
       "          -0.13215841090764108: 561,\n",
       "          -0.13229328536652674: 589,\n",
       "          -0.13923574959918042: 1957,\n",
       "          -0.1331571813628646: 767,\n",
       "          0.8640193650430948: 32226,\n",
       "          -0.13164552148154532: 454,\n",
       "          -0.13115555196133663: 351,\n",
       "          -0.13788169428831165: 1701,\n",
       "          -0.15325094960248717: 4341,\n",
       "          -0.1580283344880172: 5057,\n",
       "          -0.15076829177283219: 3951,\n",
       "          -0.1377665625741566: 1679,\n",
       "          -0.1300931505930676: 125,\n",
       "          -0.1360419061460795: 1345,\n",
       "          -0.13645105124923768: 1425,\n",
       "          -0.13075394661784184: 266,\n",
       "          -0.13009781357250896: 126,\n",
       "          -0.1336917885995435: 876,\n",
       "          -0.13027525482612595: 164,\n",
       "          -0.13000927408506802: 107,\n",
       "          -0.1307445266940597: 264,\n",
       "          -0.13285985920810503: 706,\n",
       "          -0.13146909224769743: 417,\n",
       "          -0.13249611400204545: 631,\n",
       "          -0.13467896963020004: 1075,\n",
       "          -0.13526620721080096: 1192,\n",
       "          -0.13041568229729955: 194,\n",
       "          -0.13156440063538474: 437,\n",
       "          -0.1300745020174424: 121,\n",
       "          -0.13082463933630395: 281,\n",
       "          -0.1379603091938797: 1716,\n",
       "          -0.13264622026910663: 662,\n",
       "          -0.1300838256368988: 123,\n",
       "          -0.13949260270517533: 2005,\n",
       "          -0.13013512944535477: 134,\n",
       "          -0.15910900522938992: 5213,\n",
       "          -0.1376516120885946: 1657,\n",
       "          -0.13146433045283157: 416,\n",
       "          -0.1313311401054779: 388,\n",
       "          -0.13156440063456334: 437,\n",
       "          -0.1311081762737835: 341,\n",
       "          -0.13501462481255924: 1142,\n",
       "          -0.13028460724837315: 166,\n",
       "          -0.1305000841900519: 212,\n",
       "          -0.13000461745023623: 106,\n",
       "          -0.13068803564178114: 252,\n",
       "          -0.13010247688623638: 127,\n",
       "          -0.13073039935297615: 261,\n",
       "          -0.13038757258895214: 188,\n",
       "          -0.13030799417986602: 171,\n",
       "          -0.13227882136201452: 586,\n",
       "          -0.13087181029759964: 291,\n",
       "          -0.13011646883349343: 130,\n",
       "          -0.13006984070889172: 120,\n",
       "          -0.13002324599133033: 110,\n",
       "          -0.13455914016985235: 1051,\n",
       "          -0.13045786959237668: 203,\n",
       "          -0.13069274136487127: 253,\n",
       "          -0.13094263055516933: 306,\n",
       "          -0.13047662826351625: 207,\n",
       "          -0.12997668464492032: 100,\n",
       "          -0.12951289873515254: 2,\n",
       "          -0.13138818862208557: 400}))"
      ]
     },
     "execution_count": 120,
     "metadata": {},
     "output_type": "execute_result"
    }
   ],
   "source": [
    "pca = PCA(n_components=1)\n",
    "principalComponents = pca.fit_transform(df_temp).reshape(df_temp.shape[0],).tolist()\n",
    "len(principalComponents), Counter(principalComponents)"
   ]
  },
  {
   "cell_type": "code",
   "execution_count": 121,
   "metadata": {},
   "outputs": [],
   "source": [
    "X['db_clusters_PCA'] = principalComponents"
   ]
  },
  {
   "cell_type": "code",
   "execution_count": 124,
   "metadata": {},
   "outputs": [
    {
     "data": {
      "text/plain": [
       "(Index(['SEC.SANCTIONED.AMOUNT', 'PRI.DISBURSED.AMOUNT', 'PRI.NO.OF.ACCTS',\n",
       "        'disbursed_amount', 'AVERAGE.ACCT.AGE', 'NO.OF_INQUIRIES',\n",
       "        'PRIMARY.INSTAL.AMT', 'SEC.INSTAL.AMT', 'Aadhar_flag', 'VoterID_flag',\n",
       "        'branch_id', 'supplier_id', 'manufacturer_id', 'Current_pincode_ID',\n",
       "        'State_ID', 'Employee_code_ID', 'Employment.Type_Self employed',\n",
       "        'PERFORM_CNS.SCORE.DESCRIPTION', 'db_clusters', 'loan_default',\n",
       "        'anomaly', 'db_clusters_PCA'],\n",
       "       dtype='object'), (233154, 22))"
      ]
     },
     "execution_count": 124,
     "metadata": {},
     "output_type": "execute_result"
    }
   ],
   "source": [
    "X.columns, X.shape"
   ]
  },
  {
   "cell_type": "code",
   "execution_count": 133,
   "metadata": {},
   "outputs": [
    {
     "data": {
      "text/plain": [
       "-0.130005    106\n",
       "Name: db_clusters_PCA, dtype: int64"
      ]
     },
     "execution_count": 133,
     "metadata": {},
     "output_type": "execute_result"
    }
   ],
   "source": [
    "X[X.db_clusters==92].db_clusters_PCA.value_counts()"
   ]
  },
  {
   "cell_type": "markdown",
   "metadata": {},
   "source": [
    "**Fit a HDBSCAN estimator**"
   ]
  },
  {
   "cell_type": "code",
   "execution_count": 18,
   "metadata": {},
   "outputs": [
    {
     "name": "stderr",
     "output_type": "stream",
     "text": [
      "/anaconda3/lib/python3.6/site-packages/sklearn/externals/joblib/parallel.py:268: DeprecationWarning: check_pickle is deprecated in joblib 0.12 and will be removed in 0.13\n",
      "  ' removed in 0.13', DeprecationWarning)\n",
      "/anaconda3/lib/python3.6/site-packages/sklearn/externals/joblib/parallel.py:268: DeprecationWarning: check_pickle is deprecated in joblib 0.12 and will be removed in 0.13\n",
      "  ' removed in 0.13', DeprecationWarning)\n",
      "/anaconda3/lib/python3.6/site-packages/sklearn/externals/joblib/parallel.py:268: DeprecationWarning: check_pickle is deprecated in joblib 0.12 and will be removed in 0.13\n",
      "  ' removed in 0.13', DeprecationWarning)\n",
      "/anaconda3/lib/python3.6/site-packages/sklearn/externals/joblib/parallel.py:268: DeprecationWarning: check_pickle is deprecated in joblib 0.12 and will be removed in 0.13\n",
      "  ' removed in 0.13', DeprecationWarning)\n"
     ]
    },
    {
     "name": "stdout",
     "output_type": "stream",
     "text": [
      "Counter({-1: 57410, 1107: 26197, 304: 25433, 196: 7708, 235: 7635, 61: 4196, 92: 3529, 221: 2258, 44: 1916, 40: 1707, 217: 1632, 207: 1311, 339: 1311, 30: 1261, 71: 1222, 126: 1186, 303: 1152, 165: 1088, 203: 1060, 118: 1051, 28: 982, 111: 874, 125: 818, 120: 775, 195: 718, 47: 713, 247: 618, 135: 552, 187: 545, 596: 502, 57: 499, 191: 499, 24: 432, 16: 415, 194: 398, 20: 394, 192: 374, 167: 343, 157: 342, 12: 322, 480: 318, 23: 293, 103: 286, 26: 282, 156: 268, 220: 267, 109: 266, 161: 259, 210: 255, 106: 255, 110: 252, 124: 251, 108: 243, 100: 236, 3: 234, 54: 223, 55: 212, 206: 211, 163: 204, 1655: 202, 115: 196, 1517: 193, 151: 189, 1344: 186, 1151: 185, 1602: 184, 175: 178, 359: 174, 188: 171, 97: 170, 60: 167, 8: 166, 1339: 164, 148: 164, 1685: 163, 64: 162, 1650: 159, 1370: 158, 237: 158, 168: 153, 999: 151, 1323: 149, 966: 148, 43: 147, 129: 144, 1013: 142, 95: 141, 2: 140, 281: 140, 439: 139, 1736: 136, 1485: 135, 1598: 133, 149: 133, 218: 133, 345: 131, 104: 131, 1697: 130, 1579: 130, 186: 130, 184: 129, 1539: 127, 1734: 125, 1011: 124, 1603: 123, 1025: 121, 21: 121, 101: 121, 1405: 119, 121: 119, 1345: 119, 98: 119, 1545: 117, 123: 117, 1514: 116, 1476: 115, 1595: 115, 1584: 115, 170: 115, 17: 115, 1257: 114, 1572: 114, 1491: 113, 1297: 112, 193: 111, 1263: 110, 45: 110, 1163: 110, 1616: 110, 227: 110, 1094: 109, 13: 109, 1400: 108, 398: 108, 1588: 107, 1259: 107, 6: 104, 52: 104, 1467: 103, 1703: 103, 1190: 102, 1671: 102, 1060: 101, 1503: 101, 325: 101, 1541: 100, 277: 100, 1156: 99, 190: 99, 1714: 97, 389: 97, 1575: 97, 311: 97, 1704: 96, 962: 96, 1728: 96, 53: 96, 1437: 95, 142: 95, 1362: 94, 133: 94, 1462: 94, 529: 93, 1492: 93, 1265: 93, 1053: 93, 1526: 93, 1114: 92, 51: 91, 1610: 90, 451: 90, 1544: 90, 617: 90, 1321: 89, 1497: 89, 189: 89, 99: 88, 1589: 88, 1673: 87, 1198: 87, 1434: 87, 260: 87, 1516: 86, 276: 86, 384: 86, 137: 86, 1298: 85, 515: 85, 1185: 84, 162: 84, 334: 84, 1569: 83, 1071: 82, 984: 82, 1319: 82, 921: 81, 489: 81, 926: 81, 22: 81, 1643: 81, 1597: 80, 995: 80, 1666: 80, 1305: 80, 1258: 79, 1519: 79, 375: 79, 918: 78, 681: 78, 996: 78, 1456: 78, 907: 77, 1188: 77, 19: 77, 272: 77, 1739: 76, 781: 76, 344: 76, 1128: 75, 472: 75, 868: 75, 143: 74, 183: 73, 1172: 73, 35: 72, 1175: 72, 1203: 72, 1500: 72, 1556: 72, 160: 72, 983: 72, 1140: 72, 1355: 72, 288: 71, 1568: 71, 1551: 71, 1688: 71, 938: 71, 1426: 70, 1414: 70, 1120: 70, 1696: 70, 262: 70, 946: 70, 228: 70, 1532: 70, 1098: 69, 1054: 69, 79: 69, 1373: 69, 1089: 69, 1: 69, 46: 69, 1410: 69, 1327: 69, 932: 68, 756: 68, 789: 68, 1419: 68, 818: 67, 830: 67, 1515: 67, 1118: 67, 11: 67, 1441: 66, 84: 66, 1097: 66, 1149: 66, 1582: 66, 870: 66, 1329: 66, 1253: 66, 1411: 66, 174: 66, 1082: 65, 1197: 65, 1235: 65, 871: 65, 498: 65, 362: 65, 456: 65, 559: 64, 1630: 64, 1065: 64, 1479: 64, 1566: 64, 1716: 64, 990: 64, 897: 64, 113: 64, 1681: 63, 1209: 63, 998: 63, 930: 63, 1601: 63, 1377: 63, 607: 63, 381: 63, 263: 63, 1045: 63, 1403: 63, 642: 62, 919: 62, 1604: 62, 928: 62, 1659: 62, 1731: 62, 1092: 61, 1284: 61, 765: 61, 279: 61, 757: 61, 1039: 61, 1055: 61, 1554: 61, 1100: 60, 940: 60, 671: 60, 1017: 60, 1115: 60, 1376: 60, 1395: 60, 287: 60, 430: 60, 1079: 60, 1508: 60, 1593: 59, 860: 59, 866: 59, 537: 59, 1194: 59, 1727: 59, 1250: 59, 603: 58, 1338: 58, 127: 58, 306: 58, 612: 58, 374: 58, 393: 58, 1623: 57, 1316: 57, 423: 57, 878: 57, 332: 57, 718: 57, 1599: 57, 1455: 57, 662: 57, 1132: 56, 953: 56, 1718: 56, 449: 56, 741: 56, 847: 56, 49: 56, 1166: 56, 1116: 56, 703: 56, 992: 56, 383: 56, 117: 56, 1127: 55, 1173: 55, 1622: 55, 1144: 55, 1035: 55, 1711: 55, 875: 55, 1620: 55, 1388: 55, 1021: 55, 635: 55, 7: 54, 790: 54, 1528: 54, 1629: 54, 169: 54, 1385: 54, 15: 54, 1269: 54, 510: 54, 1487: 54, 538: 54, 475: 54, 779: 53, 1084: 53, 748: 53, 1596: 53, 1390: 53, 803: 53, 611: 53, 1652: 53, 1399: 53, 231: 53, 729: 53, 39: 53, 1012: 52, 1111: 52, 1720: 52, 1186: 52, 1459: 52, 750: 52, 335: 52, 604: 52, 979: 52, 140: 52, 1369: 51, 1109: 51, 1700: 51, 1705: 51, 1571: 51, 202: 51, 1719: 51, 347: 51, 367: 51, 1667: 51, 1614: 51, 1402: 50, 1179: 50, 1340: 50, 368: 50, 1330: 50, 1031: 50, 1318: 50, 1335: 50, 390: 50, 1533: 50, 1292: 50, 1619: 50, 929: 50, 131: 50, 616: 50, 822: 50, 1668: 50, 434: 50, 1567: 49, 1715: 49, 1005: 49, 1000: 49, 1424: 49, 1357: 49, 562: 49, 1142: 49, 112: 49, 316: 49, 800: 49, 711: 49, 1511: 49, 1158: 49, 200: 49, 1600: 49, 659: 49, 523: 49, 1010: 48, 528: 48, 1509: 48, 945: 48, 222: 48, 606: 48, 755: 48, 565: 48, 834: 48, 1710: 48, 1657: 48, 854: 48, 771: 48, 1493: 47, 1524: 47, 1311: 47, 1679: 47, 1611: 47, 886: 47, 808: 47, 261: 47, 1723: 47, 1471: 47, 1669: 47, 87: 47, 518: 47, 1429: 47, 551: 47, 331: 47, 685: 47, 653: 47, 1088: 46, 1577: 46, 77: 46, 1294: 46, 1165: 46, 340: 46, 799: 46, 959: 46, 1273: 46, 1461: 46, 1160: 46, 481: 46, 1641: 46, 632: 46, 1421: 46, 1214: 46, 1398: 46, 1228: 46, 654: 46, 513: 46, 1349: 45, 1278: 45, 597: 45, 813: 45, 935: 45, 278: 45, 410: 45, 250: 45, 829: 45, 479: 45, 613: 45, 88: 45, 1665: 45, 1095: 44, 589: 44, 372: 44, 1155: 44, 1248: 44, 838: 44, 602: 44, 991: 44, 9: 44, 274: 44, 821: 44, 225: 44, 1656: 44, 629: 44, 1538: 44, 62: 44, 1222: 44, 708: 43, 1592: 43, 746: 43, 324: 43, 270: 43, 1208: 43, 845: 43, 809: 43, 36: 43, 330: 43, 787: 43, 464: 43, 490: 43, 1312: 43, 1527: 43, 1617: 43, 546: 43, 1529: 43, 172: 43, 516: 43, 234: 43, 584: 42, 994: 42, 761: 42, 1531: 42, 1625: 42, 726: 42, 34: 42, 1310: 42, 282: 42, 1241: 42, 310: 42, 442: 42, 254: 42, 1283: 42, 527: 42, 937: 42, 1303: 42, 1383: 42, 819: 42, 1103: 42, 86: 42, 1374: 42, 468: 42, 1560: 42, 1521: 41, 1653: 41, 504: 41, 1201: 41, 1677: 41, 1159: 41, 772: 41, 319: 41, 877: 41, 1221: 41, 128: 41, 784: 41, 433: 41, 1174: 41, 843: 41, 971: 41, 1458: 41, 553: 41, 539: 41, 1662: 41, 556: 40, 1651: 40, 570: 40, 811: 40, 1581: 40, 1139: 40, 913: 40, 939: 40, 4: 40, 841: 40, 805: 40, 185: 40, 243: 40, 405: 40, 1427: 40, 1645: 40, 1171: 40, 1193: 40, 1154: 40, 321: 40, 295: 40, 1628: 40, 476: 39, 744: 39, 700: 39, 1108: 39, 542: 39, 1342: 39, 1122: 39, 844: 39, 257: 39, 244: 39, 709: 39, 850: 39, 1473: 39, 391: 39, 238: 39, 402: 38, 725: 38, 1699: 38, 583: 38, 1032: 38, 1285: 38, 299: 38, 1147: 38, 1559: 38, 1030: 38, 1512: 38, 1016: 38, 650: 38, 1428: 38, 896: 38, 1404: 38, 199: 38, 1678: 38, 1077: 38, 545: 38, 458: 38, 1274: 38, 1513: 38, 27: 38, 1381: 38, 29: 38, 1037: 38, 93: 38, 33: 37, 1024: 37, 1632: 37, 956: 37, 1707: 37, 70: 37, 305: 37, 455: 37, 322: 37, 291: 37, 255: 37, 273: 37, 1654: 37, 664: 37, 1386: 37, 1083: 37, 693: 37, 1286: 37, 1416: 37, 354: 37, 394: 37, 502: 37, 1150: 36, 717: 36, 912: 36, 1062: 36, 705: 36, 1180: 36, 1387: 36, 1130: 36, 1573: 36, 1392: 36, 85: 36, 957: 36, 399: 36, 286: 36, 351: 36, 802: 36, 205: 36, 740: 36, 1252: 36, 1368: 36, 831: 36, 812: 36, 814: 36, 1618: 36, 491: 36, 1542: 36, 370: 36, 1638: 36, 483: 36, 1687: 36, 1146: 36, 1196: 36, 178: 36, 1433: 36, 182: 36, 63: 36, 563: 36, 147: 36, 1281: 35, 229: 35, 486: 35, 1408: 35, 592: 35, 1145: 35, 114: 35, 285: 35, 1038: 35, 259: 35, 724: 35, 776: 35, 380: 35, 470: 35, 590: 35, 950: 35, 1501: 35, 1322: 35, 1646: 35, 346: 35, 1578: 35, 1264: 35, 909: 35, 1217: 35, 640: 35, 1496: 35, 550: 35, 1028: 35, 1314: 35, 692: 35, 525: 35, 906: 34, 1505: 34, 889: 34, 266: 34, 697: 34, 1034: 34, 336: 34, 341: 34, 450: 34, 806: 34, 722: 34, 989: 34, 815: 34, 696: 34, 376: 34, 1169: 34, 555: 34, 1124: 34, 645: 34, 1534: 34, 1724: 34, 1043: 34, 1204: 34, 1348: 34, 977: 34, 1466: 34, 497: 34, 524: 34, 521: 34, 968: 33, 1307: 33, 1044: 33, 780: 33, 1439: 33, 1438: 33, 1086: 33, 1047: 33, 575: 33, 973: 33, 627: 33, 1483: 33, 530: 33, 892: 33, 1391: 33, 758: 33, 587: 33, 1548: 33, 1237: 33, 1131: 33, 1738: 33, 1674: 33, 1684: 33, 474: 33, 707: 33, 1489: 33, 355: 33, 1379: 33, 289: 33, 767: 33, 298: 33, 122: 33, 313: 33, 5: 32, 1692: 32, 1337: 32, 1295: 32, 754: 32, 987: 32, 1495: 32, 1333: 32, 1422: 32, 48: 32, 586: 32, 74: 32, 669: 32, 1562: 32, 738: 32, 967: 32, 1117: 32, 1393: 32, 1061: 32, 1475: 32, 911: 32, 485: 32, 1587: 32, 1518: 32, 1384: 32, 1308: 32, 1232: 32, 695: 32, 397: 32, 644: 32, 293: 32, 922: 31, 1183: 31, 1275: 31, 1574: 31, 1635: 31, 796: 31, 31: 31, 1367: 31, 952: 31, 290: 31, 848: 31, 241: 31, 673: 31, 506: 31, 1236: 31, 1506: 31, 382: 31, 1251: 31, 833: 31, 788: 31, 785: 31, 652: 31, 1119: 31, 1104: 31, 1680: 31, 1740: 31, 1301: 31, 302: 31, 955: 31, 543: 31, 568: 31, 1008: 31, 105: 31, 869: 31, 588: 31, 1706: 31, 891: 31, 663: 31, 352: 31, 706: 30, 1058: 30, 328: 30, 574: 30, 1069: 30, 446: 30, 1543: 30, 1725: 30, 1112: 30, 993: 30, 839: 30, 1564: 30, 1343: 30, 1238: 30, 230: 30, 211: 30, 164: 30, 768: 30, 661: 30, 1412: 30, 1067: 30, 1153: 30, 1068: 30, 501: 30, 916: 30, 679: 30, 421: 30, 861: 30, 1102: 30, 353: 30, 1325: 30, 630: 30, 1225: 30, 544: 30, 294: 30, 520: 30, 146: 30, 1205: 29, 920: 29, 1081: 29, 363: 29, 1354: 29, 1023: 29, 1042: 29, 554: 29, 1394: 29, 791: 29, 1181: 29, 899: 29, 1300: 29, 1353: 29, 1161: 29, 465: 29, 318: 29, 425: 29, 441: 29, 365: 29, 42: 29, 552: 29, 610: 29, 948: 29, 783: 29, 462: 29, 76: 29, 778: 29, 505: 29, 1366: 29, 1418: 29, 436: 29, 1001: 29, 10: 29, 1291: 29, 18: 29, 1106: 29, 902: 29, 1090: 29, 585: 29, 931: 29, 879: 29, 0: 29, 1315: 29, 1215: 29, 687: 29, 882: 29, 1536: 29, 1064: 29, 387: 29, 437: 29, 619: 29, 944: 28, 482: 28, 1570: 28, 915: 28, 770: 28, 1070: 28, 1246: 28, 1693: 28, 1637: 28, 1247: 28, 1267: 28, 308: 28, 366: 28, 38: 28, 327: 28, 572: 28, 75: 28, 499: 28, 730: 28, 469: 28, 699: 28, 440: 28, 460: 28, 522: 28, 647: 28, 488: 28, 1137: 28, 689: 28, 736: 28, 478: 28, 599: 28, 1049: 28, 976: 28, 369: 28, 1407: 28, 742: 28, 275: 28, 852: 28, 471: 28, 561: 28, 25: 28, 1430: 28, 159: 28, 1401: 27, 578: 27, 923: 27, 1609: 27, 236: 27, 1649: 27, 917: 27, 859: 27, 558: 27, 665: 27, 1360: 27, 688: 27, 1621: 27, 256: 27, 233: 27, 444: 27, 242: 27, 216: 27, 337: 27, 655: 27, 407: 27, 1020: 27, 1268: 27, 1490: 27, 667: 27, 1732: 27, 1216: 27, 982: 27, 1594: 27, 571: 27, 388: 27, 769: 27, 342: 27, 1510: 27, 701: 27, 801: 27, 1647: 27, 181: 27, 264: 27, 136: 27, 144: 27, 360: 26, 1143: 26, 107: 26, 1425: 26, 1442: 26, 1212: 26, 1255: 26, 1015: 26, 1334: 26, 1658: 26, 646: 26, 734: 26, 660: 26, 786: 26, 615: 26, 452: 26, 1249: 26, 887: 26, 626: 26, 941: 26, 531: 26, 759: 26, 573: 26, 905: 26, 1182: 26, 1698: 26, 1717: 26, 1195: 26, 1099: 26, 1480: 26, 1520: 26, 1261: 26, 1167: 26, 961: 26, 466: 26, 1234: 26, 1004: 26, 1470: 26, 1289: 26, 1606: 26, 517: 26, 694: 26, 680: 26, 69: 26, 179: 26, 1226: 26, 265: 26, 969: 25, 1105: 25, 292: 25, 1164: 25, 1187: 25, 349: 25, 1446: 25, 621: 25, 1448: 25, 997: 25, 1072: 25, 925: 25, 1535: 25, 739: 25, 1664: 25, 775: 25, 658: 25, 1007: 25, 1192: 25, 855: 25, 702: 25, 364: 25, 684: 25, 874: 25, 873: 25, 1626: 25, 1675: 25, 1210: 25, 1558: 25, 986: 25, 438: 25, 280: 25, 988: 25, 824: 25, 1033: 25, 154: 25, 1093: 24, 792: 24, 271: 24, 1075: 24, 1302: 24, 1537: 24, 541: 24, 1733: 24, 1073: 24, 66: 24, 576: 24, 379: 24, 473: 24, 1431: 24, 487: 24, 239: 24, 1580: 24, 406: 24, 557: 24, 760: 24, 329: 24, 226: 24, 594: 24, 1332: 24, 1279: 24, 1309: 24, 826: 24, 1074: 24, 795: 24, 936: 24, 417: 24, 1207: 24, 1320: 24, 842: 24, 519: 24, 1695: 24, 509: 24, 851: 24, 1101: 24, 601: 24, 301: 24, 910: 23, 960: 23, 1472: 23, 1341: 23, 1287: 23, 720: 23, 1220: 23, 500: 23, 1113: 23, 215: 23, 350: 23, 418: 23, 1229: 23, 981: 23, 223: 23, 180: 23, 549: 23, 732: 23, 1464: 23, 639: 23, 1502: 23, 1722: 23, 1270: 23, 548: 23, 1375: 23, 413: 23, 377: 23, 1488: 23, 686: 23, 715: 23, 1453: 23, 208: 23, 1451: 23, 1444: 23, 1460: 23, 1126: 23, 1591: 23, 636: 23, 1586: 23, 1168: 23, 677: 23, 714: 23, 683: 23, 1293: 23, 1254: 23, 674: 23, 1351: 23, 312: 23, 386: 23, 1689: 23, 631: 23, 90: 23, 577: 23, 96: 23, 177: 23, 37: 23, 78: 23, 591: 23, 625: 23, 512: 23, 526: 23, 609: 23, 130: 23, 1317: 22, 904: 22, 884: 22, 1296: 22, 494: 22, 1240: 22, 432: 22, 358: 22, 94: 22, 214: 22, 733: 22, 132: 22, 348: 22, 749: 22, 300: 22, 248: 22, 970: 22, 1177: 22, 1660: 22, 56: 22, 1036: 22, 569: 22, 1138: 22, 1260: 22, 1436: 22, 745: 22, 942: 22, 1276: 22, 1469: 22, 443: 22, 828: 22, 428: 22, 1607: 22, 1347: 22, 297: 22, 1230: 22, 58: 22, 1615: 22, 595: 22, 102: 22, 1702: 22, 155: 22, 1051: 21, 1729: 21, 1440: 21, 1136: 21, 927: 21, 883: 21, 924: 21, 1737: 21, 1561: 21, 888: 21, 856: 21, 1468: 21, 1435: 21, 166: 21, 735: 21, 1242: 21, 1277: 21, 1231: 21, 145: 21, 309: 21, 648: 21, 974: 21, 1066: 21, 1162: 21, 567: 21, 447: 21, 666: 21, 134: 21, 535: 21, 503: 21, 1365: 21, 81: 21, 1478: 21, 1709: 21, 1397: 21, 1087: 21, 1676: 21, 533: 21, 1449: 21, 820: 21, 580: 21, 445: 21, 201: 21, 1484: 21, 392: 21, 764: 21, 1059: 21, 649: 21, 582: 21, 797: 21, 1547: 21, 1557: 21, 1694: 21, 810: 21, 670: 21, 598: 21, 1085: 21, 1585: 21, 1613: 21, 865: 21, 853: 21, 1406: 21, 176: 21, 59: 21, 643: 21, 1608: 21, 880: 21, 980: 21, 1040: 21, 1363: 21, 408: 21, 1358: 20, 343: 20, 1690: 20, 593: 20, 1445: 20, 965: 20, 1306: 20, 267: 20, 1686: 20, 1350: 20, 1413: 20, 1378: 20, 1280: 20, 1504: 20, 224: 20, 314: 20, 284: 20, 835: 20, 419: 20, 424: 20, 1243: 20, 1029: 20, 427: 20, 536: 20, 371: 20, 951: 20, 676: 20, 620: 20, 412: 20, 657: 20, 1639: 20, 682: 20, 1003: 20, 963: 20, 1313: 20, 1450: 20, 958: 20, 1356: 20, 1605: 20, 1359: 20, 728: 20, 1417: 20, 1432: 20, 1009: 20, 863: 20, 1110: 20, 914: 20, 713: 20, 467: 20, 463: 20, 743: 20, 212: 20, 1170: 20, 1465: 20, 1288: 20, 1134: 20, 1324: 20, 1189: 20, 782: 20, 89: 20, 514: 20, 1002: 20, 731: 20, 385: 20, 903: 20, 1121: 20, 885: 20, 1218: 20, 972: 20, 823: 20, 158: 20, 138: 20, 719: 19, 1712: 19, 1672: 19, 249: 19, 1178: 19, 1184: 19, 793: 19, 1640: 19, 716: 19, 1380: 19, 1642: 19, 1213: 19, 1202: 19, 356: 19, 252: 19, 817: 19, 258: 19, 197: 19, 198: 19, 409: 19, 624: 19, 1443: 19, 1612: 19, 1157: 19, 638: 19, 1052: 19, 954: 19, 1631: 19, 1730: 19, 1331: 19, 777: 19, 435: 19, 721: 19, 949: 19, 1019: 19, 453: 19, 947: 19, 1364: 19, 1726: 19, 1361: 19, 1129: 19, 1691: 19, 668: 19, 1523: 19, 1670: 19, 268: 19, 1233: 19, 429: 19, 414: 19, 1096: 19, 1022: 19, 41: 19, 1304: 19, 73: 19, 867: 19, 1048: 19, 773: 19, 900: 19, 1227: 19, 827: 19, 540: 19, 1346: 19, 641: 19, 656: 19, 283: 19, 395: 19, 459: 19, 1420: 19, 1457: 19, 1552: 19, 1682: 19, 622: 19, 628: 19, 153: 19, 1634: 19, 618: 19, 139: 19, 152: 19, 893: 18, 1078: 18, 1152: 18, 1199: 18, 901: 18, 1553: 18, 420: 18, 704: 18, 404: 18, 411: 18, 119: 18, 333: 18, 213: 18, 763: 18, 1713: 18, 68: 18, 269: 18, 1624: 18, 317: 18, 1389: 18, 1563: 18, 1633: 18, 1133: 18, 1452: 18, 1262: 18, 1644: 18, 1271: 18, 651: 18, 727: 18, 1290: 18, 1148: 18, 245: 18, 83: 18, 448: 18, 1176: 18, 564: 18, 547: 18, 837: 18, 253: 18, 840: 18, 1223: 18, 91: 18, 1256: 18, 1701: 18, 933: 18, 1371: 18, 511: 18, 600: 18, 690: 18, 1382: 18, 895: 18, 634: 18, 862: 18, 1352: 18, 849: 18, 894: 18, 623: 18, 794: 18, 1627: 18, 1525: 18, 605: 18, 872: 18, 1477: 17, 710: 17, 1735: 17, 1454: 17, 908: 17, 323: 17, 1076: 17, 457: 17, 978: 17, 1550: 17, 422: 17, 251: 17, 338: 17, 678: 17, 858: 17, 672: 17, 461: 17, 495: 17, 1546: 17, 1683: 17, 1299: 17, 1590: 17, 723: 17, 204: 17, 752: 17, 1135: 17, 1123: 17, 1056: 17, 975: 17, 1091: 17, 1219: 17, 403: 17, 747: 17, 1328: 17, 807: 17, 1540: 17, 426: 17, 934: 17, 798: 17, 32: 17, 1530: 17, 943: 17, 1239: 17, 1663: 17, 985: 17, 1415: 17, 296: 17, 1486: 17, 171: 17, 614: 17, 400: 17, 1494: 17, 890: 17, 846: 17, 898: 17, 881: 17, 1027: 17, 774: 17, 964: 17, 1576: 17, 1555: 17, 751: 17, 737: 17, 116: 17, 712: 17, 816: 17, 396: 17, 141: 17, 232: 16, 1708: 16, 1191: 16, 1522: 16, 477: 16, 1661: 16, 1224: 16, 560: 16, 50: 16, 357: 16, 315: 16, 1041: 16, 507: 16, 454: 16, 1447: 16, 1141: 16, 1396: 16, 1006: 16, 1057: 16, 633: 16, 1282: 16, 219: 16, 493: 16, 361: 16, 1423: 16, 534: 16, 1026: 16, 1050: 16, 1326: 16, 1014: 16, 832: 16, 240: 16, 762: 16, 416: 16, 307: 16, 1244: 16, 508: 16, 637: 16, 496: 16, 326: 16, 864: 16, 1125: 16, 1245: 16, 1063: 16, 579: 16, 320: 16, 173: 16, 246: 16, 608: 16, 1080: 15, 675: 15, 1266: 15, 1272: 15, 1409: 15, 209: 15, 836: 15, 415: 15, 876: 15, 691: 15, 378: 15, 1372: 15, 1507: 15, 753: 15, 492: 15, 484: 15, 1481: 15, 67: 15, 373: 15, 1046: 15, 766: 15, 1463: 15, 857: 15, 1721: 15, 1474: 15, 1200: 15, 581: 15, 401: 15, 804: 15, 1499: 15, 1482: 15, 1018: 15, 1583: 15, 82: 15, 150: 15, 1211: 15, 1565: 15, 1498: 15, 65: 15, 1336: 15, 825: 15, 431: 15, 566: 15, 698: 15, 72: 15, 1206: 15, 1648: 15, 1636: 15, 1549: 15, 80: 15, 14: 15, 532: 15})\n"
     ]
    },
    {
     "data": {
      "text/plain": [
       "(None, 233154)"
      ]
     },
     "execution_count": 18,
     "metadata": {},
     "output_type": "execute_result"
    }
   ],
   "source": [
    "# Fit a HDBSCAN estimator\n",
    "estimator = hdbscan.HDBSCAN(min_cluster_size=15, allow_single_cluster=True)\n",
    "estimator.fit(df1)\n",
    "\n",
    "# Clusters are given in the labels_ attribute\n",
    "labels = estimator.labels_\n",
    "print(Counter(labels)), len(labels.tolist())"
   ]
  },
  {
   "cell_type": "code",
   "execution_count": 22,
   "metadata": {},
   "outputs": [
    {
     "data": {
      "text/plain": [
       "((233154, 22),\n",
       " Index(['SEC.SANCTIONED.AMOUNT', 'PRI.DISBURSED.AMOUNT', 'PRI.NO.OF.ACCTS',\n",
       "        'disbursed_amount', 'AVERAGE.ACCT.AGE', 'NO.OF_INQUIRIES',\n",
       "        'PRIMARY.INSTAL.AMT', 'SEC.INSTAL.AMT', 'Aadhar_flag', 'VoterID_flag',\n",
       "        'branch_id', 'supplier_id', 'manufacturer_id', 'Current_pincode_ID',\n",
       "        'State_ID', 'Employee_code_ID', 'Employment.Type_Self employed',\n",
       "        'PERFORM_CNS.SCORE.DESCRIPTION', 'db_clusters', 'loan_default',\n",
       "        'anomaly', 'db_clusters_PCA'],\n",
       "       dtype='object'))"
      ]
     },
     "execution_count": 22,
     "metadata": {},
     "output_type": "execute_result"
    }
   ],
   "source": [
    "X1 = pd.read_csv('loan_data_preprocessed2.csv')\n",
    "X1.shape, X1.columns"
   ]
  },
  {
   "cell_type": "code",
   "execution_count": 23,
   "metadata": {},
   "outputs": [],
   "source": [
    "X1['hdb_clusters'] = labels"
   ]
  },
  {
   "cell_type": "code",
   "execution_count": 24,
   "metadata": {},
   "outputs": [
    {
     "data": {
      "text/plain": [
       "((233154, 23),\n",
       " Index(['SEC.SANCTIONED.AMOUNT', 'PRI.DISBURSED.AMOUNT', 'PRI.NO.OF.ACCTS',\n",
       "        'disbursed_amount', 'AVERAGE.ACCT.AGE', 'NO.OF_INQUIRIES',\n",
       "        'PRIMARY.INSTAL.AMT', 'SEC.INSTAL.AMT', 'Aadhar_flag', 'VoterID_flag',\n",
       "        'branch_id', 'supplier_id', 'manufacturer_id', 'Current_pincode_ID',\n",
       "        'State_ID', 'Employee_code_ID', 'Employment.Type_Self employed',\n",
       "        'PERFORM_CNS.SCORE.DESCRIPTION', 'db_clusters', 'loan_default',\n",
       "        'anomaly', 'db_clusters_PCA', 'hdb_clusters'],\n",
       "       dtype='object'))"
      ]
     },
     "execution_count": 24,
     "metadata": {},
     "output_type": "execute_result"
    }
   ],
   "source": [
    "X1.shape, X1.columns"
   ]
  },
  {
   "cell_type": "code",
   "execution_count": 25,
   "metadata": {},
   "outputs": [
    {
     "name": "stderr",
     "output_type": "stream",
     "text": [
      "/anaconda3/lib/python3.6/site-packages/ipykernel_launcher.py:8: UserWarning: Boolean Series key will be reindexed to match DataFrame index.\n",
      "  \n"
     ]
    },
    {
     "name": "stdout",
     "output_type": "stream",
     "text": [
      "\n",
      "*** hdb_clusters ***\n",
      "\n",
      " # levels: 79 \n",
      "head:\n",
      "               sum  count      mean\n",
      "hdb_clusters                      \n",
      "277            43    100  0.430000\n",
      "218            56    133  0.421053\n",
      "167           140    343  0.408163\n",
      "2              52    140  0.371429\n",
      "3              86    234  0.367521 \n",
      "\n",
      "tail:\n",
      "               sum  count      mean\n",
      "hdb_clusters                      \n",
      "161            57    259  0.220077\n",
      "121            26    119  0.218487\n",
      "1163           24    110  0.218182\n",
      "1011           27    124  0.217742\n",
      "111           190    874  0.217391\n"
     ]
    },
    {
     "data": {
      "image/png": "[encoded data removed]",
      "text/plain": [
       "<Figure size 1080x432 with 1 Axes>"
      ]
     },
     "metadata": {
      "needs_background": "light"
     },
     "output_type": "display_data"
    }
   ],
   "source": [
    "threshold = 0.217071\n",
    "col = 'hdb_clusters'\n",
    "# for col in cat_cols2:\n",
    "try:\n",
    "    grouped=X1.groupby(col)['loan_default'].agg(['sum','count','mean'])\n",
    "    grouped1=grouped.sort_values(ascending=False, by= 'count')\n",
    "    grouped2=grouped1[grouped1['count']>99].sort_values(ascending=False, by= 'mean')\n",
    "    grouped3=grouped2[grouped1['mean']>threshold].sort_values(ascending=False, by= 'mean')\n",
    "    print('\\n***',col,'***\\n\\n','# levels:',grouped3.shape[0], '\\nhead:\\n',grouped3.head(),'\\n\\ntail:\\n',grouped3.tail())\n",
    "\n",
    "\n",
    "    ax = grouped3[['mean']].plot(kind='bar', figsize=(15,6));\n",
    "    ax.set_title(col, fontsize=21, y=1.01);\n",
    "    # horizontal line indicating the threshold\n",
    "    plt.axhline(y=threshold,linewidth=1, color='r')\n",
    "    plt.show();\n",
    "\n",
    "except:\n",
    "    print('\\n***',col,'***\\n\\n')"
   ]
  },
  {
   "cell_type": "code",
   "execution_count": 29,
   "metadata": {},
   "outputs": [],
   "source": [
    "col = 'hdb_clusters'\n",
    "grouped=X1.groupby(col)['loan_default'].agg(['sum','count','mean'])\n",
    "grouped_filtered = grouped[(grouped['count']>99)&(grouped['mean']>0.217071)]\n",
    "selected_level = grouped_filtered.index.tolist()\n",
    "\n",
    "new_col = []\n",
    "for level in X1[col]:\n",
    "    if level in selected_level:\n",
    "        new_col.append(level)\n",
    "    else:\n",
    "        new_col.append('NA')"
   ]
  },
  {
   "cell_type": "code",
   "execution_count": 30,
   "metadata": {},
   "outputs": [
    {
     "name": "stdout",
     "output_type": "stream",
     "text": [
      "(233154, 79) \n",
      " Index([  -1,    2,    3,    6,    8,   12,   13,   16,   17,   20,   21,   23,\n",
      "         24,   26,   28,   30,   40,   43,   44,   45,   47,   52,   54,   55,\n",
      "         57,   60,   61,   64,   71,   92,   97,  104,  106,  110,  111,  118,\n",
      "        120,  121,  123,  124,  125,  126,  129,  135,  148,  151,  156,  157,\n",
      "        161,  167,  175,  184,  186,  187,  188,  194,  195,  203,  217,  218,\n",
      "        220,  227,  237,  277,  325,  345,  359,  398,  480,  596, 1011, 1163,\n",
      "       1257, 1503, 1514, 1541, 1602, 1603, 1671],\n",
      "      dtype='object')\n"
     ]
    }
   ],
   "source": [
    "df_temp = pd.get_dummies(new_col)\n",
    "df_temp = df_temp.drop(['NA'], axis=1)\n",
    "print(df_temp.shape, '\\n', df_temp.columns)"
   ]
  },
  {
   "cell_type": "code",
   "execution_count": 31,
   "metadata": {},
   "outputs": [
    {
     "data": {
      "text/plain": [
       "(233154,\n",
       " Counter({-0.24460305410273733: 1,\n",
       "          -0.24460305410272443: 139068,\n",
       "          -0.25462878034060155: 1707,\n",
       "          -0.24745121796710132: 499,\n",
       "          -0.24771711678053474: 545,\n",
       "          -0.2559130587424159: 1916,\n",
       "          -0.248722264143594: 718,\n",
       "          0.7544195716363946: 57410,\n",
       "          -0.24706495017912258: 432,\n",
       "          -0.24593045774889188: 234,\n",
       "          -0.2464333876917907: 322,\n",
       "          -0.2708139150117634: 4196,\n",
       "          -0.2662782039199009: 3529,\n",
       "          -0.2516976085462301: 1222,\n",
       "          -0.24519123798072484: 208,\n",
       "          -0.2519308135902365: 1261,\n",
       "          -0.24586773580631738: 223,\n",
       "          -0.24963565958311787: 874,\n",
       "          -0.24543525679173672: 147,\n",
       "          -0.2452252579840933: 330,\n",
       "          -0.24607312670047463: 259,\n",
       "          -0.24530467471679313: 124,\n",
       "          -0.24869309918516375: 713,\n",
       "          -0.24684640838541583: 394,\n",
       "          -0.24775762974751242: 552,\n",
       "          -0.25027195018852644: 982,\n",
       "          -0.24539549970633767: 140,\n",
       "          -0.2514827252268281: 1186,\n",
       "          -0.24527630569371747: 119,\n",
       "          -0.2456456155728722: 184,\n",
       "          -0.24524794323153132: 114,\n",
       "          -0.2451685632219738: 200,\n",
       "          -0.2455432338464147: 166,\n",
       "          -0.24517990007709686: 102,\n",
       "          -0.24525928742924477: 116,\n",
       "          -0.2469671336661671: 415,\n",
       "          -0.2452990003871976: 123,\n",
       "          -0.2451742315184813: 202,\n",
       "          -0.24528765251551352: 121,\n",
       "          -0.24626742232685817: 293,\n",
       "          -0.25417105200829426: 1632,\n",
       "          -0.24612452805324356: 268,\n",
       "          -0.2493070031913156: 818,\n",
       "          -0.24541821646353987: 144,\n",
       "          -0.24602745462965062: 251,\n",
       "          -0.2468693945764241: 398,\n",
       "          -0.25073351439511443: 1060,\n",
       "          -0.24533872620806332: 130,\n",
       "          -0.24553186336684835: 164,\n",
       "          -0.24534440237572805: 262,\n",
       "          -0.2455887262978757: 174,\n",
       "          -0.24557166465328337: 171,\n",
       "          -0.24580504584871168: 212,\n",
       "          -0.24605028854564082: 255,\n",
       "          -0.24556597796521337: 170,\n",
       "          -0.24561147884557288: 178,\n",
       "          -0.24655370921963646: 343,\n",
       "          -0.24620452841006227: 282,\n",
       "          -0.24654797695885922: 342,\n",
       "          -0.2490552288010121: 775,\n",
       "          -0.24521391693407743: 108,\n",
       "          -0.2456740700950808: 189,\n",
       "          -0.2452649599216638: 117,\n",
       "          -0.24525361519920671: 115,\n",
       "          -0.2452195873279586: 109,\n",
       "          -0.24533305030303462: 129,\n",
       "          -0.25068017011786176: 1051,\n",
       "          -0.24554891948112864: 167,\n",
       "          -0.24603316271132084: 252,\n",
       "          -0.2461188157313998: 267,\n",
       "          -0.24552049394030892: 162,\n",
       "          -0.2464104826191562: 318,\n",
       "          -0.2454977582457259: 158,\n",
       "          -0.24746854179277125: 502,\n",
       "          -0.2453557554990383: 133,\n",
       "          -0.24460305410272437: 1}))"
      ]
     },
     "execution_count": 31,
     "metadata": {},
     "output_type": "execute_result"
    }
   ],
   "source": [
    "pca = PCA(n_components=1)\n",
    "principalComponents = pca.fit_transform(df_temp).reshape(df_temp.shape[0],).tolist()\n",
    "len(principalComponents), Counter(principalComponents)"
   ]
  },
  {
   "cell_type": "code",
   "execution_count": 33,
   "metadata": {},
   "outputs": [],
   "source": [
    "X1['hdb_clusters_PCA'] = principalComponents"
   ]
  },
  {
   "cell_type": "code",
   "execution_count": 34,
   "metadata": {},
   "outputs": [],
   "source": [
    "# save data for supervised learning models\n",
    "X1.to_csv('loan_data_preprocessed2.csv', index=False)"
   ]
  },
  {
   "cell_type": "code",
   "execution_count": null,
   "metadata": {},
   "outputs": [],
   "source": []
  }
 ],
 "metadata": {
  "kernelspec": {
   "display_name": "Python 3",
   "language": "python",
   "name": "python3"
  },
  "language_info": {
   "codemirror_mode": {
    "name": "ipython",
    "version": 3
   },
   "file_extension": ".py",
   "mimetype": "text/x-python",
   "name": "python",
   "nbconvert_exporter": "python",
   "pygments_lexer": "ipython3",
   "version": "3.6.7"
  }
 },
 "nbformat": 4,
 "nbformat_minor": 2
}
